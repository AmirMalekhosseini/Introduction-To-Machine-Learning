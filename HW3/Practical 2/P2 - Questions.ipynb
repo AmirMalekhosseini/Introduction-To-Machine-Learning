{
 "cells": [
  {
   "cell_type": "markdown",
   "metadata": {
    "id": "havFsrqzlXPy"
   },
   "source": [
    "# Optimization Techniques on MNIST Dataset\n",
    "This notebook explores various optimization techniques for training neural networks on the MNIST dataset. The focus will be on different optimization strategies including Adaptive Learning Rates, SGD, Mini-Batch Gradient Descent, and Learning Rate Adjustments. Each section will provide a practical task related to these techniques."
   ]
  },
  {
   "cell_type": "code",
   "execution_count": 3,
   "metadata": {
    "id": "ywjE9LpmlXP1"
   },
   "outputs": [],
   "source": [
    "import tensorflow as tf\n",
    "import numpy as np\n",
    "import matplotlib.pyplot as plt\n",
    "\n",
    "# Load Fashion MNIST dataset\n",
    "(x_train, y_train), (x_test, y_test) = tf.keras.datasets.fashion_mnist.load_data()\n",
    "\n",
    "# Normalize data\n",
    "x_train, x_test = x_train / 255.0, x_test / 255.0\n",
    "\n",
    "# One-hot encode labels\n",
    "y_train = tf.keras.utils.to_categorical(y_train, 10)\n",
    "y_test = tf.keras.utils.to_categorical(y_test, 10)"
   ]
  },
  {
   "cell_type": "markdown",
   "metadata": {},
   "source": [
    "## Adaptive Learning Rates"
   ]
  },
  {
   "cell_type": "markdown",
   "metadata": {
    "id": "4rNvoHEDlXP2"
   },
   "source": [
    "## Implementing a Simple Neural Network from Scratch"
   ]
  },
  {
   "cell_type": "markdown",
   "metadata": {
    "id": "8IMMs-s6lXP2"
   },
   "source": [
    "### Building the Network\n",
    "Define the architecture of a simple feedforward neural network with one hidden layer. You will need to manually initialize the weights and biases.\n",
    "\n",
    "**TODO:** Initialize Parameters\n",
    "Objective: Create a function to initialize weights and biases for all layers of the network.\n",
    "Instructions:\n",
    "- Initialize weights with small random values and biases with zeros.\n",
    "- Use numpy for creating arrays and operations.\n",
    "\n",
    "Hint: Use np.random.randn for weights and np.zeros for biases. Scale weights by 0.1."
   ]
  },
  {
   "cell_type": "code",
   "execution_count": 4,
   "metadata": {
    "id": "HEUr0figlXP3"
   },
   "outputs": [],
   "source": [
    "def initialize_parameters(input_size, hidden_size, output_size):\n",
    "    \"\"\"\n",
    "    Initialize weights and biases for a simple feedforward neural network.\n",
    "\n",
    "    Parameters:\n",
    "    - input_size: Number of input features.\n",
    "    - hidden_size: Number of neurons in the hidden layer.\n",
    "    - output_size: Number of output classes.\n",
    "\n",
    "    Returns:\n",
    "    - parameters: A dictionary containing weights and biases.\n",
    "    \"\"\"\n",
    "    \n",
    "    np.random.seed(14)\n",
    "\n",
    "    W1 = np.random.randn(hidden_size, input_size) * 0.1\n",
    "    b1 = np.zeros((hidden_size, 1))\n",
    "\n",
    "    W2 = np.random.randn(output_size, hidden_size) * 0.1\n",
    "    b2 = np.zeros((output_size, 1))\n",
    "\n",
    "    parameters = {\n",
    "        \"W1\": W1,\n",
    "        \"b1\": b1,\n",
    "        \"W2\": W2,\n",
    "        \"b2\": b2\n",
    "    }\n",
    "    \n",
    "    return parameters\n"
   ]
  },
  {
   "cell_type": "markdown",
   "metadata": {
    "id": "bDvfRCVq-74-"
   },
   "source": [
    "\n",
    "TODO: Define Activation Functions\n",
    "Objective: Implement commonly used activation functions.\n",
    "Instructions:\n",
    " - Define the ReLU and Sigmoid activation functions.\n",
    " - Ensure each function works with numpy arrays and supports both forward and derivative (gradient) computations.\n"
   ]
  },
  {
   "cell_type": "code",
   "execution_count": 5,
   "metadata": {
    "id": "qIBwOlH6_Jg4"
   },
   "outputs": [],
   "source": [
    "def relu(x):\n",
    "    \"\"\"\n",
    "    ReLU activation function.\n",
    "\n",
    "    Parameters:\n",
    "    - x: Input numpy array.\n",
    "\n",
    "    Returns:\n",
    "    - Output after applying ReLU.\n",
    "    \"\"\"\n",
    "    \n",
    "    return np.maximum(0, x)\n",
    "\n",
    "def relu_derivative(x):\n",
    "    \"\"\"\n",
    "    Derivative of ReLU activation function.\n",
    "\n",
    "    Parameters:\n",
    "    - x: Input numpy array.\n",
    "\n",
    "    Returns:\n",
    "    - Derivative of ReLU.\n",
    "    \"\"\"\n",
    "    \n",
    "    return (x>0).astype(float)\n",
    "\n",
    "def sigmoid(x):\n",
    "    \"\"\"\n",
    "    Sigmoid activation function.\n",
    "\n",
    "    Parameters:\n",
    "    - x: Input numpy array.\n",
    "\n",
    "    Returns:\n",
    "    - Output after applying sigmoid.\n",
    "    \"\"\"\n",
    "    \n",
    "    return 1 / (1 + np.exp(-x))\n",
    "\n",
    "def sigmoid_derivative(x):\n",
    "    \"\"\"\n",
    "    Derivative of sigmoid activation function.\n",
    "\n",
    "    Parameters:\n",
    "    - x: Input numpy array.\n",
    "\n",
    "    Returns:\n",
    "    - Derivative of sigmoid.\n",
    "    \"\"\"\n",
    "    \n",
    "    sigmoid = sigmoid(x)\n",
    "    \n",
    "    return sigmoid * (1 - sigmoid)"
   ]
  },
  {
   "cell_type": "markdown",
   "metadata": {
    "id": "h6HxkvToEDjr"
   },
   "source": [
    "TODO: Perform forward propagation through the network.\n",
    "\n",
    "    Parameters:\n",
    "    - X: Input data (shape: number of examples x input size).\n",
    "    - parameters: Dictionary containing weights and biases.\n",
    "\n",
    "    Returns:\n",
    "    - A2: Output of the network (after activation).\n",
    "    - cache: Dictionary containing intermediate values for backpropagation."
   ]
  },
  {
   "cell_type": "code",
   "execution_count": 6,
   "metadata": {
    "id": "4ylVbZoXECpn"
   },
   "outputs": [],
   "source": [
    "def forward_propagation(X, parameters):\n",
    "    \"\"\"\n",
    "    Perform forward propagation through the network.\n",
    "\n",
    "    Parameters:\n",
    "    - X: Input data (shape: number of examples x input size).\n",
    "    - parameters: Dictionary containing weights and biases.\n",
    "\n",
    "    Returns:\n",
    "    - A2: Output of the network (after activation).\n",
    "    - cache: Dictionary containing intermediate values for backpropagation.\n",
    "    \"\"\"\n",
    "    W1, b1 = parameters['W1'], parameters['b1']\n",
    "    W2, b2 = parameters['W2'], parameters['b2']\n",
    "\n",
    "    Z1 = np.dot(W1, X.T) + b1\n",
    "    A1 = relu(Z1)              \n",
    "    Z2 = np.dot(W2, A1) + b2   \n",
    "    A2 = sigmoid(Z2)          \n",
    "\n",
    "    # Cache intermediate values for backpropagation\n",
    "    cache = {\n",
    "        \"Z1\": Z1,\n",
    "        \"A1\": A1,\n",
    "        \"Z2\": Z2,\n",
    "        \"A2\": A2\n",
    "    }\n",
    "\n",
    "    return A2, cache"
   ]
  },
  {
   "cell_type": "markdown",
   "metadata": {
    "id": "-KtURRNUC_NP"
   },
   "source": [
    "TODO: Implement the loss function. Compute the categorical cross-entropy loss.\n",
    "\n",
    "    Parameters:\n",
    "    - y_true: True labels (one-hot encoded).\n",
    "    - y_pred: Predicted probabilities (output of the network).\n",
    "\n",
    "    Returns:\n",
    "    - loss: Computed loss."
   ]
  },
  {
   "cell_type": "code",
   "execution_count": 7,
   "metadata": {
    "id": "advoE8kEC-vk"
   },
   "outputs": [],
   "source": [
    "def compute_loss(y_true, y_pred):\n",
    "    \"\"\"\n",
    "    Compute the categorical cross-entropy loss.\n",
    "\n",
    "    Parameters:\n",
    "    - y_true: True labels (one-hot encoded).\n",
    "    - y_pred: Predicted probabilities (output of the network).\n",
    "\n",
    "    Returns:\n",
    "    - loss: Computed loss.\n",
    "    \"\"\"\n",
    "    \n",
    "    # Ensure numerical stability by clipping y_pred\n",
    "    y_pred = np.clip(y_pred, 1e-10, 1 - 1e-10)\n",
    "\n",
    "    return -np.sum(y_true * np.log(y_pred.T)) / y_true.shape[0]\n",
    "\n",
    "\n",
    "def compute_accuracy(y_true, y_pred):\n",
    "    \"\"\"\n",
    "    Compute the accuracy.\n",
    "\n",
    "    Parameters:\n",
    "    - y_true: True labels (one-hot encoded).\n",
    "    - y_pred: Predicted probabilities (output of the network).\n",
    "\n",
    "    Returns:\n",
    "    - accuracy: Fraction of correct predictions.\n",
    "    \"\"\"\n",
    "    # Compute predictions and accuracy\n",
    "    predicted_classes = np.argmax(y_pred, axis=0)\n",
    "    true_classes = np.argmax(y_true, axis=1)\n",
    "    accuracy = np.mean(predicted_classes == true_classes)\n",
    "    return accuracy"
   ]
  },
  {
   "cell_type": "markdown",
   "metadata": {
    "id": "s5V1D0jUDK3B"
   },
   "source": [
    "TODO: Implement backpropagation for the network and Perform backward propagation through the network.\n",
    "\n",
    "    Parameters:\n",
    "    - X: Input data.\n",
    "    - y_true: True labels.\n",
    "    - parameters: Dictionary containing weights and biases.\n",
    "    - cache: Intermediate values from forward propagation.\n",
    "\n",
    "    Returns:\n",
    "    - gradients: Dictionary containing gradients for weights and biases."
   ]
  },
  {
   "cell_type": "code",
   "execution_count": 8,
   "metadata": {
    "id": "4CxAo9FlBG18"
   },
   "outputs": [],
   "source": [
    "def backward_propagation(X, y_true, parameters, cache):\n",
    "    \"\"\"\n",
    "    Perform backward propagation through the network.\n",
    "\n",
    "    Parameters:\n",
    "    - X: Input data.\n",
    "    - y_true: True labels.\n",
    "    - parameters: Dictionary containing weights and biases.\n",
    "    - cache: Intermediate values from forward propagation.\n",
    "\n",
    "    Returns:\n",
    "    - gradients: Dictionary containing gradients for weights and biases.\n",
    "    \"\"\"\n",
    "    \n",
    "    W1, W2 = parameters['W1'], parameters['W2']\n",
    "\n",
    "    A1, A2 = cache['A1'], cache['A2']\n",
    "    Z1 = cache['Z1']\n",
    "\n",
    "    # Number of examples\n",
    "    num = X.shape[0]\n",
    "\n",
    "    # Compute gradients for output layer\n",
    "    dZ2 = A2 - y_true.T\n",
    "    dW2 = (1 / num) * np.dot(dZ2, A1.T)\n",
    "    db2 = (1 / num) * np.sum(dZ2, axis=1, keepdims=True)\n",
    "\n",
    "    # Compute gradients for hidden layer\n",
    "    dA1 = np.dot(W2.T, dZ2)\n",
    "    dZ1 = dA1 * relu_derivative(Z1)\n",
    "    dW1 = (1 / num) * np.dot(dZ1, X)\n",
    "    db1 = (1 / num) * np.sum(dZ1, axis=1, keepdims=True)\n",
    "\n",
    "    gradients = {\n",
    "        \"W1\": dW1,\n",
    "        \"b1\": db1,\n",
    "        \"W2\": dW2,\n",
    "        \"b2\": db2\n",
    "    }\n",
    "\n",
    "    return gradients"
   ]
  },
  {
   "cell_type": "markdown",
   "metadata": {
    "id": "LG2cvi3DDe4Q"
   },
   "source": [
    "TODO: Update the parameters using gradient descent.\n",
    "\n",
    "    Parameters:\n",
    "    - parameters: Current weights and biases.\n",
    "    - gradients: Calculated gradients.\n",
    "    - learning_rate: Learning rate for updates.\n",
    "\n",
    "    Returns:\n",
    "    - parameters: Updated weights and biases."
   ]
  },
  {
   "cell_type": "code",
   "execution_count": 9,
   "metadata": {
    "id": "9uMGXPGqDdk4"
   },
   "outputs": [],
   "source": [
    "def update_parameters(parameters, gradients, learning_rate=0.01):\n",
    "    \"\"\"\n",
    "    Update parameters using gradient descent.\n",
    "\n",
    "    Parameters:\n",
    "    - parameters: Current weights and biases.\n",
    "    - gradients: Calculated gradients.\n",
    "    - learning_rate: Learning rate for updates.\n",
    "\n",
    "    Returns:\n",
    "    - parameters: Updated weights and biases.\n",
    "    \"\"\"\n",
    "\n",
    "    parameters['W1'] -= learning_rate * gradients['W1']\n",
    "    parameters['b1'] -= learning_rate * gradients['b1']\n",
    "    parameters['W2'] -= learning_rate * gradients['W2']\n",
    "    parameters['b2'] -= learning_rate * gradients['b2']\n",
    "    \n",
    "    return parameters "
   ]
  },
  {
   "cell_type": "markdown",
   "metadata": {
    "id": "5E4UZg1SD2bM"
   },
   "source": [
    "TODO: Train the model by changing the hidden layer size (such as [32, 64, 128]) and observe the impact on network performance during training.\n",
    "\n",
    "    Train the neural network model.\n",
    "\n",
    "    Parameters:\n",
    "    - X_train: Training data.\n",
    "    - y_train: One-hot encoded labels.\n",
    "    - hidden_size: Number of neurons in the hidden layer.\n",
    "    - epochs: Number of training epochs.\n",
    "    - learning_rate: Learning rate for optimization."
   ]
  },
  {
   "cell_type": "code",
   "execution_count": 10,
   "metadata": {
    "colab": {
     "base_uri": "https://localhost:8080/"
    },
    "id": "GlsAvdUCDzSb",
    "outputId": "39851e5f-dea2-49d0-bdc0-3cbc5cbb08b5"
   },
   "outputs": [
    {
     "name": "stdout",
     "output_type": "stream",
     "text": [
      "\n",
      "Training with hidden layer size: 32\n",
      "Epoch 10/50 , Loss: 1.1555\n",
      "Epoch 20/50 , Loss: 1.7249\n",
      "Epoch 30/50 , Loss: 1.9258\n",
      "Epoch 40/50 , Loss: 1.9599\n",
      "Epoch 50/50 , Loss: 1.9383\n",
      "\n",
      "Training with hidden layer size: 64\n",
      "Epoch 10/50 , Loss: 1.5206\n",
      "Epoch 20/50 , Loss: 1.8541\n",
      "Epoch 30/50 , Loss: 1.9041\n",
      "Epoch 40/50 , Loss: 1.8691\n",
      "Epoch 50/50 , Loss: 1.8127\n",
      "\n",
      "Training with hidden layer size: 128\n",
      "Epoch 10/50 , Loss: 1.7322\n",
      "Epoch 20/50 , Loss: 1.8612\n",
      "Epoch 30/50 , Loss: 1.7879\n",
      "Epoch 40/50 , Loss: 1.6881\n",
      "Epoch 50/50 , Loss: 1.5954\n"
     ]
    }
   ],
   "source": [
    "def train_model(X_train, y_train, hidden_size, epochs=50, learning_rate=0.01):\n",
    "    \"\"\"\n",
    "    Train the neural network model.\n",
    "\n",
    "    Parameters:\n",
    "    - X_train: Training data.\n",
    "    - y_train: One-hot encoded labels.\n",
    "    - hidden_size: Number of neurons in the hidden layer.\n",
    "    - epochs: Number of training epochs.\n",
    "    - learning_rate: Learning rate for optimization.\n",
    "    \"\"\"\n",
    "    \n",
    "    X_train = X_train.reshape(X_train.shape[0], -1)\n",
    "    \n",
    "    input_size = X_train.shape[1]\n",
    "    output_size = y_train.shape[1]\n",
    "\n",
    "    parameters = initialize_parameters(input_size, hidden_size, output_size)\n",
    "\n",
    "    # Training loop\n",
    "    for epoch in range(epochs):\n",
    "        # Forward propagation\n",
    "        A2, cache = forward_propagation(X_train, parameters)\n",
    "\n",
    "        # Compute loss\n",
    "        loss = compute_loss(y_train, A2)\n",
    "\n",
    "        # Backward propagation\n",
    "        gradients = backward_propagation(X_train, y_train, parameters, cache)\n",
    "\n",
    "        # Update parameters\n",
    "        parameters = update_parameters(parameters, gradients, learning_rate)\n",
    "\n",
    "        if (epoch + 1) % 10 == 0:\n",
    "            print(f\"Epoch {epoch + 1}/{epochs} , Loss: {loss:.4f}\")\n",
    "\n",
    "    return parameters\n",
    "\n",
    "\n",
    "hidden_sizes = [32, 64, 128]\n",
    "\n",
    "for size in hidden_sizes:\n",
    "    print(f\"\\nTraining with hidden layer size: {size}\")\n",
    "    trained_parameters = train_model(\n",
    "        x_train, y_train, hidden_size=size, epochs=50, learning_rate=0.01)"
   ]
  },
  {
   "cell_type": "markdown",
   "metadata": {
    "id": "YuCNlJCHKf1S"
   },
   "source": [
    "TODO: Implement Adam Optimizer\n",
    "\n",
    "1. Initialize Parameters: Create variables to store the moment estimates (first and second) for each parameter.\n",
    "\n",
    "    Parameters:\n",
    "    - parameters: Dictionary containing weights and biases.\n",
    "\n",
    "    Returns:\n",
    "    - v: First moment vector (initialized to zeros).\n",
    "    - s: Second moment vector (initialized to zeros).\n",
    "    - t: Time step (initialized to 0).\n",
    "\n",
    "2. Update Rules: Implement the update rules based on the gradients, learning rate, and moment estimates.\n"
   ]
  },
  {
   "cell_type": "code",
   "execution_count": 11,
   "metadata": {
    "id": "Iqy1_rfsKP8b"
   },
   "outputs": [],
   "source": [
    "def initialize_adam(parameters):\n",
    "    \"\"\"\n",
    "    Initialize the Adam optimizer variables.\n",
    "\n",
    "    Parameters:\n",
    "    - parameters: Dictionary containing weights and biases.\n",
    "\n",
    "    Returns:\n",
    "    - v: First moment vector (initialized to zeros).\n",
    "    - s: Second moment vector (initialized to zeros).\n",
    "    - t: Time step (initialized to 0).\n",
    "    \"\"\"\n",
    "    \n",
    "    v = {}\n",
    "    s = {}\n",
    "    t = 0\n",
    "\n",
    "    for key in parameters:\n",
    "        v[key] = np.zeros_like(parameters[key])\n",
    "        s[key] = np.zeros_like(parameters[key])\n",
    "\n",
    "    return v, s, t\n",
    "\n",
    "\n",
    "def update_parameters_with_adam(parameters, gradients, v, s, t, learning_rate=0.001, beta1=0.9, beta2=0.999, epsilon=1e-8):\n",
    "    \"\"\"\n",
    "    Update parameters using the Adam optimizer.\n",
    "\n",
    "    Parameters:\n",
    "    - parameters: Current weights and biases.\n",
    "    - gradients: Calculated gradients.\n",
    "    - v: First moment vector.\n",
    "    - s: Second moment vector.\n",
    "    - t: Time step.\n",
    "    - learning_rate: Learning rate for updates.\n",
    "    - beta1: Exponential decay rate for the first moment estimates.\n",
    "    - beta2: Exponential decay rate for the second moment estimates.\n",
    "    - epsilon: Small constant for numerical stability.\n",
    "\n",
    "    Returns:\n",
    "    - parameters: Updated weights and biases.\n",
    "    - v: Updated first moment vector.\n",
    "    - s: Updated second moment vector.\n",
    "    - t: Updated time step.\n",
    "    \"\"\"\n",
    "    \n",
    "    t += 1  # Increment time step\n",
    "\n",
    "    # Update moment estimates and apply bias correction\n",
    "    for key in parameters:\n",
    "            \n",
    "        grad = gradients[key]\n",
    "\n",
    "        v[key] = beta1 * v[key] + (1 - beta1) * grad\n",
    "        s[key] = beta2 * s[key] + (1 - beta2) * (grad ** 2)\n",
    "\n",
    "        # Bias correction for v and s\n",
    "        v_corrected = v[key] / (1 - beta1 ** t)\n",
    "        s_corrected = s[key] / (1 - beta2 ** t)\n",
    "\n",
    "        # Update the parameter using the corrected first and second moment estimates\n",
    "        parameters[key] -= learning_rate * \\\n",
    "                v_corrected / (np.sqrt(s_corrected) + epsilon)\n",
    "\n",
    "    return parameters, v, s, t"
   ]
  },
  {
   "cell_type": "markdown",
   "metadata": {
    "id": "-mU6NQXdLQd_"
   },
   "source": [
    "TODO: Implement Adam optimizer into the training loop."
   ]
  },
  {
   "cell_type": "code",
   "execution_count": 12,
   "metadata": {
    "colab": {
     "base_uri": "https://localhost:8080/"
    },
    "id": "NMPqxphzKSv8",
    "outputId": "10d1696e-ad85-407e-def8-c2cbd424bb97"
   },
   "outputs": [
    {
     "name": "stdout",
     "output_type": "stream",
     "text": [
      "\n",
      "Training with hidden layer size: 32\n",
      "Epoch 10/50 , Loss: 1.1850\n",
      "Epoch 20/50 , Loss: 2.0585\n",
      "Epoch 30/50 , Loss: 2.1213\n",
      "Epoch 40/50 , Loss: 1.7436\n",
      "Epoch 50/50 , Loss: 1.4432\n",
      "\n",
      "Training with hidden layer size: 64\n",
      "Epoch 10/50 , Loss: 1.8934\n",
      "Epoch 20/50 , Loss: 2.0812\n",
      "Epoch 30/50 , Loss: 1.3356\n",
      "Epoch 40/50 , Loss: 1.0236\n",
      "Epoch 50/50 , Loss: 1.0034\n",
      "\n",
      "Training with hidden layer size: 128\n",
      "Epoch 10/50 , Loss: 2.2119\n",
      "Epoch 20/50 , Loss: 1.2383\n",
      "Epoch 30/50 , Loss: 0.9171\n",
      "Epoch 40/50 , Loss: 0.9430\n",
      "Epoch 50/50 , Loss: 0.8046\n"
     ]
    }
   ],
   "source": [
    "def train_model_with_adam(X_train, y_train, hidden_size, epochs=50, learning_rate=0.001):\n",
    "    \"\"\"\n",
    "    Train the neural network model using Adam optimizer.\n",
    "\n",
    "    Parameters:\n",
    "    - X_train: Training data.\n",
    "    - y_train: One-hot encoded labels.\n",
    "    - hidden_size: Number of neurons in the hidden layer.\n",
    "    - epochs: Number of training epochs.\n",
    "    - learning_rate: Learning rate for optimization.\n",
    "    \"\"\"\n",
    "\n",
    "    X_train = X_train.reshape(X_train.shape[0], -1)\n",
    "\n",
    "    input_size = X_train.shape[1]\n",
    "    output_size = y_train.shape[1]\n",
    "\n",
    "    parameters = initialize_parameters(input_size, hidden_size, output_size)\n",
    "\n",
    "    # Initialize Adam variables\n",
    "    v, s, t = initialize_adam(parameters)\n",
    "\n",
    "    for epoch in range(epochs):\n",
    "        \n",
    "        A2, cache = forward_propagation(X_train, parameters)\n",
    "\n",
    "        loss = compute_loss(y_train, A2)\n",
    "\n",
    "        gradients = backward_propagation(X_train, y_train, parameters, cache)\n",
    "\n",
    "        # Update parameters using Adam\n",
    "        parameters, v, s, t = update_parameters_with_adam(\n",
    "            parameters, gradients, v, s, t, learning_rate)\n",
    "\n",
    "        if (epoch + 1) % 10 == 0:\n",
    "            print(f\"Epoch {epoch + 1}/{epochs} , Loss: {loss:.4f}\")\n",
    "\n",
    "    return parameters\n",
    "\n",
    "\n",
    "hidden_sizes = [32, 64, 128]\n",
    "\n",
    "for size in hidden_sizes:\n",
    "    print(f\"\\nTraining with hidden layer size: {size}\")\n",
    "    trained_parameters = train_model_with_adam(\n",
    "        x_train, y_train, hidden_size=size, epochs=50, learning_rate=0.001)"
   ]
  },
  {
   "cell_type": "markdown",
   "metadata": {
    "id": "fEZVkGGplXP4"
   },
   "source": [
    "### Compare Adam and RMSprop\n"
   ]
  },
  {
   "cell_type": "markdown",
   "metadata": {
    "id": "7BxQoqf8ak2k"
   },
   "source": [
    "TODO: First, implement the RMSprop optimizer. The RMSprop optimizer uses a moving average of squared gradients to normalize the gradient, which helps to stabilize the updates."
   ]
  },
  {
   "cell_type": "code",
   "execution_count": 13,
   "metadata": {
    "id": "117xMpE6avQ2"
   },
   "outputs": [],
   "source": [
    "def initialize_rmsprop(parameters):\n",
    "    \"\"\"\n",
    "    Initialize the RMSprop variables.\n",
    "\n",
    "    Parameters:\n",
    "    - parameters: Dictionary containing weights and biases.\n",
    "\n",
    "    Returns:\n",
    "    - s: Second moment vector (initialized to zeros).\n",
    "    \"\"\"\n",
    "    \n",
    "    s = {}\n",
    "\n",
    "    for key in parameters:\n",
    "        if 'W' in key:  # for weights\n",
    "            s[key] = np.zeros_like(parameters[key])\n",
    "        elif 'b' in key:  # for biases\n",
    "            s[key] = np.zeros_like(parameters[key])\n",
    "\n",
    "    return s\n",
    "\n",
    "def update_parameters_with_rmsprop(parameters, gradients, s, learning_rate=0.001, beta=0.9, epsilon=1e-8):\n",
    "    \"\"\"\n",
    "    Update parameters using the RMSprop optimizer.\n",
    "\n",
    "    Parameters:\n",
    "    - parameters: Current weights and biases.\n",
    "    - gradients: Calculated gradients.\n",
    "    - s: Second moment vector.\n",
    "    - learning_rate: Learning rate for updates.\n",
    "    - beta: Exponential decay rate for the second moment estimates.\n",
    "    - epsilon: Small constant for numerical stability.\n",
    "\n",
    "    Returns:\n",
    "    - parameters: Updated weights and biases.\n",
    "    - s: Updated second moment vector.\n",
    "    \"\"\"\n",
    "    \n",
    "    for key in parameters:\n",
    "        \n",
    "        s[key] = beta * s[key] + (1 - beta) * np.square(gradients[key])\n",
    "        parameters[key] -= learning_rate * \\\n",
    "            gradients[key] / (np.sqrt(s[key]) + epsilon)\n",
    "\n",
    "    return parameters, s"
   ]
  },
  {
   "cell_type": "markdown",
   "metadata": {
    "id": "GWJg1GjFayY2"
   },
   "source": [
    "TODO: Modify the training loop to allow for both optimizers and store the loss history for comparison."
   ]
  },
  {
   "cell_type": "code",
   "execution_count": 14,
   "metadata": {
    "id": "iwcuRTkja5pT"
   },
   "outputs": [],
   "source": [
    "def train_model(X_train, y_train, hidden_size, epochs=50, learning_rate=0.001, optimizer='adam'):\n",
    "    \"\"\"\n",
    "    Train the neural network model using specified optimizer.\n",
    "\n",
    "    Parameters:\n",
    "    - X_train: Training data.\n",
    "    - y_train: One-hot encoded labels.\n",
    "    - hidden_size: Number of neurons in the hidden layer.\n",
    "    - epochs: Number of training epochs.\n",
    "    - learning_rate: Learning rate for optimization.\n",
    "    - optimizer: The optimizer to use ('adam' or 'rmsprop').\n",
    "\n",
    "    Returns:\n",
    "    - loss_history: List of loss values over epochs.\n",
    "    \"\"\"\n",
    "\n",
    "    X_train = X_train.reshape(X_train.shape[0], -1)\n",
    "\n",
    "    input_size = X_train.shape[1]\n",
    "    output_size = y_train.shape[1]\n",
    "\n",
    "    parameters = initialize_parameters(input_size, hidden_size, output_size)\n",
    "\n",
    "    if optimizer == 'adam':\n",
    "        v, s, t = initialize_adam(parameters)\n",
    "    elif optimizer == 'rmsprop':\n",
    "        s = initialize_rmsprop(parameters)\n",
    "\n",
    "    loss_history = []\n",
    "\n",
    "    for epoch in range(epochs):\n",
    "\n",
    "        A2, cache = forward_propagation(X_train, parameters)\n",
    "\n",
    "        loss = compute_loss(y_train, A2)\n",
    "        loss_history.append(loss)\n",
    "\n",
    "        gradients = backward_propagation(X_train, y_train, parameters, cache)\n",
    "\n",
    "        # Update parameters using the selected optimizer\n",
    "        if optimizer == 'adam':\n",
    "            parameters, v, s, t = update_parameters_with_adam(\n",
    "                parameters, gradients, v, s, t, learning_rate)\n",
    "        elif optimizer == 'rmsprop':\n",
    "            parameters, s = update_parameters_with_rmsprop(\n",
    "                parameters, gradients, s, learning_rate)\n",
    "\n",
    "        # Print the loss every 10 epochs\n",
    "        if (epoch + 1) % 10 == 0:\n",
    "            print(f\"Epoch {epoch + 1}/{epochs} , Loss: {loss:.4f}\")\n",
    "\n",
    "    return loss_history"
   ]
  },
  {
   "cell_type": "markdown",
   "metadata": {
    "id": "g5cPzN1ma9Xi"
   },
   "source": [
    "TODO:  Compare Both Optimizers. Create a function to train the model using both optimizers and plot the loss histories for comparison."
   ]
  },
  {
   "cell_type": "code",
   "execution_count": 15,
   "metadata": {
    "colab": {
     "base_uri": "https://localhost:8080/",
     "height": 801
    },
    "id": "-z5eRURgbDIG",
    "outputId": "a292b2ab-8d4f-456b-b32f-6bff5cc18205"
   },
   "outputs": [
    {
     "name": "stdout",
     "output_type": "stream",
     "text": [
      "Training with Adam optimizer:\n",
      "Epoch 10/50 , Loss: 1.8934\n",
      "Epoch 20/50 , Loss: 2.0812\n",
      "Epoch 30/50 , Loss: 1.3356\n",
      "Epoch 40/50 , Loss: 1.0236\n",
      "Epoch 50/50 , Loss: 1.0034\n",
      "\n",
      "\n",
      " Training with RMSprop optimizer:\n",
      "Epoch 10/50 , Loss: 1.5001\n",
      "Epoch 20/50 , Loss: 1.1333\n",
      "Epoch 30/50 , Loss: 0.9774\n",
      "Epoch 40/50 , Loss: 0.9252\n",
      "Epoch 50/50 , Loss: 0.8149\n"
     ]
    },
    {
     "data": {
      "image/png": "[encoded data removed]",
      "text/plain": [
       "<Figure size 1000x600 with 1 Axes>"
      ]
     },
     "metadata": {},
     "output_type": "display_data"
    }
   ],
   "source": [
    "\n",
    "def compare_optimizers(X_train, y_train, hidden_size, epochs=50):\n",
    "    \"\"\"\n",
    "    Compare the Adam and RMSprop optimizers.\n",
    "\n",
    "    Parameters:\n",
    "    - X_train: Training data.\n",
    "    - y_train: One-hot encoded labels.\n",
    "    - hidden_size: Number of neurons in the hidden layer.\n",
    "    - epochs: Number of training epochs.\n",
    "    \"\"\"\n",
    "    print(\"Training with Adam optimizer:\")\n",
    "    loss_history_adam = train_model(\n",
    "        X_train, y_train, hidden_size, epochs=epochs, learning_rate=0.001, optimizer='adam')\n",
    "\n",
    "    print(\"\\n\\n Training with RMSprop optimizer:\")\n",
    "    loss_history_rmsprop = train_model(\n",
    "        X_train, y_train, hidden_size, epochs=epochs, learning_rate=0.001, optimizer='rmsprop')\n",
    "\n",
    "    plt.figure(figsize=(10, 6))\n",
    "    plt.plot(loss_history_adam, label='Adam')\n",
    "    plt.plot(loss_history_rmsprop, label='RMSprop')\n",
    "    plt.xlabel('Epochs')\n",
    "    plt.ylabel('Loss')\n",
    "    plt.title('Comparison of Adam and RMSprop Optimizers')\n",
    "    plt.legend()\n",
    "    plt.show()\n",
    "    \n",
    "\n",
    "compare_optimizers(x_train, y_train, hidden_size=64, epochs=50)"
   ]
  },
  {
   "cell_type": "markdown",
   "metadata": {
    "id": "pueHFmTUlXP5"
   },
   "source": [
    "## Stochastic Gradient Descent (SGD)"
   ]
  },
  {
   "cell_type": "markdown",
   "metadata": {
    "id": "3zrSW4LilXP5"
   },
   "source": [
    "### Impact of Different Learning Rates on SGD\n"
   ]
  },
  {
   "cell_type": "markdown",
   "metadata": {
    "id": "BU9BiBsKcWjb"
   },
   "source": [
    "Explore the impact of different learning rates on the training dynamics and performance of Stochastic Gradient Descent (SGD). This will allow us to observe how the learning rate affects convergence speed, stability, and final performance.\n",
    "\n",
    "Steps for Implementing the Experiment\n",
    "\n",
    "1. Define the SGD Optimizer: Implement a simple SGD optimizer.\n",
    "2. Modify the Training Loop: Allow for different learning rates.\n",
    "3. Train the Model: Run the training process with a set of predefined learning rates.\n",
    "4. Visualize the Results: Plot the loss curves for each learning rate to compare their effects"
   ]
  },
  {
   "cell_type": "markdown",
   "metadata": {
    "id": "vDRSuNVrcvVI"
   },
   "source": [
    "1. Implement SGD Optimizer\n"
   ]
  },
  {
   "cell_type": "code",
   "execution_count": 16,
   "metadata": {
    "id": "r9UE2OHfcwCe"
   },
   "outputs": [],
   "source": [
    "def update_parameters_with_sgd(parameters, gradients, learning_rate=0.01):\n",
    "    \"\"\"\n",
    "    Update parameters using SGD.\n",
    "\n",
    "    Parameters:\n",
    "    - parameters: Current weights and biases.\n",
    "    - gradients: Calculated gradients.\n",
    "    - learning_rate: Learning rate for updates.\n",
    "\n",
    "    Returns:\n",
    "    - parameters: Updated weights and biases.\n",
    "    \"\"\"\n",
    "    for key in parameters:\n",
    "        parameters[key] -= learning_rate * gradients[key]\n",
    "    return parameters"
   ]
  },
  {
   "cell_type": "markdown",
   "metadata": {
    "id": "O4qIjyg9cyXB"
   },
   "source": [
    "2. Modify the Training Loop\n"
   ]
  },
  {
   "cell_type": "code",
   "execution_count": 17,
   "metadata": {
    "id": "U1gKM56IdBH-"
   },
   "outputs": [],
   "source": [
    "def train_model_with_sgd(X_train, y_train, hidden_size, epochs=50, learning_rate=0.01):\n",
    "    \"\"\"\n",
    "    Train the neural network model using SGD optimizer.\n",
    "\n",
    "    Parameters:\n",
    "    - X_train: Training data.\n",
    "    - y_train: One-hot encoded labels.\n",
    "    - hidden_size: Number of neurons in the hidden layer.\n",
    "    - epochs: Number of training epochs.\n",
    "    - learning_rate: Learning rate for optimization.\n",
    "\n",
    "    Returns:\n",
    "    - loss_history: List of loss values over epochs.\n",
    "    \"\"\"\n",
    "\n",
    "    X_train = X_train.reshape(X_train.shape[0], -1)\n",
    "\n",
    "    input_size = X_train.shape[1]\n",
    "    output_size = y_train.shape[1]\n",
    "\n",
    "    parameters = initialize_parameters(input_size, hidden_size, output_size)\n",
    "    loss_history = []\n",
    "\n",
    "    for epoch in range(epochs):\n",
    "        \n",
    "        A2, cache = forward_propagation(X_train, parameters)\n",
    "\n",
    "        loss = compute_loss(y_train, A2)\n",
    "        loss_history.append(loss)\n",
    "\n",
    "        gradients = backward_propagation(X_train, y_train, parameters, cache)\n",
    "\n",
    "        parameters = update_parameters_with_sgd(\n",
    "            parameters, gradients, learning_rate)\n",
    "\n",
    "        if (epoch + 1) % 10 == 0:\n",
    "            print(f\"Epoch {epoch + 1}/{epochs} , Loss: {loss:.4f}\")\n",
    "\n",
    "    return loss_history"
   ]
  },
  {
   "cell_type": "markdown",
   "metadata": {
    "id": "CeQpjFQHdD4v"
   },
   "source": [
    "3. Experiment with Different Learning Rates\n"
   ]
  },
  {
   "cell_type": "code",
   "execution_count": 18,
   "metadata": {
    "colab": {
     "base_uri": "https://localhost:8080/",
     "height": 948
    },
    "id": "FvFIXxFRdGDv",
    "outputId": "034c4386-19bc-4869-c0f8-693c698eb9fe"
   },
   "outputs": [
    {
     "name": "stdout",
     "output_type": "stream",
     "text": [
      "\n",
      "Training with learning rate: 0.001\n",
      "Epoch 10/50 , Loss: 0.8390\n",
      "Epoch 20/50 , Loss: 0.9363\n",
      "Epoch 30/50 , Loss: 1.0296\n",
      "Epoch 40/50 , Loss: 1.1189\n",
      "Epoch 50/50 , Loss: 1.2038\n",
      "\n",
      "Training with learning rate: 0.01\n",
      "Epoch 10/50 , Loss: 1.5206\n",
      "Epoch 20/50 , Loss: 1.8541\n",
      "Epoch 30/50 , Loss: 1.9041\n",
      "Epoch 40/50 , Loss: 1.8691\n",
      "Epoch 50/50 , Loss: 1.8127\n",
      "\n",
      "Training with learning rate: 0.1\n",
      "Epoch 10/50 , Loss: 1.6488\n",
      "Epoch 20/50 , Loss: 1.2506\n",
      "Epoch 30/50 , Loss: 1.0617\n",
      "Epoch 40/50 , Loss: 0.9631\n",
      "Epoch 50/50 , Loss: 0.8984\n"
     ]
    },
    {
     "data": {
      "image/png": "[encoded data removed]",
      "text/plain": [
       "<Figure size 1000x600 with 1 Axes>"
      ]
     },
     "metadata": {},
     "output_type": "display_data"
    }
   ],
   "source": [
    "def compare_learning_rates(X_train, y_train, hidden_size, epochs=50, learning_rates=[0.001, 0.01, 0.1]):\n",
    "    \"\"\"\n",
    "    Compare the performance of SGD with different learning rates.\n",
    "\n",
    "    Parameters:\n",
    "    - X_train: Training data.\n",
    "    - y_train: One-hot encoded labels.\n",
    "    - hidden_size: Number of neurons in the hidden layer.\n",
    "    - epochs: Number of training epochs.\n",
    "    - learning_rates: List of learning rates to test.\n",
    "    \"\"\"\n",
    "\n",
    "    loss_histories = {}\n",
    "\n",
    "    # Train the model with each learning rate\n",
    "    for lr in learning_rates:\n",
    "        print(f\"\\nTraining with learning rate: {lr}\")\n",
    "        loss_histories[lr] = train_model_with_sgd(\n",
    "            X_train, y_train, hidden_size, epochs=50, learning_rate=lr)\n",
    "\n",
    "    # Visualize the results\n",
    "    plt.figure(figsize=(10, 6))\n",
    "    for lr, loss_history in loss_histories.items():\n",
    "        plt.plot(loss_history, label=f'LR = {lr}')\n",
    "\n",
    "    plt.xlabel('Epochs')\n",
    "    plt.ylabel('Loss')\n",
    "    plt.title('Impact of Learning Rate on SGD Performance')\n",
    "    plt.legend()\n",
    "    plt.show()\n",
    "    \n",
    "\n",
    "compare_learning_rates(x_train, y_train, hidden_size=64,\n",
    "                       epochs=50, learning_rates=[0.001, 0.01, 0.1])"
   ]
  },
  {
   "cell_type": "markdown",
   "metadata": {
    "id": "IXxuYU7llXP6"
   },
   "source": [
    "### SGD with Momentum vs. Classic SGD\n"
   ]
  },
  {
   "cell_type": "markdown",
   "metadata": {
    "id": "R8dcD51aepnC"
   },
   "source": [
    "TODO: Compare Stochastic Gradient Descent (SGD) with momentum and classic SGD, you can set up an experiment that trains the same model using both methods. This will help you observe differences in convergence speed and stability.\n",
    "\n",
    "Steps for Implementing the Comparison:\n",
    "\n",
    "1. Implement Classic SGD: Ensure you have a basic SGD implementation.(already implemented in the previous cells)\n",
    "\n",
    "2. Implement SGD with Momentum: Add a momentum version of the SGD optimizer.\n",
    "\n",
    "3. Modify the Training Loop: Allow for both optimizers in the training process.\n",
    "\n",
    "4. Train the Model: Run the training process using both optimizers.\n",
    "\n",
    "5. Visualize the Results: Plot the loss curves for each optimizer to compare their performance."
   ]
  },
  {
   "cell_type": "markdown",
   "metadata": {
    "id": "9-czqAXNe_nQ"
   },
   "source": [
    "2. Implement SGD with Momentum\n"
   ]
  },
  {
   "cell_type": "code",
   "execution_count": 19,
   "metadata": {
    "id": "8uzLkhWcfB6a"
   },
   "outputs": [],
   "source": [
    "def initialize_momentum(parameters):\n",
    "    \"\"\"\n",
    "    Initialize the momentum variables.\n",
    "\n",
    "    Parameters:\n",
    "    - parameters: Dictionary containing weights and biases.\n",
    "\n",
    "    Returns:\n",
    "    - v: Momentum variable (initialized to zeros).\n",
    "    \"\"\"\n",
    "\n",
    "    v = {}\n",
    "\n",
    "    for key in parameters:\n",
    "        \n",
    "        v[key] = np.zeros_like(parameters[key])\n",
    "\n",
    "    return v\n",
    "\n",
    "\n",
    "\n",
    "\n",
    "def update_parameters_with_momentum(parameters, gradients, v, learning_rate=0.01, beta=0.9):\n",
    "    \"\"\"\n",
    "    Update parameters using SGD with momentum.\n",
    "\n",
    "    Parameters:\n",
    "    - parameters: Current weights and biases.\n",
    "    - gradients: Calculated gradients.\n",
    "    - v: Momentum variable.\n",
    "    - learning_rate: Learning rate for updates.\n",
    "    - beta: Exponential decay rate for momentum.\n",
    "\n",
    "    Returns:\n",
    "    - parameters: Updated weights and biases.\n",
    "    - v: Updated momentum variable.\n",
    "    \"\"\"\n",
    "    \n",
    "    for key in parameters:\n",
    "        \n",
    "        v[key] = beta * v[key] + (1 - beta) * gradients[key]\n",
    "\n",
    "        parameters[key] -= learning_rate * v[key]\n",
    "\n",
    "    return parameters, v"
   ]
  },
  {
   "cell_type": "markdown",
   "metadata": {
    "id": "k_DvOLijfIFK"
   },
   "source": [
    "3. Modify the Training Loop\n"
   ]
  },
  {
   "cell_type": "code",
   "execution_count": 20,
   "metadata": {
    "id": "uz3jxDtCfIuA"
   },
   "outputs": [],
   "source": [
    "def train_model(X_train, y_train, hidden_size, epochs=50, learning_rate=0.01, optimizer='sgd'):\n",
    "    \"\"\"\n",
    "    Train the neural network model using specified optimizer.\n",
    "\n",
    "    Parameters:\n",
    "    - X_train: Training data.\n",
    "    - y_train: One-hot encoded labels.\n",
    "    - hidden_size: Number of neurons in the hidden layer.\n",
    "    - epochs: Number of training epochs.\n",
    "    - learning_rate: Learning rate for optimization.\n",
    "    - optimizer: The optimizer to use ('sgd' or 'momentum').\n",
    "\n",
    "    Returns:\n",
    "    - loss_history: List of loss values over epochs.\n",
    "    \"\"\"\n",
    "    \n",
    "    X_train = X_train.reshape(X_train.shape[0], -1)\n",
    "\n",
    "    input_size = X_train.shape[1]\n",
    "    output_size = y_train.shape[1]\n",
    "    \n",
    "    parameters = initialize_parameters(\n",
    "        input_size, hidden_size, output_size)\n",
    "\n",
    "    v = initialize_momentum(parameters)\n",
    "\n",
    "    loss_history = []\n",
    "\n",
    "    for epoch in range(epochs):\n",
    "        \n",
    "        A2, cache = forward_propagation(X_train, parameters)\n",
    "        \n",
    "        loss = compute_loss(y_train, A2)\n",
    "\n",
    "        loss_history.append(loss)\n",
    "\n",
    "        gradients = backward_propagation(X_train, y_train, parameters, cache)\n",
    "\n",
    "        if optimizer == 'sgd':\n",
    "            parameters = update_parameters_with_sgd(\n",
    "                parameters, gradients, learning_rate)\n",
    "        elif optimizer == 'momentum':\n",
    "            parameters, v = update_parameters_with_momentum(\n",
    "                parameters, gradients, v, learning_rate)\n",
    "\n",
    "        if (epoch + 1) % 10 == 0:\n",
    "            print(f\"Epoch {epoch + 1}, Loss: {loss:.4f}\")\n",
    "\n",
    "    return loss_history"
   ]
  },
  {
   "cell_type": "markdown",
   "metadata": {
    "id": "wVbv6XeYfLbf"
   },
   "source": [
    "4. Train the Model with Both Optimizers\n"
   ]
  },
  {
   "cell_type": "code",
   "execution_count": 21,
   "metadata": {
    "colab": {
     "base_uri": "https://localhost:8080/",
     "height": 801
    },
    "id": "0zEcNXJGfOTf",
    "outputId": "3d69406a-d63b-4960-ea0a-7680fd4ab5ad"
   },
   "outputs": [
    {
     "name": "stdout",
     "output_type": "stream",
     "text": [
      "Training with SGD...\n",
      "Epoch 10, Loss: 1.5206\n",
      "Epoch 20, Loss: 1.8541\n",
      "Epoch 30, Loss: 1.9041\n",
      "Epoch 40, Loss: 1.8691\n",
      "Epoch 50, Loss: 1.8127\n",
      "\n",
      "\n",
      "Training with Momentum...\n",
      "Epoch 10, Loss: 1.1288\n",
      "Epoch 20, Loss: 1.9300\n",
      "Epoch 30, Loss: 2.3785\n",
      "Epoch 40, Loss: 2.2774\n",
      "Epoch 50, Loss: 2.0051\n"
     ]
    },
    {
     "data": {
      "image/png": "[encoded data removed]",
      "text/plain": [
       "<Figure size 1000x600 with 1 Axes>"
      ]
     },
     "metadata": {},
     "output_type": "display_data"
    }
   ],
   "source": [
    "\n",
    "def compare_sgd_and_momentum(X_train, y_train, hidden_size, epochs=50):\n",
    "    \"\"\"\n",
    "    Compare the performance of classic SGD and SGD with momentum.\n",
    "\n",
    "    Parameters:\n",
    "    - X_train: Training data.\n",
    "    - y_train: One-hot encoded labels.\n",
    "    - hidden_size: Number of neurons in the hidden layer.\n",
    "    - epochs: Number of training epochs.\n",
    "    \"\"\"\n",
    "\n",
    "    # Train with SGD\n",
    "    print(\"Training with SGD...\")\n",
    "    loss_history_sgd = train_model(\n",
    "        X_train, y_train, hidden_size, epochs, learning_rate=0.01, optimizer= 'sgd')\n",
    "\n",
    "    # Train with Momentum\n",
    "    print(\"\\n\\nTraining with Momentum...\")\n",
    "    loss_history_momentum = train_model(\n",
    "        X_train, y_train, hidden_size, epochs, learning_rate=0.01, optimizer= 'momentum')\n",
    "\n",
    "    # Plot the loss curves for both optimizers\n",
    "    plt.figure(figsize=(10, 6))\n",
    "    plt.plot(range(epochs), loss_history_sgd, label='SGD', color='blue')\n",
    "    plt.plot(range(epochs), loss_history_momentum,\n",
    "             label='Momentum', color='red')\n",
    "\n",
    "    plt.title('Comparison of SGD and Momentum')\n",
    "    plt.xlabel('Epochs')\n",
    "    plt.ylabel('Loss')\n",
    "    plt.legend()\n",
    "    plt.grid(True)\n",
    "    plt.show()\n",
    "    \n",
    "\n",
    "compare_sgd_and_momentum(x_train, y_train, hidden_size=64, epochs=50)"
   ]
  },
  {
   "cell_type": "markdown",
   "metadata": {
    "id": "OhaXIjuClXP6"
   },
   "source": [
    "## Mini-Batch Gradient Descent"
   ]
  },
  {
   "cell_type": "markdown",
   "metadata": {
    "id": "wpBVHm6elXP6"
   },
   "source": [
    "### Mini-Batch Size Optimization"
   ]
  },
  {
   "cell_type": "markdown",
   "metadata": {
    "id": "rUDwKXOAgc2h"
   },
   "source": [
    "TODO: Investigate how different mini-batch sizes affect model performance, you can set up an experiment where you train the same model using various mini-batch sizes.\n",
    "\n",
    "Steps for Implementing the Mini-Batch Size Experiment\n",
    "\n",
    "1. Modify the Training Loop: Update the training loop to use mini-batches.\n",
    "2. Train the Model: Run the training process with a set of predefined mini-batch sizes.\n",
    "3. Evaluate Performance: Track training time and accuracy for each mini-batch size.\n",
    "4. Print the training losses and accuracies for comparison."
   ]
  },
  {
   "cell_type": "markdown",
   "metadata": {
    "id": "sz2dJu_PgvJH"
   },
   "source": [
    "1. Modify the Training Loop for Mini-Batches\n"
   ]
  },
  {
   "cell_type": "code",
   "execution_count": 22,
   "metadata": {
    "id": "2eBWqUKwgqqN"
   },
   "outputs": [],
   "source": [
    "def train_model_with_mini_batches(X_train, y_train, hidden_size, epochs=50, learning_rate=0.01, batch_size=32):\n",
    "    \"\"\"\n",
    "    Train the neural network model using mini-batches.\n",
    "\n",
    "    Parameters:\n",
    "    - X_train: Training data.\n",
    "    - y_train: One-hot encoded labels.\n",
    "    - hidden_size: Number of neurons in the hidden layer.\n",
    "    - epochs: Number of training epochs.\n",
    "    - learning_rate: Learning rate for optimization.\n",
    "    - batch_size: Size of mini-batches.\n",
    "\n",
    "    Returns:\n",
    "    - loss_history: List of loss values over epochs.\n",
    "    - accuracy_history: List of accuracy values over epochs.\n",
    "    \"\"\"\n",
    "\n",
    "    X_train = X_train.reshape(X_train.shape[0], -1)  # Flatten the input data\n",
    "    input_size = X_train.shape[1]\n",
    "    output_size = y_train.shape[1]\n",
    "\n",
    "    parameters = initialize_parameters(input_size, hidden_size, output_size)\n",
    "\n",
    "    loss_history = []\n",
    "    accuracy_history = []\n",
    "\n",
    "    num_samples = X_train.shape[0]\n",
    "\n",
    "    for epoch in range(epochs):\n",
    "        epoch_loss = 0\n",
    "        epoch_accuracy = 0\n",
    "\n",
    "        num_batches = num_samples // batch_size\n",
    "        \n",
    "        for i in range(0, num_samples, batch_size):\n",
    "\n",
    "            X_batch = X_train[i:i + batch_size]\n",
    "            y_batch = y_train[i:i + batch_size]\n",
    "\n",
    "            A2, cache = forward_propagation(X_batch, parameters)\n",
    "\n",
    "            # Compute loss\n",
    "            loss = compute_loss(y_batch, A2)\n",
    "            epoch_loss += loss\n",
    "\n",
    "            # Compute accuracy\n",
    "            accuracy = compute_accuracy(y_batch, A2)\n",
    "            epoch_accuracy += accuracy\n",
    "\n",
    "            gradients = backward_propagation(\n",
    "                X_batch, y_batch, parameters, cache)\n",
    "\n",
    "            parameters = update_parameters(\n",
    "                parameters, gradients, learning_rate)\n",
    "\n",
    "        # Record loss and accuracy for the epoch\n",
    "        loss_history.append(epoch_loss / num_batches)\n",
    "        accuracy_history.append(epoch_accuracy / num_batches)\n",
    "\n",
    "        # Print progress every 10 epochs\n",
    "        if (epoch + 1) % 10 == 0:\n",
    "            print(\n",
    "                f\"Epoch {epoch + 1}/{epochs} , Loss: {epoch_loss / num_batches:.4f} , Accuracy: {epoch_accuracy / num_batches:.4f}\")\n",
    "\n",
    "    return loss_history, accuracy_history"
   ]
  },
  {
   "cell_type": "markdown",
   "metadata": {
    "id": "ja1aWHjwgwMl"
   },
   "source": [
    "2. Train the Model with Different Mini-Batch Sizes\n"
   ]
  },
  {
   "cell_type": "code",
   "execution_count": 23,
   "metadata": {
    "colab": {
     "base_uri": "https://localhost:8080/"
    },
    "id": "R7vvj-y_is_k",
    "outputId": "7bca490c-a4a5-4865-8448-37d26546cfc5"
   },
   "outputs": [
    {
     "name": "stdout",
     "output_type": "stream",
     "text": [
      "\n",
      "Training with mini-batch size: 16\n",
      "Epoch 10/50 , Loss: 0.3702 , Accuracy: 0.8736\n",
      "Epoch 20/50 , Loss: 0.3189 , Accuracy: 0.8922\n",
      "Epoch 30/50 , Loss: 0.2886 , Accuracy: 0.9014\n",
      "Epoch 40/50 , Loss: 0.2666 , Accuracy: 0.9102\n",
      "Epoch 50/50 , Loss: 0.2487 , Accuracy: 0.9176\n",
      "Final Loss (batch size 16): 0.2487\n",
      "Final Accuracy (batch size 16): 0.9176\n",
      "\n",
      "Training with mini-batch size: 32\n",
      "Epoch 10/50 , Loss: 0.4193 , Accuracy: 0.8597\n",
      "Epoch 20/50 , Loss: 0.3633 , Accuracy: 0.8776\n",
      "Epoch 30/50 , Loss: 0.3316 , Accuracy: 0.8878\n",
      "Epoch 40/50 , Loss: 0.3093 , Accuracy: 0.8963\n",
      "Epoch 50/50 , Loss: 0.2919 , Accuracy: 0.9024\n",
      "Final Loss (batch size 32): 0.2919\n",
      "Final Accuracy (batch size 32): 0.9024\n",
      "\n",
      "Training with mini-batch size: 64\n",
      "Epoch 10/50 , Loss: 0.4725 , Accuracy: 0.8454\n",
      "Epoch 20/50 , Loss: 0.4141 , Accuracy: 0.8641\n",
      "Epoch 30/50 , Loss: 0.3820 , Accuracy: 0.8742\n",
      "Epoch 40/50 , Loss: 0.3596 , Accuracy: 0.8818\n",
      "Epoch 50/50 , Loss: 0.3419 , Accuracy: 0.8869\n",
      "Final Loss (batch size 64): 0.3419\n",
      "Final Accuracy (batch size 64): 0.8869\n"
     ]
    }
   ],
   "source": [
    "\n",
    "# Note: This block takes almost 15 minutes to execute :)))\n",
    "def compare_mini_batch_sizes(X_train, y_train, hidden_size, epochs=50, batch_sizes=[16, 32, 64]):\n",
    "    \"\"\"\n",
    "    Compare the performance of different mini-batch sizes and print results.\n",
    "\n",
    "    Parameters:\n",
    "    - X_train: Training data.\n",
    "    - y_train: One-hot encoded labels.\n",
    "    - hidden_size: Number of neurons in the hidden layer.\n",
    "    - epochs: Number of training epochs.\n",
    "    - batch_sizes: List of mini-batch sizes to test.\n",
    "    \"\"\"\n",
    "    \n",
    "    for batch_size in batch_sizes:\n",
    "        print(f\"\\nTraining with mini-batch size: {batch_size}\")\n",
    "\n",
    "        loss_history, accuracy_history = train_model_with_mini_batches(\n",
    "            X_train, y_train, hidden_size, epochs, learning_rate=0.01, batch_size=batch_size)\n",
    "\n",
    "        print(f\"Final Loss (batch size {batch_size}): {loss_history[-1]:.4f}\")\n",
    "        print(\n",
    "            f\"Final Accuracy (batch size {batch_size}): {accuracy_history[-1]:.4f}\")\n",
    "\n",
    "compare_mini_batch_sizes(x_train, y_train, hidden_size=64,\n",
    "                         epochs=50, batch_sizes=[16, 32, 64])"
   ]
  },
  {
   "cell_type": "markdown",
   "metadata": {
    "id": "wb3WXFgMlXP7"
   },
   "source": [
    "### Mini-Batch vs. Full-Batch Gradient Descent\n"
   ]
  },
  {
   "cell_type": "markdown",
   "metadata": {
    "id": "vVvy9f6PlPCS"
   },
   "source": [
    "TODO: Compare the efficiency and performance of mini-batch gradient descent against full-batch gradient descent.\n",
    "\n",
    "1. Implement Full-Batch Gradient Descent: Ensure you have a full-batch gradient descent implementation.\n",
    "\n",
    "2. Modify the Training Loop: Allow the training loop to handle both mini-batch and full-batch scenarios.\n",
    "\n",
    "3. Train the Model: Run the training process using both methods and track their performance.\n",
    "\n",
    "4. Print Results: Display the final loss and accuracy for both methods along with training times."
   ]
  },
  {
   "cell_type": "code",
   "execution_count": 24,
   "metadata": {
    "id": "tlTYBB2tlgBG"
   },
   "outputs": [],
   "source": [
    "def train_model_full_batch(X_train, y_train, hidden_size, epochs=50, learning_rate=0.01):\n",
    "    \"\"\"\n",
    "    Train the neural network model using full-batch gradient descent.\n",
    "\n",
    "    Parameters:\n",
    "    - X_train: Training data.\n",
    "    - y_train: One-hot encoded labels.\n",
    "    - hidden_size: Number of neurons in the hidden layer.\n",
    "    - epochs: Number of training epochs.\n",
    "    - learning_rate: Learning rate for optimization.\n",
    "\n",
    "    Returns:\n",
    "    - loss_history: List of loss values over epochs.\n",
    "    - accuracy_history: List of accuracy values over epochs.\n",
    "    \"\"\"\n",
    "    \n",
    "    X_train = X_train.reshape(X_train.shape[0], -1)\n",
    "    input_size = X_train.shape[1]  \n",
    "    output_size = y_train.shape[1] \n",
    "    parameters = initialize_parameters(input_size, hidden_size, output_size)\n",
    "\n",
    "    # Lists to store loss and accuracy history\n",
    "    loss_history = []\n",
    "    accuracy_history = []\n",
    "\n",
    "    for epoch in range(epochs):\n",
    "        \n",
    "        A2,cache = forward_propagation(X_train, parameters)\n",
    "\n",
    "        # Compute Loss\n",
    "        loss = compute_loss(y_train, A2)\n",
    "        # Compute Accuracy\n",
    "        accuracy = compute_accuracy(y_train, A2)\n",
    "\n",
    "        gradients = backward_propagation(X_train, y_train, parameters, cache)\n",
    "\n",
    "        parameters = update_parameters(\n",
    "            parameters, gradients, learning_rate)\n",
    "\n",
    "        loss_history.append(loss)\n",
    "        accuracy_history.append(accuracy)\n",
    "\n",
    "        if (epoch + 1) % 10 == 0:\n",
    "            print(\n",
    "                f\"Epoch {epoch + 1}/{epochs} , Loss: {loss:.4f} , Accuracy: {accuracy:.4f}\")\n",
    "\n",
    "    return loss_history, accuracy_history"
   ]
  },
  {
   "cell_type": "code",
   "execution_count": 25,
   "metadata": {
    "colab": {
     "base_uri": "https://localhost:8080/"
    },
    "id": "YIb4-9eGllGi",
    "outputId": "ead5c84a-6a1d-4c2e-fe64-47345d5f86b5"
   },
   "outputs": [
    {
     "name": "stdout",
     "output_type": "stream",
     "text": [
      "\n",
      "Training with Full-Batch Gradient Descent...\n",
      "Epoch 10/50 , Loss: 1.5206 , Accuracy: 0.1968\n",
      "Epoch 20/50 , Loss: 1.8541 , Accuracy: 0.2579\n",
      "Epoch 30/50 , Loss: 1.9041 , Accuracy: 0.3045\n",
      "Epoch 40/50 , Loss: 1.8691 , Accuracy: 0.3573\n",
      "Epoch 50/50 , Loss: 1.8127 , Accuracy: 0.4076\n",
      "\n",
      "Training with Mini-Batch Gradient Descent...\n",
      "Epoch 10/50 , Loss: 0.4193 , Accuracy: 0.8597\n",
      "Epoch 20/50 , Loss: 0.3633 , Accuracy: 0.8776\n",
      "Epoch 30/50 , Loss: 0.3316 , Accuracy: 0.8878\n",
      "Epoch 40/50 , Loss: 0.3093 , Accuracy: 0.8963\n",
      "Epoch 50/50 , Loss: 0.2919 , Accuracy: 0.9024\n",
      "\n",
      "\n",
      "Summary:\n",
      "Mini-Batch Final Loss: 0.2919, Final Accuracy: 0.9024, Time: 112.65 seconds\n",
      "Full-Batch Final Loss: 1.8127, Final Accuracy: 0.4076, Time: 27.52 seconds\n"
     ]
    },
    {
     "data": {
      "image/png": "[encoded data removed]",
      "text/plain": [
       "<Figure size 1000x600 with 1 Axes>"
      ]
     },
     "metadata": {},
     "output_type": "display_data"
    },
    {
     "data": {
      "image/png": "[encoded data removed]",
      "text/plain": [
       "<Figure size 1000x600 with 1 Axes>"
      ]
     },
     "metadata": {},
     "output_type": "display_data"
    }
   ],
   "source": [
    "import time\n",
    "import matplotlib.pyplot as plt\n",
    "\n",
    "\n",
    "def compare_mini_batch_and_full_batch(X_train, y_train, hidden_size, epochs=50, batch_size=32):\n",
    "    \"\"\"\n",
    "    Compare the performance of mini-batch gradient descent against full-batch gradient descent.\n",
    "\n",
    "    Parameters:\n",
    "    - X_train: Training data.\n",
    "    - y_train: One-hot encoded labels.\n",
    "    - hidden_size: Number of neurons in the hidden layer.\n",
    "    - epochs: Number of training epochs.\n",
    "    - batch_size: Size of mini-batches for mini-batch gradient descent.\n",
    "    \"\"\"\n",
    "\n",
    "    # Train with full-batch gradient descent\n",
    "    print(\"\\nTraining with Full-Batch Gradient Descent...\")\n",
    "    start_time_full_batch = time.time()\n",
    "    loss_history_full_batch, accuracy_history_full_batch = train_model_full_batch(\n",
    "        X_train, y_train, hidden_size, epochs, learning_rate=0.01)\n",
    "    end_time_full_batch = time.time()\n",
    "    full_batch_time = end_time_full_batch - start_time_full_batch\n",
    "\n",
    "    # Train with mini-batch gradient descent\n",
    "    print(\"\\nTraining with Mini-Batch Gradient Descent...\")\n",
    "    start_time_mini_batch = time.time()\n",
    "    loss_history_mini_batch, accuracy_history_mini_batch = train_model_with_mini_batches(\n",
    "        X_train, y_train, hidden_size, epochs, learning_rate=0.01, batch_size=batch_size)\n",
    "    end_time_mini_batch = time.time()\n",
    "    mini_batch_time = end_time_mini_batch - start_time_mini_batch\n",
    "    \n",
    "    # Final Metrics and Summary\n",
    "    mini_batch_final_loss = loss_history_mini_batch[-1]\n",
    "    mini_batch_final_accuracy = accuracy_history_mini_batch[-1]\n",
    "    full_batch_final_loss = loss_history_full_batch[-1]\n",
    "    full_batch_final_accuracy = accuracy_history_full_batch[-1]\n",
    "\n",
    "    print(\"\\n\\nSummary:\")\n",
    "    print(\n",
    "        f\"Mini-Batch Final Loss: {mini_batch_final_loss:.4f}, Final Accuracy: {mini_batch_final_accuracy:.4f}, Time: {mini_batch_time:.2f} seconds\")\n",
    "    print(\n",
    "        f\"Full-Batch Final Loss: {full_batch_final_loss:.4f}, Final Accuracy: {full_batch_final_accuracy:.4f}, Time: {full_batch_time:.2f} seconds\")\n",
    "\n",
    "    # Plot loss comparison\n",
    "    plt.figure(figsize=(10, 6))\n",
    "    plt.plot(range(epochs), loss_history_full_batch,\n",
    "             label='Full-Batch Gradient Descent', color='blue')\n",
    "    plt.plot(range(epochs), loss_history_mini_batch,\n",
    "             label='Mini-Batch Gradient Descent', color='red')\n",
    "\n",
    "    plt.title('Loss Comparison of Full-Batch and Mini-Batch Gradient Descent')\n",
    "    plt.xlabel('Epochs')\n",
    "    plt.ylabel('Loss')\n",
    "    plt.legend()\n",
    "    plt.grid(True)\n",
    "    plt.show()\n",
    "\n",
    "    # Plot accuracy comparison\n",
    "    plt.figure(figsize=(10, 6))\n",
    "    plt.plot(range(epochs), accuracy_history_full_batch,\n",
    "             label='Full-Batch Accuracy', color='blue')\n",
    "    plt.plot(range(epochs), accuracy_history_mini_batch,\n",
    "             label='Mini-Batch Accuracy', color='red')\n",
    "\n",
    "    plt.title('Accuracy Comparison of Full-Batch and Mini-Batch Gradient Descent')\n",
    "    plt.xlabel('Epochs')\n",
    "    plt.ylabel('Accuracy')\n",
    "    plt.legend()\n",
    "    plt.grid(True)\n",
    "    plt.show()\n",
    "\n",
    "\n",
    "compare_mini_batch_and_full_batch(\n",
    "    x_train, y_train, hidden_size=64, epochs=50, batch_size=32)"
   ]
  }
 ],
 "metadata": {
  "colab": {
   "provenance": []
  },
  "kernelspec": {
   "display_name": "Python 3",
   "name": "python3"
  },
  "language_info": {
   "codemirror_mode": {
    "name": "ipython",
    "version": 3
   },
   "file_extension": ".py",
   "mimetype": "text/x-python",
   "name": "python",
   "nbconvert_exporter": "python",
   "pygments_lexer": "ipython3",
   "version": "3.12.2"
  }
 },
 "nbformat": 4,
 "nbformat_minor": 0
}
