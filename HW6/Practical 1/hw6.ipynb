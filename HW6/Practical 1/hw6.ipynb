{
  "cells": [
    {
      "cell_type": "markdown",
      "id": "be138f6f",
      "metadata": {
        "id": "be138f6f",
        "papermill": {
          "duration": 0.02181,
          "end_time": "2024-12-18T17:13:30.324107",
          "exception": false,
          "start_time": "2024-12-18T17:13:30.302297",
          "status": "completed"
        },
        "tags": []
      },
      "source": [
        "# Knowdge Distillation using Contrastive Learning\n"
      ]
    },
    {
      "cell_type": "markdown",
      "id": "376ecc79",
      "metadata": {
        "id": "376ecc79",
        "papermill": {
          "duration": 0.014958,
          "end_time": "2024-12-18T17:13:30.355437",
          "exception": false,
          "start_time": "2024-12-18T17:13:30.340479",
          "status": "completed"
        },
        "tags": []
      },
      "source": [
        " #### Student Name:\n",
        "\n",
        "\n",
        " #### Student ID:\n"
      ]
    },
    {
      "cell_type": "markdown",
      "id": "a1dba4d2",
      "data": {
        "id": "a1dba4d2",
        "papermill": {
          "duration": 0.014965,
          "end_time": "2024-12-18T17:13:30.385132",
          "exception": false,
          "start_time": "2024-12-18T17:13:30.370167",
          "status": "completed"
        },
        "tags": []
      },
      "source": [
        "In this exercise, we aim to distill knowledge from a large monolingual model into a smaller multilingual model using contrastive learning, specifically leveraging the CLIP model loss.\n",
        "\n",
        "We employ a small paired English-Persian dataset to define the loss pairs for our CLIP training. Given the substantial dataset size and batch size typically required for CLIP's loss computation (exceeding 19,000 samples per batch in standard tasks), which is impractical for our setup on Colab, we use a reduced batch size to focus on learning the procedure rather than achieving optimal performance, so we don't expect actual real-world results, only the training prcodure."
      ]
    },
    {
      "cell_type": "markdown",
      "id": "90e95f9e",
      "metadata": {
        "id": "90e95f9e",
        "papermill": {
          "duration": 0.014841,
          "end_time": "2024-12-18T17:13:30.414686",
          "exception": false,
          "start_time": "2024-12-18T17:13:30.399845",
          "status": "completed"
        },
        "tags": []
      },
      "source": [
        "CLIP (Contrastive Language-Image Pretraining) is a foundational model introduced by OpenAI to bridge the gap between text and image modalities. By aligning text descriptions and corresponding images in a shared embedding space, CLIP achieves remarkable zero-shot generalization capabilities across a wide range of tasks. It is trained on a massive dataset of image-text pairs using contrastive loss, ensuring that image embeddings align closely with their corresponding textual descriptions while remaining distinct from unrelated samples. This cross-modal alignment enables CLIP to perform tasks like image retrieval, captioning, and classification with minimal fine-tuning.\n",
        "\n",
        "The CLIP loss plays a crucial role in training the model by implementing a cross-entropy loss function in the contrastive learning framework. This loss operates on paired data, where each image-text pair is treated as a positive match, while all other pair combinations in the batch are considered negatives. The loss ensures that positive pairs receive high similarity scores, while negatives are penalized. However, achieving optimal results with CLIP loss often requires large batch sizes to provide sufficient negative samples, which can be computationally intensive. This makes training with limited resources challenging, necessitating adaptations such as smaller batch sizes or alternative strategies to approximate the training dynamics.\n",
        "\n",
        "\n",
        "Knowledge distillation is a technique used in machine learning to transfer knowledge from a large, complex model (the \"teacher\") to a smaller, more efficient model (the \"student\"). The primary goal of this process is to retain the performance and accuracy of the larger model while significantly reducing computational and memory requirements. This is achieved by training the student model to mimic the outputs of the teacher model, often through techniques such as matching soft probability distributions or intermediate representations. Knowledge distillation has become an essential approach in deploying machine learning models on resource-constrained devices such as smartphones and edge devices.\n",
        "\n",
        "In practice, knowledge distillation is not limited to replicating predictions; it can also involve transferring knowledge about internal features or learned representations.\n",
        "\n",
        "\n",
        "### Challenges in Resource-Constrained Settings\n",
        "CLIP’s reliance on large-scale datasets and batch sizes makes direct implementation computationally demanding. This exercise demonstrates an adaptation of the process, reducing batch size and dataset size to provide a practical understanding of the training procedure. While this approach sacrifices performance and real-world applicability, it highlights the mechanics of using CLIP loss for contrastive learning and lays the foundation for extending the process to larger datasets and batch sizes in future applications.\n",
        "\n",
        "\n",
        "\n",
        "### About CLIP and Contrastive Learning\n",
        "CLIP, developed by OpenAI, bridges the gap between text and image modalities by aligning corresponding embeddings in a shared space. It leverages contrastive loss to train on image-text pairs, ensuring that embeddings of positive pairs (e.g., an image and its corresponding caption) are highly similar, while embeddings of unrelated pairs remain distinct. The cross-entropy-based contrastive loss evaluates the similarity between positive pairs while penalizing mismatches for all other combinations within a batch.\n",
        "\n",
        "### Key aspects of CLIP loss include:\n",
        "\n",
        "- Positive Pairing: Encourages high similarity scores for embeddings of paired text and image data.\n",
        "- Negative Sampling: Penalizes mismatched pairs within the batch, requiring large batch sizes for effective performance due to the need for a diverse set of negative samples.\n",
        "\n"
      ]
    },
    {
      "cell_type": "markdown",
      "id": "ba7c7274",
      "metadata": {
        "id": "ba7c7274",
        "papermill": {
          "duration": 0.01457,
          "end_time": "2024-12-18T17:13:30.444777",
          "exception": false,
          "start_time": "2024-12-18T17:13:30.430207",
          "status": "completed"
        },
        "tags": []
      },
      "source": [
        "## !!! Note !!! You Should Answer to all the TODOs\n",
        "\n",
        "Also feel free to ask your questions on Quera."
      ]
    },
    {
      "cell_type": "markdown",
      "id": "e7da461e",
      "metadata": {
        "id": "e7da461e",
        "papermill": {
          "duration": 0.014905,
          "end_time": "2024-12-18T17:13:30.474341",
          "exception": false,
          "start_time": "2024-12-18T17:13:30.459436",
          "status": "completed"
        },
        "tags": []
      },
      "source": [
        "\n",
        "\n",
        "## Setup\n"
      ]
    },
    {
      "cell_type": "markdown",
      "id": "06e48967",
      "metadata": {
        "id": "06e48967",
        "papermill": {
          "duration": 0.014958,
          "end_time": "2024-12-18T17:13:30.503840",
          "exception": false,
          "start_time": "2024-12-18T17:13:30.488882",
          "status": "completed"
        },
        "tags": []
      },
      "source": [
        "We install Required Packages."
      ]
    },
    {
      "cell_type": "code",
      "execution_count": 1,
      "id": "69339c7a",
      "metadata": {
        "colab": {
          "base_uri": "https://localhost:8080/"
        },
        "execution": {
          "iopub.execute_input": "2024-12-18T17:13:30.535983Z",
          "iopub.status.busy": "2024-12-18T17:13:30.535604Z",
          "iopub.status.idle": "2024-12-18T17:13:50.781819Z",
          "shell.execute_reply": "2024-12-18T17:13:50.781004Z"
        },
        "id": "69339c7a",
        "outputId": "784d6905-fc77-4161-999a-a4f723d9d0b3",
        "papermill": {
          "duration": 20.264414,
          "end_time": "2024-12-18T17:13:50.783672",
          "exception": false,
          "start_time": "2024-12-18T17:13:30.519258",
          "status": "completed"
        },
        "tags": []
      },
      "outputs": [
        {
          "name": "stdout",
          "output_type": "stream",
          "text": [
            "Downloading...\n",
            "From: https://drive.google.com/uc?id=1MVx_gIkX4tQ8ya2OsHt0mqLmw1Pf2CcK\n",
            "To: /content/train.csv\n",
            "100% 7.35M/7.35M [00:00<00:00, 96.5MB/s]\n",
            "Downloading...\n",
            "From: https://drive.google.com/uc?id=1Co-dwJfWw-C_ral0hoAS_X94wN-_vbCj\n",
            "To: /content/val.csv\n",
            "100% 2.45M/2.45M [00:00<00:00, 162MB/s]\n"
          ]
        }
      ],
      "source": [
        "!pip install -q gdown\n",
        "!gdown \"https://drive.google.com/uc?id=1MVx_gIkX4tQ8ya2OsHt0mqLmw1Pf2CcK\"\n",
        "!gdown \"https://drive.google.com/uc?id=1Co-dwJfWw-C_ral0hoAS_X94wN-_vbCj\""
      ]
    },
    {
      "cell_type": "code",
      "execution_count": 2,
      "id": "70d93c5e",
      "metadata": {
        "colab": {
          "base_uri": "https://localhost:8080/"
        },
        "execution": {
          "iopub.execute_input": "2024-12-18T17:13:50.816136Z",
          "iopub.status.busy": "2024-12-18T17:13:50.815755Z",
          "iopub.status.idle": "2024-12-18T17:14:15.313938Z",
          "shell.execute_reply": "2024-12-18T17:14:15.312837Z"
        },
        "id": "70d93c5e",
        "outputId": "98aad28f-dd0f-4aec-8a74-356a090e9aff",
        "papermill": {
          "duration": 24.516699,
          "end_time": "2024-12-18T17:14:15.316512",
          "exception": false,
          "start_time": "2024-12-18T17:13:50.799813",
          "status": "completed"
        },
        "tags": []
      },
      "outputs": [
        {
          "name": "stdout",
          "output_type": "stream",
          "text": [
            "Requirement already satisfied: setuptools in /usr/local/lib/python3.10/dist-packages (75.1.0)\n"
          ]
        },
        {
          "name": "stderr",
          "output_type": "stream",
          "text": [
            "<ipython-input-2-16d6a20cb021>:4: DeprecationWarning: pkg_resources is deprecated as an API. See https://setuptools.pypa.io/en/latest/pkg_resources.html\n",
            "  import pkg_resources\n"
          ]
        },
        {
          "name": "stdout",
          "output_type": "stream",
          "text": [
            "open_clip-torch is NOT installed\n",
            "open_clip-torch was successfully installed.\n",
            "pandas (2.2.2) is installed\n",
            "numpy (1.26.4) is installed\n",
            "matplotlib (3.10.0) is installed\n",
            "transformers (4.47.1) is installed\n",
            "tqdm (4.67.1) is installed\n",
            "torch (2.5.1+cu121) is installed\n",
            "datasets is NOT installed\n",
            "datasets was successfully installed.\n"
          ]
        }
      ],
      "source": [
        "!pip install setuptools\n",
        "import sys\n",
        "import subprocess\n",
        "import pkg_resources\n",
        "\n",
        "def installPackages(packages):\n",
        "    def installPackage(package):\n",
        "        subprocess.check_call([sys.executable, \"-m\", \"pip\", \"install\", package])\n",
        "\n",
        "    for package in REQUIRED_PACKAGES:\n",
        "        try:\n",
        "            dist = pkg_resources.get_distribution(package)\n",
        "            print('{} ({}) is installed'.format(dist.key, dist.version))\n",
        "        except pkg_resources.DistributionNotFound:\n",
        "            print('{} is NOT installed'.format(package))\n",
        "            installPackage(package)\n",
        "            print('{} was successfully installed.'.format(package))\n",
        "\n",
        "REQUIRED_PACKAGES = [\n",
        "    'open_clip-torch',\n",
        "    'pandas',\n",
        "    'numpy',\n",
        "    'matplotlib',\n",
        "    'transformers',\n",
        "    'tqdm',\n",
        "    'torch',\n",
        "    'datasets',\n",
        "]\n",
        "\n",
        "installPackages(REQUIRED_PACKAGES)\n",
        "\n",
        "import gc\n",
        "import itertools\n",
        "import re\n",
        "import math\n",
        "from collections import Counter\n",
        "import random\n",
        "import string\n",
        "import uuid\n",
        "\n",
        "import numpy as np\n",
        "import pandas as pd\n",
        "import matplotlib.pyplot as plt\n",
        "\n",
        "import open_clip\n",
        "from open_clip import model as TE\n",
        "\n",
        "import torch\n",
        "import torch.nn as nn\n",
        "import torch.nn.functional as F\n",
        "from torch.utils.data import DataLoader\n",
        "from torch.optim.lr_scheduler import ReduceLROnPlateau\n",
        "\n",
        "from datasets import load_dataset, Dataset, Features, Array2D, Value\n",
        "from transformers import AutoConfig, AutoTokenizer, AutoModel, TFAutoModel\n",
        "\n",
        "from tqdm import tqdm"
      ]
    },
    {
      "cell_type": "markdown",
      "id": "f4c39c86",
      "metadata": {
        "id": "f4c39c86",
        "papermill": {
          "duration": 0.01563,
          "end_time": "2024-12-18T17:14:15.349709",
          "exception": false,
          "start_time": "2024-12-18T17:14:15.334079",
          "status": "completed"
        },
        "tags": []
      },
      "source": [
        "Beware to use cuda for training!"
      ]
    },
    {
      "cell_type": "code",
      "execution_count": 3,
      "id": "fd519039",
      "metadata": {
        "colab": {
          "base_uri": "https://localhost:8080/"
        },
        "execution": {
          "iopub.execute_input": "2024-12-18T17:14:15.383716Z",
          "iopub.status.busy": "2024-12-18T17:14:15.383220Z",
          "iopub.status.idle": "2024-12-18T17:14:15.388059Z",
          "shell.execute_reply": "2024-12-18T17:14:15.387180Z"
        },
        "id": "fd519039",
        "outputId": "1a8e3de8-9c79-475d-a6a6-5df278542bfa",
        "papermill": {
          "duration": 0.024557,
          "end_time": "2024-12-18T17:14:15.389794",
          "exception": false,
          "start_time": "2024-12-18T17:14:15.365237",
          "status": "completed"
        },
        "tags": []
      },
      "outputs": [
        {
          "name": "stdout",
          "output_type": "stream",
          "text": [
            "Device: cuda:0\n"
          ]
        }
      ],
      "source": [
        "def getDevice(which=\"cuda:0\", yellAtCpu=True):\n",
        "    if torch.cuda.is_available():\n",
        "        device = torch.device(which)\n",
        "    else:\n",
        "        if yellAtCpu:\n",
        "             raise Exception(\"I won't run on CPU!\")\n",
        "        device = torch.device(\"cpu\")\n",
        "\n",
        "    return device\n",
        "\n",
        "print(f\"Device: {getDevice()}\")\n"
      ]
    },
    {
      "cell_type": "markdown",
      "id": "67a2eff9",
      "metadata": {
        "id": "67a2eff9",
        "papermill": {
          "duration": 0.016217,
          "end_time": "2024-12-18T17:14:15.422727",
          "exception": false,
          "start_time": "2024-12-18T17:14:15.406510",
          "status": "completed"
        },
        "tags": []
      },
      "source": [
        "#### Configs"
      ]
    },
    {
      "cell_type": "markdown",
      "id": "75c787a8",
      "metadata": {
        "id": "75c787a8",
        "papermill": {
          "duration": 0.016978,
          "end_time": "2024-12-18T17:14:15.455652",
          "exception": false,
          "start_time": "2024-12-18T17:14:15.438674",
          "status": "completed"
        },
        "tags": []
      },
      "source": [
        "These are our training configurations, read them!"
      ]
    },
    {
      "cell_type": "code",
      "execution_count": 4,
      "id": "802d832e",
      "metadata": {
        "execution": {
          "iopub.execute_input": "2024-12-18T17:14:15.503624Z",
          "iopub.status.busy": "2024-12-18T17:14:15.503324Z",
          "iopub.status.idle": "2024-12-18T17:14:15.590038Z",
          "shell.execute_reply": "2024-12-18T17:14:15.589056Z"
        },
        "id": "802d832e",
        "papermill": {
          "duration": 0.11541,
          "end_time": "2024-12-18T17:14:15.591685",
          "exception": false,
          "start_time": "2024-12-18T17:14:15.476275",
          "status": "completed"
        },
        "tags": []
      },
      "outputs": [],
      "source": [
        "def Configs():\n",
        "    return {\n",
        "        \"device\": getDevice(),\n",
        "        \"reference_checkPoint\" : \"EVA02-E-14-plus\",                # teacher\n",
        "        \"candidate_checkpoint\" : \"setu4993/smaller-LaBSE\",         # student\n",
        "        \"train_path\" : \"train.csv\",\n",
        "        \"val_path\" : \"val.csv\",\n",
        "        \"save_path\" : \"./best-model.pth\",\n",
        "        \"english\" : \"en\",                                         # dont mind them\n",
        "        \"persian\" : \"fa\",\n",
        "        \"batch_size\": 128,                                        # should have been really big, but we can't here\n",
        "        \"lr\": 1e-4,\n",
        "        \"epochs\": 5,                                               # 40 minute per epoch\n",
        "        \"tok_percentile\" : 99,\n",
        "        \"temperature\": 20,\n",
        "        \"dropout\": 0.05,\n",
        "        \"unfreezed_layers\" : 10,\n",
        "        \"weight_decay\": 1e-5,\n",
        "        \"patience\": 1,\n",
        "        \"factor\" : 0.8,\n",
        "        \"reference_embedding\": 1024,                               # DONT MIND THESE\n",
        "        \"reference_context_length\" : 77,\n",
        "        \"reference_vocab_size\" : 49408,\n",
        "        \"reference_heads\" : 20,\n",
        "        \"reference_width\" : 1280,\n",
        "        \"reference_layers\" : 32,\n",
        "        \"cls_token_index\" : 0,\n",
        "        \"project_to\" : 1024,\n",
        "    }\n",
        "\n",
        "configs = Configs()"
      ]
    },
    {
      "cell_type": "markdown",
      "id": "7b95e360",
      "metadata": {
        "id": "7b95e360",
        "papermill": {
          "duration": 0.015595,
          "end_time": "2024-12-18T17:14:15.623791",
          "exception": false,
          "start_time": "2024-12-18T17:14:15.608196",
          "status": "completed"
        },
        "tags": []
      },
      "source": [
        "## Question Box\n",
        "### TODO (10pts)\n",
        "1- Why do we use temperature in training using contrastive learning?<br/><br/>\n",
        "\n",
        "  In contrastive learning, temperature is a hyperparameter used to scale the logits before they are passed to the softmax function. The purpose of the temperature parameter is to control the softness of the probability distribution produced by the softmax function, so that it could help with better separation of positive pairs from negative pairs. Higher temperature leads to a softer distribution, and lower temperature leads to a harder distribution. Temperature is crucial to tune the hardness or softness of the distribution in similarity space.\n",
        "<br/><br/>\n",
        "2- Why do we need to freeze some layers of a model? mention 2 reasons.<br/><br/>\n",
        "  Freezing layers means making their weights untrainable during backpropagation. This is done for several reasons:\n",
        "\n",
        "    Reason 1: Preserve Pre-trained Knowledge: Pre-trained models often come with valuable knowledge about general features. Freezing initial layers prevents their weights from being drastically altered, preserving this knowledge and allowing the model to focus on learning task-specific features in the later layers.\n",
        "    Reason 2: Reduce Computational Cost: Freezing layers reduces the number of parameters being updated during training, leading to faster training and lower memory requirements. This is particularly important when fine-tuning large pre-trained models on limited resources.\n",
        "\n",
        "\n",
        "<br/>\n",
        "3- Read the whole code and find out what tok_percentile is used for.<br/><br/>\n",
        "\n",
        "tok_percentile is used to determine the maximum length of input sequences after tokenization. It is set to 99, meaning that 99% of the sentences in the training set are at or below the chosen token length, and only 1% that might be longer will be truncated. This helps ensure that the vast majority of sentences in the training dataset are included during training without exceeding a defined token length. This helps in preventing very long input texts and maintain uniform input lengths for the training."
      ]
    },
    {
      "cell_type": "markdown",
      "id": "6a9cfd8b",
      "metadata": {
        "id": "6a9cfd8b",
        "papermill": {
          "duration": 0.015679,
          "end_time": "2024-12-18T17:14:15.655199",
          "exception": false,
          "start_time": "2024-12-18T17:14:15.639520",
          "status": "completed"
        },
        "tags": []
      },
      "source": [
        "## Data and Preprocessing"
      ]
    },
    {
      "cell_type": "code",
      "execution_count": 5,
      "id": "5d84bc5a",
      "metadata": {
        "execution": {
          "iopub.execute_input": "2024-12-18T17:14:15.689321Z",
          "iopub.status.busy": "2024-12-18T17:14:15.688449Z",
          "iopub.status.idle": "2024-12-18T17:14:15.700724Z",
          "shell.execute_reply": "2024-12-18T17:14:15.699987Z"
        },
        "id": "5d84bc5a",
        "papermill": {
          "duration": 0.031369,
          "end_time": "2024-12-18T17:14:15.702439",
          "exception": false,
          "start_time": "2024-12-18T17:14:15.671070",
          "status": "completed"
        },
        "tags": []
      },
      "outputs": [],
      "source": [
        "def getDatasetsCSV(prevEnCol, prevFaCol, newEnCol, newFaCol, trainPath, valPath):\n",
        "    df = pd.read_csv(trainPath)\n",
        "    dfVal = pd.read_csv(valPath)\n",
        "\n",
        "    if df.empty:\n",
        "        raise ValueError(\"Training dataset is empty or missing\")\n",
        "\n",
        "    if dfVal.empty:\n",
        "        raise ValueError(\"Validation dataset is empty or missing\")\n",
        "\n",
        "    dfTraind = df.loc[:, [prevEnCol, prevFaCol]].rename(columns={prevEnCol: newEnCol, prevFaCol: newFaCol})\n",
        "    dfVal = dfVal.loc[:, [prevEnCol, prevFaCol]].rename(columns={prevEnCol: newEnCol, prevFaCol: newFaCol})\n",
        "\n",
        "    datasetTrain = Dataset.from_pandas(dfTraind)\n",
        "    datasetVal = Dataset.from_pandas(dfVal)\n",
        "\n",
        "    return datasetTrain, datasetVal\n",
        "\n",
        "def getDsByLang(persianCol, englishCol):\n",
        "    def getPersianDs(dataset):\n",
        "        return dataset[persianCol]\n",
        "\n",
        "    def getEnglishDs(dataset):\n",
        "        return dataset[englishCol]\n",
        "\n",
        "    getPersianDs.label = persianCol\n",
        "    getEnglishDs.label = englishCol\n",
        "\n",
        "    return getPersianDs, getEnglishDs\n",
        "\n",
        "class Normalizer():\n",
        "    def __init__(self):\n",
        "        translation_src = ' ىكي“”0123456789%إأآئيؤةك'\n",
        "        translation_dst = ' یکی\"\"۰۱۲۳۴۵۶۷۸۹٪اااییوهک'\n",
        "\n",
        "        self.translations = str.maketrans(translation_src, translation_dst)\n",
        "\n",
        "        patterns = [\n",
        "            (r' {2,}', ' '),  # remove extra spaces\n",
        "            (r'\\n+', ' '),  # replace newlines with space\n",
        "            (r'\\u200c+', ' '),  # replace ZWNJs with space\n",
        "            (r'[ـ\\r]', '')  # remove keshide, carriage returns\n",
        "        ]\n",
        "\n",
        "        self.character_refinement_patterns = [(re.compile(pattern), repl) for pattern, repl in patterns]\n",
        "\n",
        "    def normalizeFa(self, text):\n",
        "        text = text.lower().translate(self.translations)\n",
        "        text = re.sub('[^a-zA-Z۰-۹آ-ی ]', ' ', text)\n",
        "\n",
        "        for pattern, repl in self.character_refinement_patterns:\n",
        "            text = pattern.sub(repl, text)\n",
        "        return text.strip()\n",
        "\n",
        "    def normalizeEn(self, text):\n",
        "        text = text.lower()\n",
        "        text = text.translate(str.maketrans('', '', string.punctuation)) # Remove punctuation\n",
        "        return text\n",
        "\n",
        "def applyPreprocess(datasets, configs=configs, Normalizer=Normalizer):\n",
        "    def applyRowNormalization(example):\n",
        "        example[configs['persian']] = normalizer.normalizeFa(example[configs['persian']])\n",
        "        example[configs['english']] = normalizer.normalizeEn(example[configs['english']])\n",
        "\n",
        "        return example\n",
        "\n",
        "    normalizer = Normalizer()\n",
        "\n",
        "    newDatasets = []\n",
        "    for dataset in datasets:\n",
        "        newDatasets.append(dataset.map(applyRowNormalization))\n",
        "\n",
        "    return newDatasets\n",
        "\n",
        "def preprocessSentence(text, lang, mostFreq=None, Normalizer=Normalizer, configs=configs):\n",
        "    normalizer = Normalizer()\n",
        "    if lang == configs['persian']:\n",
        "        normalized = normalizer.normalizeFa(text)\n",
        "    elif lang == configs['english']:\n",
        "        normalized = normalizer.normalizeEn(text)\n",
        "    else:\n",
        "        raise ValueError(\"Not supported lang\")\n",
        "\n",
        "    return normalized"
      ]
    },
    {
      "cell_type": "markdown",
      "id": "86190e87",
      "metadata": {
        "id": "86190e87",
        "papermill": {
          "duration": 0.016557,
          "end_time": "2024-12-18T17:14:15.735930",
          "exception": false,
          "start_time": "2024-12-18T17:14:15.719373",
          "status": "completed"
        },
        "tags": []
      },
      "source": [
        "## Utils\n",
        "### TODO: Complete these Utility functions (10pts)"
      ]
    },
    {
      "cell_type": "code",
      "execution_count": 6,
      "id": "7b0c992a",
      "metadata": {
        "execution": {
          "iopub.execute_input": "2024-12-18T17:14:15.771618Z",
          "iopub.status.busy": "2024-12-18T17:14:15.771362Z",
          "iopub.status.idle": "2024-12-18T17:14:15.776968Z",
          "shell.execute_reply": "2024-12-18T17:14:15.776216Z"
        },
        "id": "7b0c992a",
        "papermill": {
          "duration": 0.025354,
          "end_time": "2024-12-18T17:14:15.778667",
          "exception": false,
          "start_time": "2024-12-18T17:14:15.753313",
          "status": "completed"
        },
        "tags": []
      },
      "outputs": [],
      "source": [
        "def getClsToken(tensor, configs=configs):\n",
        "    \"\"\"\n",
        "    Extracts the classification (CLS) token from the input tensor.\n",
        "\n",
        "    Parameters:\n",
        "        tensor (torch.Tensor): The input tensor of shape (batch_size, seq_length, hidden_dim).\n",
        "        configs (dict): A dictionary containing configuration settings. Must include the key \"cls_token_index\"\n",
        "                        which specifies the index of the CLS token in the sequence dimension.\n",
        "\n",
        "    Returns:\n",
        "        torch.Tensor: A tensor containing the CLS token for each example in the batch,\n",
        "                      of shape (batch_size, 1, hidden_dim).\n",
        "    \"\"\"\n",
        "    clsId = configs[\"cls_token_index\"]\n",
        "    return tensor[:, clsId, :].unsqueeze(1)\n",
        "\n",
        "def flattenMiddle(tensor):\n",
        "    \"\"\"\n",
        "    Flattens the middle dimension (sequence length) of the input tensor, removing it.\n",
        "\n",
        "    Parameters:\n",
        "        tensor (torch.Tensor): The input tensor of shape (batch_size, seq_length, hidden_dim).\n",
        "\n",
        "    Returns:\n",
        "        torch.Tensor: A tensor of shape (batch_size, hidden_dim) with the middle dimension flattened out.\n",
        "    \"\"\"\n",
        "    return tensor.squeeze(1)\n",
        "\n",
        "def freezeModel(model):\n",
        "    \"\"\"\n",
        "    Freeze all parameters of a given model.\n",
        "    Parameters:\n",
        "        model (torch.nn.Module): The PyTorch model whose parameters are to be frozen.\n",
        "    \"\"\"\n",
        "    for param in model.parameters():\n",
        "        param.requires_grad = False\n",
        "    return model"
      ]
    },
    {
      "cell_type": "code",
      "execution_count": 7,
      "id": "2489bf4f",
      "metadata": {
        "execution": {
          "iopub.execute_input": "2024-12-18T17:14:15.813785Z",
          "iopub.status.busy": "2024-12-18T17:14:15.813542Z",
          "iopub.status.idle": "2024-12-18T17:14:15.820975Z",
          "shell.execute_reply": "2024-12-18T17:14:15.820275Z"
        },
        "id": "2489bf4f",
        "papermill": {
          "duration": 0.026945,
          "end_time": "2024-12-18T17:14:15.822548",
          "exception": false,
          "start_time": "2024-12-18T17:14:15.795603",
          "status": "completed"
        },
        "tags": []
      },
      "outputs": [],
      "source": [
        "def plotMetric(metricData, metricName):\n",
        "    if metricName == None or metricName not in metricData:\n",
        "        raise ValueError(\"No such metric\")\n",
        "    metricData[metricName].plot()\n",
        "    plt.xlabel('Epochs')\n",
        "    plt.ylabel(metricName)\n",
        "    plt.title(f'Plot of {metricName}')\n",
        "    plt.show()\n",
        "\n",
        "threshold=1\n",
        "def calcPrcentileTokens(dataset, tokenizer, field, percentile=configs[\"tok_percentile\"], thershold=1):\n",
        "    \"\"\"\n",
        "    Calculate the token length at a specific percentile for a dataset field.\n",
        "\n",
        "    This function tokenizes the data in the specified field of the dataset and calculates\n",
        "    the token length at the given percentile. An optional threshold can be added to the result.\n",
        "\n",
        "    Parameters:\n",
        "        dataset (dict or Dataset): The dataset containing the data to be tokenized.\n",
        "        tokenizer (callable): A tokenizer function or object with a callable interface\n",
        "                              (e.g., HuggingFace tokenizer).\n",
        "        field (str): The field in the dataset whose token lengths are to be calculated.\n",
        "        percentile (float, optional): The percentile to compute (default is the value in\n",
        "                                       `configs[\"tok_percentile\"]`).\n",
        "        thershold (int, optional): A value to add to the calculated percentile token length\n",
        "                                    (default is 1).\n",
        "\n",
        "    Returns:\n",
        "        int: The token length at the specified percentile plus the threshold.\n",
        "\n",
        "    Raises:\n",
        "        KeyError: If the specified field does not exist in the dataset.\n",
        "        TypeError: If `tokenized` is not in the expected format.\n",
        "\n",
        "    Example:\n",
        "        dataset = {\"text\": [\"This is a sentence.\", \"Another example sentence.\"]}\n",
        "        tokenizer = lambda x: {\"input_ids\": [[1, 2, 3, 4], [5, 6, 7, 8, 9]]}\n",
        "        field = \"text\"\n",
        "        calcPrcentileTokens(dataset, tokenizer, field, percentile=95, thershold=2)\n",
        "\n",
        "    Notes:\n",
        "        - If the tokenized output is a dictionary (e.g., HuggingFace tokenizers), it assumes\n",
        "          that `input_ids` contains the token sequences.\n",
        "        - If the tokenized output is a tensor, nonzero token counts are used to determine lengths.\n",
        "    \"\"\"\n",
        "    tokenized = tokenizer(dataset[field])\n",
        "    if not isinstance(tokenized, torch.Tensor):\n",
        "        tokenLengths = list(map(lambda sen: len(sen), tokenized['input_ids']))\n",
        "    else:\n",
        "        tokenLengths = [tensor.nonzero().size(0) for tensor in tokenized]\n",
        "    percentileLength = np.percentile(tokenLengths, percentile)\n",
        "    return int(percentileLength) + 1\n",
        "\n",
        "# Dont Touch This\n",
        "def TextEncoder(configs):\n",
        "    newModel = TE.TextTransformer(context_length=configs['reference_context_length'],\n",
        "                                 vocab_size=configs[\"reference_vocab_size\"],\n",
        "                                 width=configs[\"reference_width\"],\n",
        "                                 layers=configs[\"reference_layers\"],\n",
        "                                 heads=configs[\"reference_heads\"],\n",
        "                                 output_dim=configs[\"reference_embedding\"])\n",
        "    return newModel\n"
      ]
    },
    {
      "cell_type": "markdown",
      "id": "ee90637f",
      "metadata": {
        "id": "ee90637f",
        "papermill": {
          "duration": 0.016248,
          "end_time": "2024-12-18T17:14:15.854449",
          "exception": false,
          "start_time": "2024-12-18T17:14:15.838201",
          "status": "completed"
        },
        "tags": []
      },
      "source": [
        "## Models"
      ]
    },
    {
      "cell_type": "markdown",
      "id": "7f75d675",
      "metadata": {
        "id": "7f75d675",
        "papermill": {
          "duration": 0.016386,
          "end_time": "2024-12-18T17:14:15.886639",
          "exception": false,
          "start_time": "2024-12-18T17:14:15.870253",
          "status": "completed"
        },
        "tags": []
      },
      "source": [
        "### TODO: Compelete the Swish and LinearProjection functions based on the pydoc provided (15pts)"
      ]
    },
    {
      "cell_type": "code",
      "execution_count": 8,
      "id": "83acbdd5",
      "metadata": {
        "execution": {
          "iopub.execute_input": "2024-12-18T17:14:15.920626Z",
          "iopub.status.busy": "2024-12-18T17:14:15.920377Z",
          "iopub.status.idle": "2024-12-18T17:14:15.927353Z",
          "shell.execute_reply": "2024-12-18T17:14:15.926669Z"
        },
        "id": "83acbdd5",
        "papermill": {
          "duration": 0.02619,
          "end_time": "2024-12-18T17:14:15.929057",
          "exception": false,
          "start_time": "2024-12-18T17:14:15.902867",
          "status": "completed"
        },
        "tags": []
      },
      "outputs": [],
      "source": [
        "class Swish(nn.Module):\n",
        "    \"\"\"\n",
        "    Implements the Swish activation function.\n",
        "    Parameters:\n",
        "        beta (float, optional): The scaling parameter for the input x in the sigmoid\n",
        "                                function. Default is 1.0.\n",
        "    \"\"\"\n",
        "    def __init__(self, beta=1.0):\n",
        "        super().__init__()\n",
        "        self.beta = beta\n",
        "\n",
        "    def forward(self, x):\n",
        "        return x * torch.sigmoid(self.beta * x)\n",
        "\n",
        "class LinearProjection(nn.Module):\n",
        "    \"\"\"\n",
        "    A projection layer with Swish activation, batch normalization, dropout, and residual connections.\n",
        "\n",
        "    This module takes an input tensor, applies a series of transformations, and produces an\n",
        "    output tensor of the same shape, making use of residual connections and layer normalization.\n",
        "\n",
        "    Parameters:\n",
        "        embedding_dim (int): The dimensionality of the input embeddings.\n",
        "        projection_dim (int, optional): The dimensionality of the projection. Default is\n",
        "                                        `configs['project_to']`.\n",
        "        dropout (float, optional): The dropout rate. Default is `configs['dropout']`.\n",
        "\n",
        "    Layers:\n",
        "        - projection: Linear layer that projects the input to the specified `projection_dim`.\n",
        "        - swish: Swish activation function with a fixed beta of 1.0.\n",
        "        - batch_norm: Batch normalization applied after projection.\n",
        "        - fc: Fully connected layer for further transformations.\n",
        "        - dropout: Dropout applied to the output of the fully connected layer.\n",
        "        - layer_norm: Layer normalization applied after residual connection.\n",
        "\n",
        "    Methods:\n",
        "        forward(x):\n",
        "            Applies the projection, activation, normalization, dropout, residual connection,\n",
        "            and layer normalization to the input tensor.\n",
        "\n",
        "    Example:\n",
        "        model = LinearProjection(embedding_dim=128, projection_dim=64, dropout=0.1)\n",
        "        output = model(input_tensor)\n",
        "    \"\"\"\n",
        "    def __init__(self, embedding_dim, projection_dim=configs['project_to'], dropout=configs['dropout']):\n",
        "        super(LinearProjection, self).__init__()\n",
        "        self.projection = nn.Linear(embedding_dim, projection_dim)\n",
        "        self.swish = Swish(beta=1.0)\n",
        "        self.batch_norm = nn.BatchNorm1d(projection_dim)\n",
        "        self.fc = nn.Linear(projection_dim, projection_dim)\n",
        "        self.dropout = nn.Dropout(dropout)\n",
        "        self.layer_norm = nn.LayerNorm(projection_dim)\n",
        "\n",
        "    def forward(self, x):\n",
        "        projected = self.projection(x)\n",
        "        x = self.swish(projected)\n",
        "        x = self.batch_norm(x)\n",
        "        x = self.fc(x)\n",
        "        x = self.dropout(x)\n",
        "        x = self.layer_norm(x + projected)  # Residual connection\n",
        "        return x"
      ]
    },
    {
      "cell_type": "code",
      "execution_count": 9,
      "id": "ece3abb5",
      "metadata": {
        "execution": {
          "iopub.execute_input": "2024-12-18T17:14:15.962709Z",
          "iopub.status.busy": "2024-12-18T17:14:15.962465Z",
          "iopub.status.idle": "2024-12-18T17:14:15.967754Z",
          "shell.execute_reply": "2024-12-18T17:14:15.967000Z"
        },
        "id": "ece3abb5",
        "papermill": {
          "duration": 0.024135,
          "end_time": "2024-12-18T17:14:15.969481",
          "exception": false,
          "start_time": "2024-12-18T17:14:15.945346",
          "status": "completed"
        },
        "tags": []
      },
      "outputs": [],
      "source": [
        "class CandidateModel(nn.Module):\n",
        "    def __init__(self, model_name, unfreezeLayers, trainable=True):\n",
        "        super().__init__()\n",
        "        self.candidateProjection = LinearProjection(embedding_dim=configs[\"candidate_embedding\"])\n",
        "        self.configs = AutoConfig.from_pretrained(model_name)\n",
        "        self.tokenizer = AutoTokenizer.from_pretrained(model_name)\n",
        "        self.model = AutoModel.from_pretrained(model_name)\n",
        "        self.batchNorm = nn.BatchNorm1d(1, configs[\"candidate_embedding\"])\n",
        "        self.targetTokenIdx = configs[\"cls_token_index\"]\n",
        "\n",
        "    def forward(self, input_ids, attention_mask):\n",
        "        output = self.model(input_ids=input_ids, attention_mask=attention_mask)\n",
        "        clsEmbed = getClsToken(output.last_hidden_state)\n",
        "        clsEmbed = self.batchNorm(clsEmbed)\n",
        "        clsEmbed = self.candidateProjection(flattenMiddle(clsEmbed))\n",
        "        return clsEmbed"
      ]
    },
    {
      "cell_type": "markdown",
      "id": "4e0dd33e",
      "metadata": {
        "id": "4e0dd33e",
        "papermill": {
          "duration": 0.015974,
          "end_time": "2024-12-18T17:14:16.001750",
          "exception": false,
          "start_time": "2024-12-18T17:14:15.985776",
          "status": "completed"
        },
        "tags": []
      },
      "source": [
        "## Training"
      ]
    },
    {
      "cell_type": "markdown",
      "id": "92d73eeb",
      "metadata": {
        "id": "92d73eeb",
        "papermill": {
          "duration": 0.015543,
          "end_time": "2024-12-18T17:14:16.033408",
          "exception": false,
          "start_time": "2024-12-18T17:14:16.017865",
          "status": "completed"
        },
        "tags": []
      },
      "source": [
        "### TODO: Compelete the calcLoss functions based on the pydoc provided (20pts)"
      ]
    },
    {
      "cell_type": "code",
      "execution_count": 10,
      "id": "c8e57071",
      "metadata": {
        "execution": {
          "iopub.execute_input": "2024-12-18T17:14:16.065973Z",
          "iopub.status.busy": "2024-12-18T17:14:16.065709Z",
          "iopub.status.idle": "2024-12-18T17:14:16.072545Z",
          "shell.execute_reply": "2024-12-18T17:14:16.071909Z"
        },
        "id": "c8e57071",
        "papermill": {
          "duration": 0.024464,
          "end_time": "2024-12-18T17:14:16.074093",
          "exception": false,
          "start_time": "2024-12-18T17:14:16.049629",
          "status": "completed"
        },
        "tags": []
      },
      "outputs": [],
      "source": [
        "def calcLoss(batch, referenceModel, candidateModel, temperature):\n",
        "    \"\"\"\n",
        "    Compute the loss and the number of correct predictions for a contrastive learning task.\n",
        "\n",
        "    This function calculates a symmetric cross-entropy loss between the embeddings\n",
        "    generated by a reference model and a candidate model. It also computes the\n",
        "    number of correct predictions based on the alignment of the embeddings.\n",
        "\n",
        "    Args:\n",
        "        batch (dict): A batch of data containing:\n",
        "            - \"candidate\" (torch.Tensor): Tokenized input for the candidate model.\n",
        "            - \"reference\" (torch.Tensor): Tokenized input for the reference model.\n",
        "        referenceModel (nn.Module): The model generating embeddings for the reference input.\n",
        "        candidateModel (nn.Module): The model generating embeddings for the candidate input.\n",
        "        temperature (float): A scaling factor to control the logits' sharpness during similarity calculation.\n",
        "\n",
        "    Returns:\n",
        "        tuple:\n",
        "            - loss (torch.Tensor): The computed symmetric cross-entropy loss.\n",
        "            - corrects (int): The number of correctly predicted alignments.\n",
        "\n",
        "    Notes:\n",
        "        - The embeddings are normalized to ensure their magnitudes do not impact similarity.\n",
        "        - Logits represent scaled cosine similarity between reference and candidate embeddings.\n",
        "        - The targets are identity matrices, assuming perfect alignment between reference and candidate inputs.\n",
        "\n",
        "    Example Usage:\n",
        "        batch = {\n",
        "            \"candidate\": tokenized_candidate,\n",
        "            \"reference\": tokenized_reference\n",
        "        }\n",
        "        loss, corrects = calcLoss(batch, reference_model, candidate_model, temperature=0.1)\n",
        "    \"\"\"\n",
        "    # Move tokenized inputs to the specified device\n",
        "    candidateTokenized = batch[\"candidate\"].to(configs[\"device\"])\n",
        "    referenceTokenized = batch[\"reference\"].to(configs[\"device\"])\n",
        "\n",
        "    # Generate embeddings from reference and candidate models\n",
        "    referenceEmbeds = referenceModel(referenceTokenized)\n",
        "    candidateEmbeds = candidateModel(\n",
        "        input_ids=candidateTokenized[\"input_ids\"],\n",
        "        attention_mask=candidateTokenized[\"attention_mask\"]\n",
        "    )\n",
        "\n",
        "    # Normalize embeddings to have unit length\n",
        "    referenceEmbeds = F.normalize(referenceEmbeds, p=2, dim=-1)\n",
        "    candidateEmbeds = F.normalize(candidateEmbeds, p=2, dim=-1)\n",
        "\n",
        "    # Calculate logits (scaled cosine similarity)\n",
        "    logits = torch.matmul(candidateEmbeds, referenceEmbeds.t()) / temperature\n",
        "\n",
        "    # Define targets (identity matrix)\n",
        "    batch_size = candidateEmbeds.shape[0]\n",
        "    targets = torch.arange(batch_size, device=configs[\"device\"])\n",
        "\n",
        "    # Calculate cross-entropy loss\n",
        "    loss_candidate = F.cross_entropy(logits, targets)\n",
        "    loss_reference = F.cross_entropy(logits.t(), targets)\n",
        "    loss = (loss_candidate + loss_reference) / 2\n",
        "\n",
        "    # Calculate correct predictions\n",
        "    corrects = (logits.argmax(dim=1) == targets).sum().item()\n",
        "\n",
        "    return loss, corrects"
      ]
    },
    {
      "cell_type": "markdown",
      "id": "5f1b4edc",
      "metadata": {
        "id": "5f1b4edc",
        "papermill": {
          "duration": 0.015457,
          "end_time": "2024-12-18T17:14:16.105022",
          "exception": false,
          "start_time": "2024-12-18T17:14:16.089565",
          "status": "completed"
        },
        "tags": []
      },
      "source": [
        "### TODO: Fill the trainLoop and valLoop (5pts)"
      ]
    },
    {
      "cell_type": "code",
      "execution_count": 11,
      "id": "05f0bf97",
      "metadata": {
        "execution": {
          "iopub.execute_input": "2024-12-18T17:14:16.137553Z",
          "iopub.status.busy": "2024-12-18T17:14:16.137287Z",
          "iopub.status.idle": "2024-12-18T17:14:16.146093Z",
          "shell.execute_reply": "2024-12-18T17:14:16.145202Z"
        },
        "id": "05f0bf97",
        "papermill": {
          "duration": 0.027335,
          "end_time": "2024-12-18T17:14:16.147775",
          "exception": false,
          "start_time": "2024-12-18T17:14:16.120440",
          "status": "completed"
        },
        "tags": []
      },
      "outputs": [],
      "source": [
        "def trainLoop(dataloader, models, referenceTokenizer, candidateTokenizer, optimizer, temperature):\n",
        "    models['candidateModel'].train()\n",
        "\n",
        "    totalLoss = 0.0\n",
        "    totalCorrects = 0\n",
        "\n",
        "    print(\"Training Starts!\")\n",
        "    for (index, pairs) in tqdm(enumerate(dataloader), total=len(dataloader)):\n",
        "\n",
        "        candidteTokenized = candidateTokenizer(getPersianDs(pairs), padding='max_length', truncation=True, return_tensors=\"pt\", max_length=configs[\"fa_tok_percentile\"])\n",
        "        referenceTextTokenized = referenceTokenizer(getEnglishDs(pairs))\n",
        "\n",
        "        batch = {\n",
        "            \"candidate\" : candidteTokenized,\n",
        "            \"reference\" : referenceTextTokenized\n",
        "        }\n",
        "\n",
        "        loss, corrects = calcLoss(batch, models['referenceModel'], models['candidateModel'], temperature)\n",
        "        totalCorrects += corrects\n",
        "        totalLoss += loss.item() * len(pairs) # Multiply by batch size\n",
        "\n",
        "        optimizer.zero_grad()\n",
        "        loss.backward()\n",
        "        optimizer.step()\n",
        "\n",
        "\n",
        "    avgLoss = totalLoss / len(dataloader.dataset)\n",
        "    avgAccuracy = totalCorrects / len(dataloader.dataset)\n",
        "\n",
        "    print(\"train loss\", avgLoss)\n",
        "    print(\"train accuracy\", avgAccuracy)\n",
        "\n",
        "    return avgLoss, avgAccuracy\n",
        "\n",
        "def valLoop(dataloader, models, referenceTokenizer, candidateTokenizer, temperature):\n",
        "    models['candidateModel'].eval()\n",
        "\n",
        "    print(\"Testing Starts!\")\n",
        "    totalLoss = 0.0\n",
        "    totalCorrects = 0\n",
        "\n",
        "    with torch.no_grad():\n",
        "        for (index, pairs) in tqdm(enumerate(dataloader), total=len(dataloader)):\n",
        "            candidteTokenized = candidateTokenizer(getPersianDs(pairs), padding='max_length', truncation=True, return_tensors=\"pt\", max_length=configs[\"fa_tok_percentile\"])\n",
        "            referenceTextTokenized = referenceTokenizer(getEnglishDs(pairs))\n",
        "\n",
        "            batch = {\n",
        "                \"candidate\" : candidteTokenized,\n",
        "                \"reference\" : referenceTextTokenized\n",
        "            }\n",
        "\n",
        "            loss, corrects = calcLoss(batch, models['referenceModel'], models['candidateModel'], temperature)\n",
        "\n",
        "            totalCorrects += corrects\n",
        "            totalLoss += loss.item() * len(pairs) # Multiply by batch size\n",
        "\n",
        "    avgLoss = totalLoss / len(dataloader.dataset)\n",
        "    avgAccuracy = totalCorrects / len(dataloader.dataset)\n",
        "\n",
        "    print(\"test loss\", avgLoss)\n",
        "    print(\"test accuracy\", avgAccuracy)\n",
        "\n",
        "    return avgLoss, avgAccuracy"
      ]
    },
    {
      "cell_type": "code",
      "execution_count": 12,
      "id": "f015a11f",
      "metadata": {
        "colab": {
          "base_uri": "https://localhost:8080/",
          "height": 136,
          "referenced_widgets": [
            "b23a96c3851647f1a526b4ad6a2a60bb",
            "4fdb5caef3ab46e69f31191399ad3c3f",
            "70d04ce1006b48ab95019819cfc5db99",
            "2aa4be00c0f8461486d417f34c329d4b",
            "737f2cb028c94e82ba64397d0bcf721b",
            "9aa8a2db25e44230b6b4cd50cb1d3bcd",
            "49a7171c091e4341b73d8260540209a4",
            "35a885a90e8b48b987608236043ce621",
            "9f07640bc8cb475c92f1d3eb5619625d",
            "0c4922cc51184b8f935c47b8c96457be",
            "f05d83bea4c64b44859733e3b017e166",
            "50bfe731439649d999cdfe85dfb5f9f0",
            "f77439ae065f47aab12f528b65d1202b",
            "99b21f6cd21e432cadd974f18d342589",
            "cc286311563d4bddb53cda0aedff7130",
            "445e81a1071041b4a04bf094a8599395",
            "a283ad1edebd48e399e276cf51b9fead",
            "944704b15cd0410795e88666b3b1126a",
            "d74191a304e94ca3bd492eeb56e6ba09",
            "980bf79b83b042b79860b569c97566bd",
            "6913b33a5d4b4d9fb24c8fb8e6127761",
            "6438fb5bd9e544f2a215bcc06bc9e259"
          ]
        },
        "execution": {
          "iopub.execute_input": "2024-12-18T17:14:16.180038Z",
          "iopub.status.busy": "2024-12-18T17:14:16.179783Z",
          "iopub.status.idle": "2024-12-18T17:14:21.238541Z",
          "shell.execute_reply": "2024-12-18T17:14:21.237667Z"
        },
        "id": "f015a11f",
        "outputId": "188ceada-c4aa-42f8-ca4f-3d422aef632a",
        "papermill": {
          "duration": 5.07707,
          "end_time": "2024-12-18T17:14:21.240389",
          "exception": false,
          "start_time": "2024-12-18T17:14:16.163319",
          "status": "completed"
        },
        "tags": []
      },
      "outputs": [
        {
          "name": "stdout",
          "output_type": "stream",
          "text": [
            "Before Preproccess:  {'en': 'A person doing karate in a green business card.', 'fa': 'شخصی که کاراته انجام می دهد در کارت ویزیت سبز.'}\n"
          ]
        },
        {
          "data": {
            "application/vnd.jupyter.widget-view+json": {
              "model_id": "b23a96c3851647f1a526b4ad6a2a60bb",
              "version_major": 2,
              "version_minor": 0
            },
            "text/plain": [
              "Map:   0%|          | 0/59999 [00:00<?, ? examples/s]"
            ]
          },
          "metadata": {},
          "output_type": "display_data"
        },
        {
          "data": {
            "application/vnd.jupyter.widget-view+json": {
              "model_id": "50bfe731439649d999cdfe85dfb5f9f0",
              "version_major": 2,
              "version_minor": 0
            },
            "text/plain": [
              "Map:   0%|          | 0/20000 [00:00<?, ? examples/s]"
            ]
          },
          "metadata": {},
          "output_type": "display_data"
        },
        {
          "name": "stdout",
          "output_type": "stream",
          "text": [
            "After Preproccess:  {'en': 'a person doing karate in a green business card', 'fa': 'شخصی که کاراته انجام می دهد در کارت ویزیت سبز'}\n"
          ]
        }
      ],
      "source": [
        "oldCols = [\"en\", \"fa\"]\n",
        "datasetTrain, datasetVal = getDatasetsCSV(oldCols[0], oldCols[1], configs[\"english\"], configs[\"persian\"], configs[\"train_path\"], configs[\"val_path\"])\n",
        "\n",
        "getPersianDs, getEnglishDs = getDsByLang(configs[\"persian\"], configs[\"english\"])\n",
        "print(\"Before Preproccess: \", datasetTrain[0])\n",
        "datasetTrain, datasetVal = applyPreprocess([datasetTrain, datasetVal], configs)\n",
        "print(\"After Preproccess: \", datasetTrain[0])\n",
        "trainDataloader = DataLoader(datasetTrain, batch_size=configs['batch_size'], shuffle=True)\n",
        "valDataloader = DataLoader(datasetVal, batch_size=configs['batch_size'], shuffle=False)"
      ]
    },
    {
      "cell_type": "markdown",
      "id": "aea3bc61",
      "metadata": {
        "id": "aea3bc61",
        "papermill": {
          "duration": 0.015811,
          "end_time": "2024-12-18T17:14:21.272664",
          "exception": false,
          "start_time": "2024-12-18T17:14:21.256853",
          "status": "completed"
        },
        "tags": []
      },
      "source": [
        "#### Tokenizers"
      ]
    },
    {
      "cell_type": "code",
      "execution_count": 13,
      "id": "506ef8ec",
      "metadata": {
        "colab": {
          "base_uri": "https://localhost:8080/",
          "height": 301,
          "referenced_widgets": [
            "820c1c0e4f234de9b1fcc040cf564ce2",
            "97e44b238be242559cc7bb76049a3f17",
            "0a3cd0342104488a9013e1d1dc6c79c2",
            "54ac8cbdf32841fb848d9d36d02a515d",
            "d409870db32e4deab88db7306796df72",
            "b84f9c31032142b6b4e9e9fc45a4866b",
            "981ea5b4f7764e46b83c30b3eff1947c",
            "8b1af278fa05442ea0f100592ccc6e90",
            "7550509bf8114879b80f96af81f4cfaa",
            "c87b8362fbc24d0386a6b6304e123acb",
            "faa159fab4c8448995e082c3551055ef",
            "3e9b08ac1ef14a1b9580fd7b7178ca61",
            "62d637da7e9b42049323a7d2e240002f",
            "5f18079c6da04003b9bb17d489596cc6",
            "6504b626da464da788ed0e37dfc844d0",
            "24b7d9d8dc5041f7b88b3243df45fe35",
            "d6d0e3bc6d0e4f88851b98c73d4bb959",
            "f95158730c5c487485a515f4339916f9",
            "04ff8580474e49378ae96251ea0a751e",
            "a977523b7c314c28bb474b6efdcf1512",
            "71eec552503b44b7b22849c9a538670b",
            "e4a9fccb493741a2897fa27bc83cd956",
            "eb309ff57cbb470a813f02abe0cac47b",
            "9061e043b413467ab51aef9a1f0c6697",
            "309c83fd4034461ab3fccd640ac15b65",
            "b2b4afd18a1542d88a50c399e351640e",
            "45add9db854044b68bb7c94ca72e8911",
            "4292046b1b5c4ad8a90b17fa2e76665e",
            "6dc051bf1b204cf2b29e5958fc84b1f0",
            "822306e53f764eb18edbb0833e013ed8",
            "d7fe91f265794660a7abc48c3dea36cc",
            "3e18d427e8294e6bad822ae4bd826f2e",
            "c4c4c54e558047129f6762d899c19bda",
            "51f022334e3549b79ddbf5f17402828f",
            "947a4ba5784a4aac8f13332cfedfdfd4",
            "1fca7b8431af44289a256eec6c8eba39",
            "45258865aab0438b9844d6120c00b146",
            "e8c9ad8ce9f0467ba289bb7758497d63",
            "af2f864be2e74ec8b3e278957effd7d5",
            "4ab4663d58e2415b9ec973e96d5fc0d5",
            "64c0bf0c2cf2453c8e16892ed4cbd6dd",
            "50f2d92945a44b8d89e92049d6ef755b",
            "3b7e89c615ac4f958de69da4fffa2e9b",
            "2ff0384278834795ad154558e5cb72dc",
            "c3a124d957e24ba29987e20ce2a60d33",
            "e12ca3c456cc415999ecd83264a076c9",
            "a6a6e7165a0c4247976fe5dd39c96d88",
            "a02e1e5eff2b4938a066ac2c3a13cb89",
            "3391bba4ee92459cafc0e020fa00929d",
            "956a27a5e36b4eeaac1f43b258792214",
            "25d3f3dae8c74be99b78dc54491f9837",
            "f1314d026889467b949b2911bb329382",
            "c25a2967dcf44f00b0dcb57c6a08f5df",
            "70656eab63a947ffaab5b671db69aec1",
            "cbdf015fc94643d9b31b266faf620252"
          ]
        },
        "execution": {
          "iopub.execute_input": "2024-12-18T17:14:21.306272Z",
          "iopub.status.busy": "2024-12-18T17:14:21.306012Z",
          "iopub.status.idle": "2024-12-18T17:14:31.799786Z",
          "shell.execute_reply": "2024-12-18T17:14:31.798984Z"
        },
        "id": "506ef8ec",
        "outputId": "93bdbf57-8990-4a41-e7df-2fb4a6539a4f",
        "papermill": {
          "duration": 10.512708,
          "end_time": "2024-12-18T17:14:31.801887",
          "exception": false,
          "start_time": "2024-12-18T17:14:21.289179",
          "status": "completed"
        },
        "tags": []
      },
      "outputs": [
        {
          "name": "stderr",
          "output_type": "stream",
          "text": [
            "/usr/local/lib/python3.10/dist-packages/huggingface_hub/utils/_auth.py:94: UserWarning: \n",
            "The secret `HF_TOKEN` does not exist in your Colab secrets.\n",
            "To authenticate with the Hugging Face Hub, create a token in your settings tab (https://huggingface.co/settings/tokens), set it as secret in your Google Colab and restart your session.\n",
            "You will be able to reuse this secret in all of your notebooks.\n",
            "Please note that authentication is recommended but still optional to access public models or datasets.\n",
            "  warnings.warn(\n"
          ]
        },
        {
          "data": {
            "application/vnd.jupyter.widget-view+json": {
              "model_id": "820c1c0e4f234de9b1fcc040cf564ce2",
              "version_major": 2,
              "version_minor": 0
            },
            "text/plain": [
              "config.json:   0%|          | 0.00/611 [00:00<?, ?B/s]"
            ]
          },
          "metadata": {},
          "output_type": "display_data"
        },
        {
          "data": {
            "application/vnd.jupyter.widget-view+json": {
              "model_id": "3e9b08ac1ef14a1b9580fd7b7178ca61",
              "version_major": 2,
              "version_minor": 0
            },
            "text/plain": [
              "tokenizer_config.json:   0%|          | 0.00/367 [00:00<?, ?B/s]"
            ]
          },
          "metadata": {},
          "output_type": "display_data"
        },
        {
          "data": {
            "application/vnd.jupyter.widget-view+json": {
              "model_id": "eb309ff57cbb470a813f02abe0cac47b",
              "version_major": 2,
              "version_minor": 0
            },
            "text/plain": [
              "vocab.txt:   0%|          | 0.00/1.47M [00:00<?, ?B/s]"
            ]
          },
          "metadata": {},
          "output_type": "display_data"
        },
        {
          "data": {
            "application/vnd.jupyter.widget-view+json": {
              "model_id": "51f022334e3549b79ddbf5f17402828f",
              "version_major": 2,
              "version_minor": 0
            },
            "text/plain": [
              "tokenizer.json:   0%|          | 0.00/4.31M [00:00<?, ?B/s]"
            ]
          },
          "metadata": {},
          "output_type": "display_data"
        },
        {
          "data": {
            "application/vnd.jupyter.widget-view+json": {
              "model_id": "c3a124d957e24ba29987e20ce2a60d33",
              "version_major": 2,
              "version_minor": 0
            },
            "text/plain": [
              "special_tokens_map.json:   0%|          | 0.00/125 [00:00<?, ?B/s]"
            ]
          },
          "metadata": {},
          "output_type": "display_data"
        }
      ],
      "source": [
        "referenceTokenizer = open_clip.get_tokenizer(configs[\"reference_checkPoint\"])\n",
        "\n",
        "candidateConfig = AutoConfig.from_pretrained(configs[\"candidate_checkpoint\"])\n",
        "candidateTokenizer = AutoTokenizer.from_pretrained(configs[\"candidate_checkpoint\"])\n",
        "\n",
        "configs = configs | {\"candidate_embedding\" : candidateConfig.hidden_size}\n",
        "\n",
        "faTokenPercentile = calcPrcentileTokens(datasetTrain, candidateTokenizer, configs[\"persian\"])\n",
        "faTokenPercentile\n",
        "\n",
        "enTokenPercentile = calcPrcentileTokens(datasetTrain, referenceTokenizer, configs[\"english\"])\n",
        "enTokenPercentile\n",
        "\n",
        "configs = configs | {\"en_tok_percentile\" : enTokenPercentile}\n",
        "configs = configs | {\"fa_tok_percentile\" : faTokenPercentile}"
      ]
    },
    {
      "cell_type": "markdown",
      "id": "d92d790a",
      "metadata": {
        "id": "d92d790a",
        "papermill": {
          "duration": 0.016378,
          "end_time": "2024-12-18T17:14:31.835725",
          "exception": false,
          "start_time": "2024-12-18T17:14:31.819347",
          "status": "completed"
        },
        "tags": []
      },
      "source": [
        "#### Models"
      ]
    },
    {
      "cell_type": "code",
      "execution_count": 14,
      "id": "0cfbc447",
      "metadata": {
        "colab": {
          "base_uri": "https://localhost:8080/",
          "height": 49,
          "referenced_widgets": [
            "782057b9c1b149459761cbde3282fb1d",
            "c6e5db0894284d4ab615a85eb7bd4eb5",
            "81d9bdbc04794a218424046186384e0f",
            "dfbaf24353cd449a96395fd8880162b8",
            "f95dffa2635a4055b09914d8d872c037",
            "89c08c03228f4b2ea6b2450b7b685897",
            "b9b9379f38124f48866567ce7a4d41a2",
            "229c158603794ab1acb65683710b801b",
            "7be158be28ff48f1bf4b406061f1ffd4",
            "105575c65b774cdd89df65c0afcd1480",
            "bc5b0c911c43405cbada04f655db151e"
          ]
        },
        "execution": {
          "iopub.execute_input": "2024-12-18T17:14:31.869333Z",
          "iopub.status.busy": "2024-12-18T17:14:31.869028Z",
          "iopub.status.idle": "2024-12-18T17:14:59.888895Z",
          "shell.execute_reply": "2024-12-18T17:14:59.887930Z"
        },
        "id": "0cfbc447",
        "outputId": "66ec097d-1fd1-4a15-aea0-05311b1c6dbe",
        "papermill": {
          "duration": 28.039003,
          "end_time": "2024-12-18T17:14:59.891005",
          "exception": false,
          "start_time": "2024-12-18T17:14:31.852002",
          "status": "completed"
        },
        "tags": []
      },
      "outputs": [
        {
          "data": {
            "application/vnd.jupyter.widget-view+json": {
              "model_id": "782057b9c1b149459761cbde3282fb1d",
              "version_major": 2,
              "version_minor": 0
            },
            "text/plain": [
              "model.safetensors:   0%|          | 0.00/877M [00:00<?, ?B/s]"
            ]
          },
          "metadata": {},
          "output_type": "display_data"
        }
      ],
      "source": [
        "referenceModel = TextEncoder(configs).to(configs[\"device\"])\n",
        "candidateModel = CandidateModel(model_name=configs[\"candidate_checkpoint\"], unfreezeLayers=configs[\"unfreezed_layers\"]).to(configs[\"device\"])\n",
        "referenceModel = freezeModel(referenceModel)\n",
        "\n",
        "candidateModel.to(configs['device'])\n",
        "referenceModel.to(configs['device'])\n",
        "\n",
        "models = {\n",
        "    \"referenceModel\" : referenceModel,\n",
        "    \"candidateModel\" : candidateModel\n",
        "}"
      ]
    },
    {
      "cell_type": "markdown",
      "id": "59bc9d96",
      "metadata": {
        "id": "59bc9d96",
        "papermill": {
          "duration": 0.0162,
          "end_time": "2024-12-18T17:14:59.924176",
          "exception": false,
          "start_time": "2024-12-18T17:14:59.907976",
          "status": "completed"
        },
        "tags": []
      },
      "source": [
        "## Training\n",
        "### TODO (10pts) for running the code and (20pts) for achieving above 70 percent test accuracy"
      ]
    },
    {
      "cell_type": "code",
      "execution_count": 15,
      "id": "03a0e5e7",
      "metadata": {
        "execution": {
          "iopub.execute_input": "2024-12-18T17:14:59.958682Z",
          "iopub.status.busy": "2024-12-18T17:14:59.958089Z",
          "iopub.status.idle": "2024-12-18T17:14:59.964595Z",
          "shell.execute_reply": "2024-12-18T17:14:59.963977Z"
        },
        "id": "03a0e5e7",
        "papermill": {
          "duration": 0.025563,
          "end_time": "2024-12-18T17:14:59.966213",
          "exception": false,
          "start_time": "2024-12-18T17:14:59.940650",
          "status": "completed"
        },
        "tags": []
      },
      "outputs": [],
      "source": [
        "temperature = torch.nn.Parameter(torch.tensor(configs['temperature']).float())\n",
        "optimizer = torch.optim.AdamW(list(models['candidateModel'].parameters()) + [temperature], weight_decay=configs[\"weight_decay\"], lr=configs['lr'])\n",
        "lrScheduler = ReduceLROnPlateau(optimizer, 'max', patience=configs['patience'], factor=configs['factor'])\n"
      ]
    },
    {
      "cell_type": "code",
      "execution_count": null,
      "id": "0a7f783c",
      "metadata": {
        "colab": {
          "base_uri": "https://localhost:8080/"
        },
        "execution": {
          "iopub.execute_input": "2024-12-18T17:15:00.001563Z",
          "iopub.status.busy": "2024-12-18T17:15:00.001314Z",
          "iopub.status.idle": "2024-12-18T22:11:22.427942Z",
          "shell.execute_reply": "2024-12-18T22:11:22.427024Z"
        },
        "id": "0a7f783c",
        "outputId": "988f0fe6-8fb5-43f8-b574-11c7740169f1",
        "papermill": {
          "duration": 17782.445889,
          "end_time": "2024-12-18T22:11:22.429709",
          "exception": false,
          "start_time": "2024-12-18T17:14:59.983820",
          "status": "completed"
        },
        "tags": []
      },
      "outputs": [
        {
          "name": "stdout",
          "output_type": "stream",
          "text": [
            "Training Starts!\n"
          ]
        },
        {
          "name": "stderr",
          "output_type": "stream",
          "text": [
            "100%|██████████| 469/469 [37:08<00:00,  4.75s/it]\n"
          ]
        },
        {
          "name": "stdout",
          "output_type": "stream",
          "text": [
            "train loss 0.07564988218388337\n",
            "train accuracy 0.3982399706661778\n",
            "Testing Starts!\n"
          ]
        },
        {
          "name": "stderr",
          "output_type": "stream",
          "text": [
            "100%|██████████| 157/157 [11:03<00:00,  4.23s/it]\n"
          ]
        },
        {
          "name": "stdout",
          "output_type": "stream",
          "text": [
            "test loss 0.07580825970172882\n",
            "test accuracy 0.60115\n",
            "Temperature at this epoch was : 19.947072982788086\n",
            "Training Starts!\n"
          ]
        },
        {
          "name": "stderr",
          "output_type": "stream",
          "text": [
            "100%|██████████| 469/469 [37:11<00:00,  4.76s/it]\n"
          ]
        },
        {
          "name": "stdout",
          "output_type": "stream",
          "text": [
            "train loss 0.0756118548039796\n",
            "train accuracy 0.6661777696294938\n",
            "Testing Starts!\n"
          ]
        },
        {
          "name": "stderr",
          "output_type": "stream",
          "text": [
            "100%|██████████| 157/157 [11:04<00:00,  4.23s/it]\n"
          ]
        },
        {
          "name": "stdout",
          "output_type": "stream",
          "text": [
            "test loss 0.07579163579940795\n",
            "test accuracy 0.71755\n",
            "Temperature at this epoch was : 19.895687103271484\n",
            "Training Starts!\n"
          ]
        },
        {
          "name": "stderr",
          "output_type": "stream",
          "text": [
            "100%|██████████| 469/469 [37:10<00:00,  4.76s/it]\n"
          ]
        },
        {
          "name": "stdout",
          "output_type": "stream",
          "text": [
            "train loss 0.07559704353404872\n",
            "train accuracy 0.7674294571576193\n",
            "Testing Starts!\n"
          ]
        },
        {
          "name": "stderr",
          "output_type": "stream",
          "text": [
            "100%|██████████| 157/157 [11:03<00:00,  4.23s/it]\n"
          ]
        },
        {
          "name": "stdout",
          "output_type": "stream",
          "text": [
            "test loss 0.07578144307136536\n",
            "test accuracy 0.78555\n",
            "Temperature at this epoch was : 19.84484100341797\n",
            "Training Starts!\n"
          ]
        },
        {
          "name": "stderr",
          "output_type": "stream",
          "text": [
            " 77%|███████▋  | 362/469 [28:45<08:31,  4.78s/it]"
          ]
        }
      ],
      "source": [
        "\n",
        "bestValAcc = float('-inf')\n",
        "\n",
        "metrics = pd.DataFrame(columns=[\"Avg-train-loss\", \"Avg-train-accuracy\",\"Avg-val-loss\", \"Avg-val-accuracy\"])\n",
        "\n",
        "for t in range(configs['epochs']):\n",
        "    trainLoss, trainAcc = trainLoop(trainDataloader, models, referenceTokenizer, candidateTokenizer, optimizer, temperature)\n",
        "    valLoss, valAcc = valLoop(valDataloader, models, referenceTokenizer, candidateTokenizer, temperature)\n",
        "\n",
        "    metrics.loc[t+1] = [trainLoss, trainAcc, valLoss, valAcc]\n",
        "\n",
        "    lrScheduler.step(valAcc)\n",
        "\n",
        "    print(\"Temperature at this epoch was :\", temperature.item())\n",
        "\n",
        "print(f'Best accuracy of validation gained: ', bestValAcc)\n",
        "print(\"Done!\")"
      ]
    },
    {
      "cell_type": "markdown",
      "id": "NlAbk3r0cRKS",
      "metadata": {
        "id": "NlAbk3r0cRKS"
      },
      "source": [
        "Reached Colab limit for GPU usage :))))"
      ]
    },
    {
      "cell_type": "code",
      "execution_count": null,
      "id": "884ba162",
      "metadata": {
        "execution": {
          "iopub.execute_input": "2024-12-18T22:11:22.772325Z",
          "iopub.status.busy": "2024-12-18T22:11:22.771986Z",
          "iopub.status.idle": "2024-12-18T22:11:23.076626Z",
          "shell.execute_reply": "2024-12-18T22:11:23.075718Z"
        },
        "id": "884ba162",
        "papermill": {
          "duration": 0.494729,
          "end_time": "2024-12-18T22:11:23.078241",
          "exception": false,
          "start_time": "2024-12-18T22:11:22.583512",
          "status": "completed"
        },
        "tags": []
      },
      "outputs": [],
      "source": [
        "plotMetric(metrics, \"Avg-val-accuracy\")\n",
        "metrics.tail(3)"
      ]
    },
    {
      "cell_type": "markdown",
      "id": "732adf00",
      "metadata": {
        "id": "732adf00",
        "papermill": {
          "duration": 0.148084,
          "end_time": "2024-12-18T22:11:23.388751",
          "exception": false,
          "start_time": "2024-12-18T22:11:23.240667",
          "status": "completed"
        },
        "tags": []
      },
      "source": [
        "## Question Box (10pts + 5pts bonus)\n",
        "\n",
        "1- Do we even need normalization for tasks like this? will they provide any accuracy gain? write what you think.\n",
        "<br/><br/>\n",
        "\n",
        "Yes, normalization is generally beneficial in tasks like this, especially when using cosine similarity for contrastive learning. It can contribute to improved accuracy and training stability.\n",
        "\n",
        "Reasoning:\n",
        "\n",
        "    Improved Accuracy: Normalization ensures that the magnitude of the embeddings doesn't dominate the similarity calculation. By focusing on the direction of the embeddings, normalization allows the model to learn more meaningful relationships between the text and image representations. This often leads to better alignment and improved accuracy in contrastive learning tasks.\n",
        "\n",
        "    Training Stability: Normalization can help stabilize the training process by preventing gradients from exploding or vanishing due to large variations in embedding magnitudes. This can lead to faster and more reliable convergence during training.\n",
        "\n",
        "    Cosine Similarity: Cosine similarity is sensitive to the magnitude of vectors. If the vectors are not normalized, the similarity score will be biased towards vectors with larger magnitudes. Normalization removes this bias, allowing the model to focus on the direction of the vectors, which is more relevant to the semantic similarity of the texts.\n",
        "<br/>\n",
        "2- When training a neural network, what takes the memory? mention at least 4 things.\n",
        "<br/><br/>\n",
        "\n",
        "\n",
        "  Model Parameters: The weights and biases of the neural network are stored in memory. Larger models with more layers and parameters require more memory.<br/><br/>\n",
        "  Activations: The intermediate outputs of each layer (activations) need to be stored during the forward pass to be used in the backward pass for gradient calculations. These activations can consume a significant amount of memory, especially for deep networks and large batch sizes.<br/><br/>\n",
        "  Optimizer State: Optimizers like Adam or SGD store internal state variables (e.g., momentum, gradients) to update model parameters. This state also contributes to memory usage.<br/>\n",
        "  Data: The training data itself needs to be loaded into memory, either in batches or entirely, depending on the training strategy. Large datasets can occupy a substantial portion of memory.<br/>\n",
        "\n",
        "3- find out the actual Open Ai's training configuration of Clip model.<br/><br/>\n",
        "\n",
        "OpenAI trained CLIP on a massive dataset of 400 million image-text pairs collected from the internet. They used a contrastive learning objective to train a dual-encoder architecture consisting of an image encoder and a text encoder. The model was trained on 592 V100 GPUs for 32 epochs. The batch size was 32,768. The image encoder was a ResNet-50, and the text encoder was a Transformer with 12 layers and 8 attention heads. More information can be found in the CLIP paper or [redacted link].\n",
        "\n",
        "\n",
        "#### Bonus\n",
        "4- We have an alternative clip's loss implementation, write its pseudocode."
      ]
    },
    {
      "cell_type": "code",
      "execution_count": null,
      "id": "dcd8efa7",
      "metadata": {
        "id": "dcd8efa7",
        "papermill": {
          "duration": 0.152521,
          "end_time": "2024-12-18T22:11:23.693977",
          "exception": false,
          "start_time": "2024-12-18T22:11:23.541456",
          "status": "completed"
        },
        "tags": []
      },
      "outputs": [],
      "source": [
        "function calculate_alternative_clip_loss(image_embeddings, text_embeddings, temperature):\n",
        "  # Normalize embeddings\n",
        "  image_embeddings = normalize(image_embeddings)\n",
        "  text_embeddings = normalize(text_embeddings)\n",
        "\n",
        "  # Calculate similarity matrix\n",
        "  similarity_matrix = image_embeddings @ text_embeddings.T / temperature\n",
        "\n",
        "  # Calculate loss\n",
        "  image_loss = cross_entropy_loss(similarity_matrix, targets)  # targets: identity matrix\n",
        "  text_loss = cross_entropy_loss(similarity_matrix.T, targets)\n",
        "  total_loss = (image_loss + text_loss) / 2\n",
        "\n",
        "  return total_loss"
      ]
    }
  ],
  "metadata": {
    "accelerator": "GPU",
    "colab": {
      "gpuType": "T4",
      "provenance": []
    },
    "kaggle": {
      "accelerator": "nvidiaTeslaT4",
      "dataSources": [
        {
          "datasetId": 4600270,
          "sourceId": 7845742,
          "sourceType": "datasetVersion"
        },
        {
          "datasetId": 4600399,
          "sourceId": 7845904,
          "sourceType": "datasetVersion"
        }
      ],
      "dockerImageVersionId": 30805,
      "isGpuEnabled": true,
      "isInternetEnabled": true,
      "language": "python",
      "sourceType": "notebook"
    },
    "kernelspec": {
      "display_name": "Python 3",
      "language": "python",
      "name": "python3"
    },
    "language_info": {
      "codemirror_mode": {
        "name": "ipython",
        "version": 3
      },
      "file_extension": ".py",
      "mimetype": "text/x-python",
      "name": "python",
      "nbconvert_exporter": "python",
      "pygments_lexer": "ipython3",
      "version": "3.9.0"
    },
    "papermill": {
      "default_parameters": {},
      "duration": 17879.671693,
      "end_time": "2024-12-18T22:11:27.581599",
      "environment_variables": {},
      "exception": null,
      "input_path": "__notebook__.ipynb",
      "output_path": "__notebook__.ipynb",
      "parameters": {},
      "start_time": "2024-12-18T17:13:27.909906",
      "version": "2.6.0"
    },
    "widgets": {
      
        },
        "0a3cd0342104488a9013e1d1dc6c79c2": {
          "model_module": "@jupyter-widgets/controls",
          "model_module_version": "1.5.0",
          "model_name": "FloatProgressModel",
          "state": {
            "_dom_classes": [],
            "_model_module": "@jupyter-widgets/controls",
            "_model_module_version": "1.5.0",
            "_model_name": "FloatProgressModel",
            "_view_count": null,
            "_view_module": "@jupyter-widgets/controls",
            "_view_module_version": "1.5.0",
            "_view_name": "ProgressView",
            "bar_style": "success",
            "description": "",
            "description_tooltip": null,
            "layout": "IPY_MODEL_8b1af278fa05442ea0f100592ccc6e90",
            "max": 611,
            "min": 0,
            "orientation": "horizontal",
            "style": "IPY_MODEL_7550509bf8114879b80f96af81f4cfaa",
            "value": 611
          }
        },
        "0c4922cc51184b8f935c47b8c96457be": {
          "model_module": "@jupyter-widgets/base",
          "model_module_version": "1.2.0",
          "model_name": "LayoutModel",
          "state": {
            "_model_module": "@jupyter-widgets/base",
            "_model_module_version": "1.2.0",
            "_model_name": "LayoutModel",
            "_view_count": null,
            "_view_module": "@jupyter-widgets/base",
            "_view_module_version": "1.2.0",
            "_view_name": "LayoutView",
            "align_content": null,
            "align_items": null,
            "align_self": null,
            "border": null,
            "bottom": null,
            "display": null,
            "flex": null,
            "flex_flow": null,
            "grid_area": null,
            "grid_auto_columns": null,
            "grid_auto_flow": null,
            "grid_auto_rows": null,
            "grid_column": null,
            "grid_gap": null,
            "grid_row": null,
            "grid_template_areas": null,
            "grid_template_columns": null,
            "grid_template_rows": null,
            "height": null,
            "justify_content": null,
            "justify_items": null,
            "left": null,
            "margin": null,
            "max_height": null,
            "max_width": null,
            "min_height": null,
            "min_width": null,
            "object_fit": null,
            "object_position": null,
            "order": null,
            "overflow": null,
            "overflow_x": null,
            "overflow_y": null,
            "padding": null,
            "right": null,
            "top": null,
            "visibility": null,
            "width": null
          }
        },
        "105575c65b774cdd89df65c0afcd1480": {
          "model_module": "@jupyter-widgets/base",
          "model_module_version": "1.2.0",
          "model_name": "LayoutModel",
          "state": {
            "_model_module": "@jupyter-widgets/base",
            "_model_module_version": "1.2.0",
            "_model_name": "LayoutModel",
            "_view_count": null,
            "_view_module": "@jupyter-widgets/base",
            "_view_module_version": "1.2.0",
            "_view_name": "LayoutView",
            "align_content": null,
            "align_items": null,
            "align_self": null,
            "border": null,
            "bottom": null,
            "display": null,
            "flex": null,
            "flex_flow": null,
            "grid_area": null,
            "grid_auto_columns": null,
            "grid_auto_flow": null,
            "grid_auto_rows": null,
            "grid_column": null,
            "grid_gap": null,
            "grid_row": null,
            "grid_template_areas": null,
            "grid_template_columns": null,
            "grid_template_rows": null,
            "height": null,
            "justify_content": null,
            "justify_items": null,
            "left": null,
            "margin": null,
            "max_height": null,
            "max_width": null,
            "min_height": null,
            "min_width": null,
            "object_fit": null,
            "object_position": null,
            "order": null,
            "overflow": null,
            "overflow_x": null,
            "overflow_y": null,
            "padding": null,
            "right": null,
            "top": null,
            "visibility": null,
            "width": null
          }
        },
        "1fca7b8431af44289a256eec6c8eba39": {
          "model_module": "@jupyter-widgets/controls",
          "model_module_version": "1.5.0",
          "model_name": "FloatProgressModel",
          "state": {
            "_dom_classes": [],
            "_model_module": "@jupyter-widgets/controls",
            "_model_module_version": "1.5.0",
            "_model_name": "FloatProgressModel",
            "_view_count": null,
            "_view_module": "@jupyter-widgets/controls",
            "_view_module_version": "1.5.0",
            "_view_name": "ProgressView",
            "bar_style": "success",
            "description": "",
            "description_tooltip": null,
            "layout": "IPY_MODEL_64c0bf0c2cf2453c8e16892ed4cbd6dd",
            "max": 4306595,
            "min": 0,
            "orientation": "horizontal",
            "style": "IPY_MODEL_50f2d92945a44b8d89e92049d6ef755b",
            "value": 4306595
          }
        },
        "229c158603794ab1acb65683710b801b": {
          "model_module": "@jupyter-widgets/base",
          "model_module_version": "1.2.0",
          "model_name": "LayoutModel",
          "state": {
            "_model_module": "@jupyter-widgets/base",
            "_model_module_version": "1.2.0",
            "_model_name": "LayoutModel",
            "_view_count": null,
            "_view_module": "@jupyter-widgets/base",
            "_view_module_version": "1.2.0",
            "_view_name": "LayoutView",
            "align_content": null,
            "align_items": null,
            "align_self": null,
            "border": null,
            "bottom": null,
            "display": null,
            "flex": null,
            "flex_flow": null,
            "grid_area": null,
            "grid_auto_columns": null,
            "grid_auto_flow": null,
            "grid_auto_rows": null,
            "grid_column": null,
            "grid_gap": null,
            "grid_row": null,
            "grid_template_areas": null,
            "grid_template_columns": null,
            "grid_template_rows": null,
            "height": null,
            "justify_content": null,
            "justify_items": null,
            "left": null,
            "margin": null,
            "max_height": null,
            "max_width": null,
            "min_height": null,
            "min_width": null,
            "object_fit": null,
            "object_position": null,
            "order": null,
            "overflow": null,
            "overflow_x": null,
            "overflow_y": null,
            "padding": null,
            "right": null,
            "top": null,
            "visibility": null,
            "width": null
          }
        },
        "24b7d9d8dc5041f7b88b3243df45fe35": {
          "model_module": "@jupyter-widgets/base",
          "model_module_version": "1.2.0",
          "model_name": "LayoutModel",
          "state": {
            "_model_module": "@jupyter-widgets/base",
            "_model_module_version": "1.2.0",
            "_model_name": "LayoutModel",
            "_view_count": null,
            "_view_module": "@jupyter-widgets/base",
            "_view_module_version": "1.2.0",
            "_view_name": "LayoutView",
            "align_content": null,
            "align_items": null,
            "align_self": null,
            "border": null,
            "bottom": null,
            "display": null,
            "flex": null,
            "flex_flow": null,
            "grid_area": null,
            "grid_auto_columns": null,
            "grid_auto_flow": null,
            "grid_auto_rows": null,
            "grid_column": null,
            "grid_gap": null,
            "grid_row": null,
            "grid_template_areas": null,
            "grid_template_columns": null,
            "grid_template_rows": null,
            "height": null,
            "justify_content": null,
            "justify_items": null,
            "left": null,
            "margin": null,
            "max_height": null,
            "max_width": null,
            "min_height": null,
            "min_width": null,
            "object_fit": null,
            "object_position": null,
            "order": null,
            "overflow": null,
            "overflow_x": null,
            "overflow_y": null,
            "padding": null,
            "right": null,
            "top": null,
            "visibility": null,
            "width": null
          }
        },
        "25d3f3dae8c74be99b78dc54491f9837": {
          "model_module": "@jupyter-widgets/controls",
          "model_module_version": "1.5.0",
          "model_name": "DescriptionStyleModel",
          "state": {
            "_model_module": "@jupyter-widgets/controls",
            "_model_module_version": "1.5.0",
            "_model_name": "DescriptionStyleModel",
            "_view_count": null,
            "_view_module": "@jupyter-widgets/base",
            "_view_module_version": "1.2.0",
            "_view_name": "StyleView",
            "description_width": ""
          }
        },
        "2aa4be00c0f8461486d417f34c329d4b": {
          "model_module": "@jupyter-widgets/controls",
          "model_module_version": "1.5.0",
          "model_name": "HTMLModel",
          "state": {
            "_dom_classes": [],
            "_model_module": "@jupyter-widgets/controls",
            "_model_module_version": "1.5.0",
            "_model_name": "HTMLModel",
            "_view_count": null,
            "_view_module": "@jupyter-widgets/controls",
            "_view_module_version": "1.5.0",
            "_view_name": "HTMLView",
            "description": "",
            "description_tooltip": null,
            "layout": "IPY_MODEL_0c4922cc51184b8f935c47b8c96457be",
            "placeholder": "​",
            "style": "IPY_MODEL_f05d83bea4c64b44859733e3b017e166",
            "value": " 59999/59999 [00:08&lt;00:00, 4373.55 examples/s]"
          }
        },
        "2ff0384278834795ad154558e5cb72dc": {
          "model_module": "@jupyter-widgets/controls",
          "model_module_version": "1.5.0",
          "model_name": "DescriptionStyleModel",
          "state": {
            "_model_module": "@jupyter-widgets/controls",
            "_model_module_version": "1.5.0",
            "_model_name": "DescriptionStyleModel",
            "_view_count": null,
            "_view_module": "@jupyter-widgets/base",
            "_view_module_version": "1.2.0",
            "_view_name": "StyleView",
            "description_width": ""
          }
        },
        "309c83fd4034461ab3fccd640ac15b65": {
          "model_module": "@jupyter-widgets/controls",
          "model_module_version": "1.5.0",
          "model_name": "FloatProgressModel",
          "state": {
            "_dom_classes": [],
            "_model_module": "@jupyter-widgets/controls",
            "_model_module_version": "1.5.0",
            "_model_name": "FloatProgressModel",
            "_view_count": null,
            "_view_module": "@jupyter-widgets/controls",
            "_view_module_version": "1.5.0",
            "_view_name": "ProgressView",
            "bar_style": "success",
            "description": "",
            "description_tooltip": null,
            "layout": "IPY_MODEL_822306e53f764eb18edbb0833e013ed8",
            "max": 1469057,
            "min": 0,
            "orientation": "horizontal",
            "style": "IPY_MODEL_d7fe91f265794660a7abc48c3dea36cc",
            "value": 1469057
          }
        },
        "3391bba4ee92459cafc0e020fa00929d": {
          "model_module": "@jupyter-widgets/base",
          "model_module_version": "1.2.0",
          "model_name": "LayoutModel",
          "state": {
            "_model_module": "@jupyter-widgets/base",
            "_model_module_version": "1.2.0",
            "_model_name": "LayoutModel",
            "_view_count": null,
            "_view_module": "@jupyter-widgets/base",
            "_view_module_version": "1.2.0",
            "_view_name": "LayoutView",
            "align_content": null,
            "align_items": null,
            "align_self": null,
            "border": null,
            "bottom": null,
            "display": null,
            "flex": null,
            "flex_flow": null,
            "grid_area": null,
            "grid_auto_columns": null,
            "grid_auto_flow": null,
            "grid_auto_rows": null,
            "grid_column": null,
            "grid_gap": null,
            "grid_row": null,
            "grid_template_areas": null,
            "grid_template_columns": null,
            "grid_template_rows": null,
            "height": null,
            "justify_content": null,
            "justify_items": null,
            "left": null,
            "margin": null,
            "max_height": null,
            "max_width": null,
            "min_height": null,
            "min_width": null,
            "object_fit": null,
            "object_position": null,
            "order": null,
            "overflow": null,
            "overflow_x": null,
            "overflow_y": null,
            "padding": null,
            "right": null,
            "top": null,
            "visibility": null,
            "width": null
          }
        },
        "35a885a90e8b48b987608236043ce621": {
          "model_module": "@jupyter-widgets/base",
          "model_module_version": "1.2.0",
          "model_name": "LayoutModel",
          "state": {
            "_model_module": "@jupyter-widgets/base",
            "_model_module_version": "1.2.0",
            "_model_name": "LayoutModel",
            "_view_count": null,
            "_view_module": "@jupyter-widgets/base",
            "_view_module_version": "1.2.0",
            "_view_name": "LayoutView",
            "align_content": null,
            "align_items": null,
            "align_self": null,
            "border": null,
            "bottom": null,
            "display": null,
            "flex": null,
            "flex_flow": null,
            "grid_area": null,
            "grid_auto_columns": null,
            "grid_auto_flow": null,
            "grid_auto_rows": null,
            "grid_column": null,
            "grid_gap": null,
            "grid_row": null,
            "grid_template_areas": null,
            "grid_template_columns": null,
            "grid_template_rows": null,
            "height": null,
            "justify_content": null,
            "justify_items": null,
            "left": null,
            "margin": null,
            "max_height": null,
            "max_width": null,
            "min_height": null,
            "min_width": null,
            "object_fit": null,
            "object_position": null,
            "order": null,
            "overflow": null,
            "overflow_x": null,
            "overflow_y": null,
            "padding": null,
            "right": null,
            "top": null,
            "visibility": null,
            "width": null
          }
        },
        "3b7e89c615ac4f958de69da4fffa2e9b": {
          "model_module": "@jupyter-widgets/base",
          "model_module_version": "1.2.0",
          "model_name": "LayoutModel",
          "state": {
            "_model_module": "@jupyter-widgets/base",
            "_model_module_version": "1.2.0",
            "_model_name": "LayoutModel",
            "_view_count": null,
            "_view_module": "@jupyter-widgets/base",
            "_view_module_version": "1.2.0",
            "_view_name": "LayoutView",
            "align_content": null,
            "align_items": null,
            "align_self": null,
            "border": null,
            "bottom": null,
            "display": null,
            "flex": null,
            "flex_flow": null,
            "grid_area": null,
            "grid_auto_columns": null,
            "grid_auto_flow": null,
            "grid_auto_rows": null,
            "grid_column": null,
            "grid_gap": null,
            "grid_row": null,
            "grid_template_areas": null,
            "grid_template_columns": null,
            "grid_template_rows": null,
            "height": null,
            "justify_content": null,
            "justify_items": null,
            "left": null,
            "margin": null,
            "max_height": null,
            "max_width": null,
            "min_height": null,
            "min_width": null,
            "object_fit": null,
            "object_position": null,
            "order": null,
            "overflow": null,
            "overflow_x": null,
            "overflow_y": null,
            "padding": null,
            "right": null,
            "top": null,
            "visibility": null,
            "width": null
          }
        },
        "3e18d427e8294e6bad822ae4bd826f2e": {
          "model_module": "@jupyter-widgets/base",
          "model_module_version": "1.2.0",
          "model_name": "LayoutModel",
          "state": {
            "_model_module": "@jupyter-widgets/base",
            "_model_module_version": "1.2.0",
            "_model_name": "LayoutModel",
            "_view_count": null,
            "_view_module": "@jupyter-widgets/base",
            "_view_module_version": "1.2.0",
            "_view_name": "LayoutView",
            "align_content": null,
            "align_items": null,
            "align_self": null,
            "border": null,
            "bottom": null,
            "display": null,
            "flex": null,
            "flex_flow": null,
            "grid_area": null,
            "grid_auto_columns": null,
            "grid_auto_flow": null,
            "grid_auto_rows": null,
            "grid_column": null,
            "grid_gap": null,
            "grid_row": null,
            "grid_template_areas": null,
            "grid_template_columns": null,
            "grid_template_rows": null,
            "height": null,
            "justify_content": null,
            "justify_items": null,
            "left": null,
            "margin": null,
            "max_height": null,
            "max_width": null,
            "min_height": null,
            "min_width": null,
            "object_fit": null,
            "object_position": null,
            "order": null,
            "overflow": null,
            "overflow_x": null,
            "overflow_y": null,
            "padding": null,
            "right": null,
            "top": null,
            "visibility": null,
            "width": null
          }
        },
        "3e9b08ac1ef14a1b9580fd7b7178ca61": {
          "model_module": "@jupyter-widgets/controls",
          "model_module_version": "1.5.0",
          "model_name": "HBoxModel",
          "state": {
            "_dom_classes": [],
            "_model_module": "@jupyter-widgets/controls",
            "_model_module_version": "1.5.0",
            "_model_name": "HBoxModel",
            "_view_count": null,
            "_view_module": "@jupyter-widgets/controls",
            "_view_module_version": "1.5.0",
            "_view_name": "HBoxView",
            "box_style": "",
            "children": [
              "IPY_MODEL_62d637da7e9b42049323a7d2e240002f",
              "IPY_MODEL_5f18079c6da04003b9bb17d489596cc6",
              "IPY_MODEL_6504b626da464da788ed0e37dfc844d0"
            ],
            "layout": "IPY_MODEL_24b7d9d8dc5041f7b88b3243df45fe35"
          }
        },
        "4292046b1b5c4ad8a90b17fa2e76665e": {
          "model_module": "@jupyter-widgets/base",
          "model_module_version": "1.2.0",
          "model_name": "LayoutModel",
          "state": {
            "_model_module": "@jupyter-widgets/base",
            "_model_module_version": "1.2.0",
            "_model_name": "LayoutModel",
            "_view_count": null,
            "_view_module": "@jupyter-widgets/base",
            "_view_module_version": "1.2.0",
            "_view_name": "LayoutView",
            "align_content": null,
            "align_items": null,
            "align_self": null,
            "border": null,
            "bottom": null,
            "display": null,
            "flex": null,
            "flex_flow": null,
            "grid_area": null,
            "grid_auto_columns": null,
            "grid_auto_flow": null,
            "grid_auto_rows": null,
            "grid_column": null,
            "grid_gap": null,
            "grid_row": null,
            "grid_template_areas": null,
            "grid_template_columns": null,
            "grid_template_rows": null,
            "height": null,
            "justify_content": null,
            "justify_items": null,
            "left": null,
            "margin": null,
            "max_height": null,
            "max_width": null,
            "min_height": null,
            "min_width": null,
            "object_fit": null,
            "object_position": null,
            "order": null,
            "overflow": null,
            "overflow_x": null,
            "overflow_y": null,
            "padding": null,
            "right": null,
            "top": null,
            "visibility": null,
            "width": null
          }
        },
        "445e81a1071041b4a04bf094a8599395": {
          "model_module": "@jupyter-widgets/base",
          "model_module_version": "1.2.0",
          "model_name": "LayoutModel",
          "state": {
            "_model_module": "@jupyter-widgets/base",
            "_model_module_version": "1.2.0",
            "_model_name": "LayoutModel",
            "_view_count": null,
            "_view_module": "@jupyter-widgets/base",
            "_view_module_version": "1.2.0",
            "_view_name": "LayoutView",
            "align_content": null,
            "align_items": null,
            "align_self": null,
            "border": null,
            "bottom": null,
            "display": null,
            "flex": null,
            "flex_flow": null,
            "grid_area": null,
            "grid_auto_columns": null,
            "grid_auto_flow": null,
            "grid_auto_rows": null,
            "grid_column": null,
            "grid_gap": null,
            "grid_row": null,
            "grid_template_areas": null,
            "grid_template_columns": null,
            "grid_template_rows": null,
            "height": null,
            "justify_content": null,
            "justify_items": null,
            "left": null,
            "margin": null,
            "max_height": null,
            "max_width": null,
            "min_height": null,
            "min_width": null,
            "object_fit": null,
            "object_position": null,
            "order": null,
            "overflow": null,
            "overflow_x": null,
            "overflow_y": null,
            "padding": null,
            "right": null,
            "top": null,
            "visibility": null,
            "width": null
          }
        },
        "45258865aab0438b9844d6120c00b146": {
          "model_module": "@jupyter-widgets/controls",
          "model_module_version": "1.5.0",
          "model_name": "HTMLModel",
          "state": {
            "_dom_classes": [],
            "_model_module": "@jupyter-widgets/controls",
            "_model_module_version": "1.5.0",
            "_model_name": "HTMLModel",
            "_view_count": null,
            "_view_module": "@jupyter-widgets/controls",
            "_view_module_version": "1.5.0",
            "_view_name": "HTMLView",
            "description": "",
            "description_tooltip": null,
            "layout": "IPY_MODEL_3b7e89c615ac4f958de69da4fffa2e9b",
            "placeholder": "​",
            "style": "IPY_MODEL_2ff0384278834795ad154558e5cb72dc",
            "value": " 4.31M/4.31M [00:04&lt;00:00, 1.07MB/s]"
          }
        },
        "45add9db854044b68bb7c94ca72e8911": {
          "model_module": "@jupyter-widgets/base",
          "model_module_version": "1.2.0",
          "model_name": "LayoutModel",
          "state": {
            "_model_module": "@jupyter-widgets/base",
            "_model_module_version": "1.2.0",
            "_model_name": "LayoutModel",
            "_view_count": null,
            "_view_module": "@jupyter-widgets/base",
            "_view_module_version": "1.2.0",
            "_view_name": "LayoutView",
            "align_content": null,
            "align_items": null,
            "align_self": null,
            "border": null,
            "bottom": null,
            "display": null,
            "flex": null,
            "flex_flow": null,
            "grid_area": null,
            "grid_auto_columns": null,
            "grid_auto_flow": null,
            "grid_auto_rows": null,
            "grid_column": null,
            "grid_gap": null,
            "grid_row": null,
            "grid_template_areas": null,
            "grid_template_columns": null,
            "grid_template_rows": null,
            "height": null,
            "justify_content": null,
            "justify_items": null,
            "left": null,
            "margin": null,
            "max_height": null,
            "max_width": null,
            "min_height": null,
            "min_width": null,
            "object_fit": null,
            "object_position": null,
            "order": null,
            "overflow": null,
            "overflow_x": null,
            "overflow_y": null,
            "padding": null,
            "right": null,
            "top": null,
            "visibility": null,
            "width": null
          }
        },
        "49a7171c091e4341b73d8260540209a4": {
          "model_module": "@jupyter-widgets/controls",
          "model_module_version": "1.5.0",
          "model_name": "DescriptionStyleModel",
          "state": {
            "_model_module": "@jupyter-widgets/controls",
            "_model_module_version": "1.5.0",
            "_model_name": "DescriptionStyleModel",
            "_view_count": null,
            "_view_module": "@jupyter-widgets/base",
            "_view_module_version": "1.2.0",
            "_view_name": "StyleView",
            "description_width": ""
          }
        },
        "4ab4663d58e2415b9ec973e96d5fc0d5": {
          "model_module": "@jupyter-widgets/controls",
          "model_module_version": "1.5.0",
          "model_name": "DescriptionStyleModel",
          "state": {
            "_model_module": "@jupyter-widgets/controls",
            "_model_module_version": "1.5.0",
            "_model_name": "DescriptionStyleModel",
            "_view_count": null,
            "_view_module": "@jupyter-widgets/base",
            "_view_module_version": "1.2.0",
            "_view_name": "StyleView",
            "description_width": ""
          }
        },
        "4fdb5caef3ab46e69f31191399ad3c3f": {
          "model_module": "@jupyter-widgets/controls",
          "model_module_version": "1.5.0",
          "model_name": "HTMLModel",
          "state": {
            "_dom_classes": [],
            "_model_module": "@jupyter-widgets/controls",
            "_model_module_version": "1.5.0",
            "_model_name": "HTMLModel",
            "_view_count": null,
            "_view_module": "@jupyter-widgets/controls",
            "_view_module_version": "1.5.0",
            "_view_name": "HTMLView",
            "description": "",
            "description_tooltip": null,
            "layout": "IPY_MODEL_9aa8a2db25e44230b6b4cd50cb1d3bcd",
            "placeholder": "​",
            "style": "IPY_MODEL_49a7171c091e4341b73d8260540209a4",
            "value": "Map: 100%"
          }
        },
        "50bfe731439649d999cdfe85dfb5f9f0": {
          "model_module": "@jupyter-widgets/controls",
          "model_module_version": "1.5.0",
          "model_name": "HBoxModel",
          "state": {
            "_dom_classes": [],
            "_model_module": "@jupyter-widgets/controls",
            "_model_module_version": "1.5.0",
            "_model_name": "HBoxModel",
            "_view_count": null,
            "_view_module": "@jupyter-widgets/controls",
            "_view_module_version": "1.5.0",
            "_view_name": "HBoxView",
            "box_style": "",
            "children": [
              "IPY_MODEL_f77439ae065f47aab12f528b65d1202b",
              "IPY_MODEL_99b21f6cd21e432cadd974f18d342589",
              "IPY_MODEL_cc286311563d4bddb53cda0aedff7130"
            ],
            "layout": "IPY_MODEL_445e81a1071041b4a04bf094a8599395"
          }
        },
        "50f2d92945a44b8d89e92049d6ef755b": {
          "model_module": "@jupyter-widgets/controls",
          "model_module_version": "1.5.0",
          "model_name": "ProgressStyleModel",
          "state": {
            "_model_module": "@jupyter-widgets/controls",
            "_model_module_version": "1.5.0",
            "_model_name": "ProgressStyleModel",
            "_view_count": null,
            "_view_module": "@jupyter-widgets/base",
            "_view_module_version": "1.2.0",
            "_view_name": "StyleView",
            "bar_color": null,
            "description_width": ""
          }
        },
        "51f022334e3549b79ddbf5f17402828f": {
          "model_module": "@jupyter-widgets/controls",
          "model_module_version": "1.5.0",
          "model_name": "HBoxModel",
          "state": {
            "_dom_classes": [],
            "_model_module": "@jupyter-widgets/controls",
            "_model_module_version": "1.5.0",
            "_model_name": "HBoxModel",
            "_view_count": null,
            "_view_module": "@jupyter-widgets/controls",
            "_view_module_version": "1.5.0",
            "_view_name": "HBoxView",
            "box_style": "",
            "children": [
              "IPY_MODEL_947a4ba5784a4aac8f13332cfedfdfd4",
              "IPY_MODEL_1fca7b8431af44289a256eec6c8eba39",
              "IPY_MODEL_45258865aab0438b9844d6120c00b146"
            ],
            "layout": "IPY_MODEL_e8c9ad8ce9f0467ba289bb7758497d63"
          }
        },
        "54ac8cbdf32841fb848d9d36d02a515d": {
          "model_module": "@jupyter-widgets/controls",
          "model_module_version": "1.5.0",
          "model_name": "HTMLModel",
          "state": {
            "_dom_classes": [],
            "_model_module": "@jupyter-widgets/controls",
            "_model_module_version": "1.5.0",
            "_model_name": "HTMLModel",
            "_view_count": null,
            "_view_module": "@jupyter-widgets/controls",
            "_view_module_version": "1.5.0",
            "_view_name": "HTMLView",
            "description": "",
            "description_tooltip": null,
            "layout": "IPY_MODEL_c87b8362fbc24d0386a6b6304e123acb",
            "placeholder": "​",
            "style": "IPY_MODEL_faa159fab4c8448995e082c3551055ef",
            "value": " 611/611 [00:00&lt;00:00, 43.3kB/s]"
          }
        },
        "5f18079c6da04003b9bb17d489596cc6": {
          "model_module": "@jupyter-widgets/controls",
          "model_module_version": "1.5.0",
          "model_name": "FloatProgressModel",
          "state": {
            "_dom_classes": [],
            "_model_module": "@jupyter-widgets/controls",
            "_model_module_version": "1.5.0",
            "_model_name": "FloatProgressModel",
            "_view_count": null,
            "_view_module": "@jupyter-widgets/controls",
            "_view_module_version": "1.5.0",
            "_view_name": "ProgressView",
            "bar_style": "success",
            "description": "",
            "description_tooltip": null,
            "layout": "IPY_MODEL_04ff8580474e49378ae96251ea0a751e",
            "max": 367,
            "min": 0,
            "orientation": "horizontal",
            "style": "IPY_MODEL_a977523b7c314c28bb474b6efdcf1512",
            "value": 367
          }
        },
        "62d637da7e9b42049323a7d2e240002f": {
          "model_module": "@jupyter-widgets/controls",
          "model_module_version": "1.5.0",
          "model_name": "HTMLModel",
          "state": {
            "_dom_classes": [],
            "_model_module": "@jupyter-widgets/controls",
            "_model_module_version": "1.5.0",
            "_model_name": "HTMLModel",
            "_view_count": null,
            "_view_module": "@jupyter-widgets/controls",
            "_view_module_version": "1.5.0",
            "_view_name": "HTMLView",
            "description": "",
            "description_tooltip": null,
            "layout": "IPY_MODEL_d6d0e3bc6d0e4f88851b98c73d4bb959",
            "placeholder": "​",
            "style": "IPY_MODEL_f95158730c5c487485a515f4339916f9",
            "value": "tokenizer_config.json: 100%"
          }
        },
        "6438fb5bd9e544f2a215bcc06bc9e259": {
          "model_module": "@jupyter-widgets/controls",
          "model_module_version": "1.5.0",
          "model_name": "DescriptionStyleModel",
          "state": {
            "_model_module": "@jupyter-widgets/controls",
            "_model_module_version": "1.5.0",
            "_model_name": "DescriptionStyleModel",
            "_view_count": null,
            "_view_module": "@jupyter-widgets/base",
            "_view_module_version": "1.2.0",
            "_view_name": "StyleView",
            "description_width": ""
          }
        },
        "64c0bf0c2cf2453c8e16892ed4cbd6dd": {
          "model_module": "@jupyter-widgets/base",
          "model_module_version": "1.2.0",
          "model_name": "LayoutModel",
          "state": {
            "_model_module": "@jupyter-widgets/base",
            "_model_module_version": "1.2.0",
            "_model_name": "LayoutModel",
            "_view_count": null,
            "_view_module": "@jupyter-widgets/base",
            "_view_module_version": "1.2.0",
            "_view_name": "LayoutView",
            "align_content": null,
            "align_items": null,
            "align_self": null,
            "border": null,
            "bottom": null,
            "display": null,
            "flex": null,
            "flex_flow": null,
            "grid_area": null,
            "grid_auto_columns": null,
            "grid_auto_flow": null,
            "grid_auto_rows": null,
            "grid_column": null,
            "grid_gap": null,
            "grid_row": null,
            "grid_template_areas": null,
            "grid_template_columns": null,
            "grid_template_rows": null,
            "height": null,
            "justify_content": null,
            "justify_items": null,
            "left": null,
            "margin": null,
            "max_height": null,
            "max_width": null,
            "min_height": null,
            "min_width": null,
            "object_fit": null,
            "object_position": null,
            "order": null,
            "overflow": null,
            "overflow_x": null,
            "overflow_y": null,
            "padding": null,
            "right": null,
            "top": null,
            "visibility": null,
            "width": null
          }
        },
        "6504b626da464da788ed0e37dfc844d0": {
          "model_module": "@jupyter-widgets/controls",
          "model_module_version": "1.5.0",
          "model_name": "HTMLModel",
          "state": {
            "_dom_classes": [],
            "_model_module": "@jupyter-widgets/controls",
            "_model_module_version": "1.5.0",
            "_model_name": "HTMLModel",
            "_view_count": null,
            "_view_module": "@jupyter-widgets/controls",
            "_view_module_version": "1.5.0",
            "_view_name": "HTMLView",
            "description": "",
            "description_tooltip": null,
            "layout": "IPY_MODEL_71eec552503b44b7b22849c9a538670b",
            "placeholder": "​",
            "style": "IPY_MODEL_e4a9fccb493741a2897fa27bc83cd956",
            "value": " 367/367 [00:00&lt;00:00, 24.6kB/s]"
          }
        },
        "6913b33a5d4b4d9fb24c8fb8e6127761": {
          "model_module": "@jupyter-widgets/base",
          "model_module_version": "1.2.0",
          "model_name": "LayoutModel",
          "state": {
            "_model_module": "@jupyter-widgets/base",
            "_model_module_version": "1.2.0",
            "_model_name": "LayoutModel",
            "_view_count": null,
            "_view_module": "@jupyter-widgets/base",
            "_view_module_version": "1.2.0",
            "_view_name": "LayoutView",
            "align_content": null,
            "align_items": null,
            "align_self": null,
            "border": null,
            "bottom": null,
            "display": null,
            "flex": null,
            "flex_flow": null,
            "grid_area": null,
            "grid_auto_columns": null,
            "grid_auto_flow": null,
            "grid_auto_rows": null,
            "grid_column": null,
            "grid_gap": null,
            "grid_row": null,
            "grid_template_areas": null,
            "grid_template_columns": null,
            "grid_template_rows": null,
            "height": null,
            "justify_content": null,
            "justify_items": null,
            "left": null,
            "margin": null,
            "max_height": null,
            "max_width": null,
            "min_height": null,
            "min_width": null,
            "object_fit": null,
            "object_position": null,
            "order": null,
            "overflow": null,
            "overflow_x": null,
            "overflow_y": null,
            "padding": null,
            "right": null,
            "top": null,
            "visibility": null,
            "width": null
          }
        },
        "6dc051bf1b204cf2b29e5958fc84b1f0": {
          "model_module": "@jupyter-widgets/controls",
          "model_module_version": "1.5.0",
          "model_name": "DescriptionStyleModel",
          "state": {
            "_model_module": "@jupyter-widgets/controls",
            "_model_module_version": "1.5.0",
            "_model_name": "DescriptionStyleModel",
            "_view_count": null,
            "_view_module": "@jupyter-widgets/base",
            "_view_module_version": "1.2.0",
            "_view_name": "StyleView",
            "description_width": ""
          }
        },
        "70656eab63a947ffaab5b671db69aec1": {
          "model_module": "@jupyter-widgets/base",
          "model_module_version": "1.2.0",
          "model_name": "LayoutModel",
          "state": {
            "_model_module": "@jupyter-widgets/base",
            "_model_module_version": "1.2.0",
            "_model_name": "LayoutModel",
            "_view_count": null,
            "_view_module": "@jupyter-widgets/base",
            "_view_module_version": "1.2.0",
            "_view_name": "LayoutView",
            "align_content": null,
            "align_items": null,
            "align_self": null,
            "border": null,
            "bottom": null,
            "display": null,
            "flex": null,
            "flex_flow": null,
            "grid_area": null,
            "grid_auto_columns": null,
            "grid_auto_flow": null,
            "grid_auto_rows": null,
            "grid_column": null,
            "grid_gap": null,
            "grid_row": null,
            "grid_template_areas": null,
            "grid_template_columns": null,
            "grid_template_rows": null,
            "height": null,
            "justify_content": null,
            "justify_items": null,
            "left": null,
            "margin": null,
            "max_height": null,
            "max_width": null,
            "min_height": null,
            "min_width": null,
            "object_fit": null,
            "object_position": null,
            "order": null,
            "overflow": null,
            "overflow_x": null,
            "overflow_y": null,
            "padding": null,
            "right": null,
            "top": null,
            "visibility": null,
            "width": null
          }
        },
        "70d04ce1006b48ab95019819cfc5db99": {
          "model_module": "@jupyter-widgets/controls",
          "model_module_version": "1.5.0",
          "model_name": "FloatProgressModel",
          "state": {
            "_dom_classes": [],
            "_model_module": "@jupyter-widgets/controls",
            "_model_module_version": "1.5.0",
            "_model_name": "FloatProgressModel",
            "_view_count": null,
            "_view_module": "@jupyter-widgets/controls",
            "_view_module_version": "1.5.0",
            "_view_name": "ProgressView",
            "bar_style": "success",
            "description": "",
            "description_tooltip": null,
            "layout": "IPY_MODEL_35a885a90e8b48b987608236043ce621",
            "max": 59999,
            "min": 0,
            "orientation": "horizontal",
            "style": "IPY_MODEL_9f07640bc8cb475c92f1d3eb5619625d",
            "value": 59999
          }
        },
        "71eec552503b44b7b22849c9a538670b": {
          "model_module": "@jupyter-widgets/base",
          "model_module_version": "1.2.0",
          "model_name": "LayoutModel",
          "state": {
            "_model_module": "@jupyter-widgets/base",
            "_model_module_version": "1.2.0",
            "_model_name": "LayoutModel",
            "_view_count": null,
            "_view_module": "@jupyter-widgets/base",
            "_view_module_version": "1.2.0",
            "_view_name": "LayoutView",
            "align_content": null,
            "align_items": null,
            "align_self": null,
            "border": null,
            "bottom": null,
            "display": null,
            "flex": null,
            "flex_flow": null,
            "grid_area": null,
            "grid_auto_columns": null,
            "grid_auto_flow": null,
            "grid_auto_rows": null,
            "grid_column": null,
            "grid_gap": null,
            "grid_row": null,
            "grid_template_areas": null,
            "grid_template_columns": null,
            "grid_template_rows": null,
            "height": null,
            "justify_content": null,
            "justify_items": null,
            "left": null,
            "margin": null,
            "max_height": null,
            "max_width": null,
            "min_height": null,
            "min_width": null,
            "object_fit": null,
            "object_position": null,
            "order": null,
            "overflow": null,
            "overflow_x": null,
            "overflow_y": null,
            "padding": null,
            "right": null,
            "top": null,
            "visibility": null,
            "width": null
          }
        },
        "737f2cb028c94e82ba64397d0bcf721b": {
          "model_module": "@jupyter-widgets/base",
          "model_module_version": "1.2.0",
          "model_name": "LayoutModel",
          "state": {
            "_model_module": "@jupyter-widgets/base",
            "_model_module_version": "1.2.0",
            "_model_name": "LayoutModel",
            "_view_count": null,
            "_view_module": "@jupyter-widgets/base",
            "_view_module_version": "1.2.0",
            "_view_name": "LayoutView",
            "align_content": null,
            "align_items": null,
            "align_self": null,
            "border": null,
            "bottom": null,
            "display": null,
            "flex": null,
            "flex_flow": null,
            "grid_area": null,
            "grid_auto_columns": null,
            "grid_auto_flow": null,
            "grid_auto_rows": null,
            "grid_column": null,
            "grid_gap": null,
            "grid_row": null,
            "grid_template_areas": null,
            "grid_template_columns": null,
            "grid_template_rows": null,
            "height": null,
            "justify_content": null,
            "justify_items": null,
            "left": null,
            "margin": null,
            "max_height": null,
            "max_width": null,
            "min_height": null,
            "min_width": null,
            "object_fit": null,
            "object_position": null,
            "order": null,
            "overflow": null,
            "overflow_x": null,
            "overflow_y": null,
            "padding": null,
            "right": null,
            "top": null,
            "visibility": null,
            "width": null
          }
        },
        "7550509bf8114879b80f96af81f4cfaa": {
          "model_module": "@jupyter-widgets/controls",
          "model_module_version": "1.5.0",
          "model_name": "ProgressStyleModel",
          "state": {
            "_model_module": "@jupyter-widgets/controls",
            "_model_module_version": "1.5.0",
            "_model_name": "ProgressStyleModel",
            "_view_count": null,
            "_view_module": "@jupyter-widgets/base",
            "_view_module_version": "1.2.0",
            "_view_name": "StyleView",
            "bar_color": null,
            "description_width": ""
          }
        },
        "782057b9c1b149459761cbde3282fb1d": {
          "model_module": "@jupyter-widgets/controls",
          "model_module_version": "1.5.0",
          "model_name": "HBoxModel",
          "state": {
            "_dom_classes": [],
            "_model_module": "@jupyter-widgets/controls",
            "_model_module_version": "1.5.0",
            "_model_name": "HBoxModel",
            "_view_count": null,
            "_view_module": "@jupyter-widgets/controls",
            "_view_module_version": "1.5.0",
            "_view_name": "HBoxView",
            "box_style": "",
            "children": [
              "IPY_MODEL_c6e5db0894284d4ab615a85eb7bd4eb5",
              "IPY_MODEL_81d9bdbc04794a218424046186384e0f",
              "IPY_MODEL_dfbaf24353cd449a96395fd8880162b8"
            ],
            "layout": "IPY_MODEL_f95dffa2635a4055b09914d8d872c037"
          }
        },
        "7be158be28ff48f1bf4b406061f1ffd4": {
          "model_module": "@jupyter-widgets/controls",
          "model_module_version": "1.5.0",
          "model_name": "ProgressStyleModel",
          "state": {
            "_model_module": "@jupyter-widgets/controls",
            "_model_module_version": "1.5.0",
            "_model_name": "ProgressStyleModel",
            "_view_count": null,
            "_view_module": "@jupyter-widgets/base",
            "_view_module_version": "1.2.0",
            "_view_name": "StyleView",
            "bar_color": null,
            "description_width": ""
          }
        },
        "81d9bdbc04794a218424046186384e0f": {
          "model_module": "@jupyter-widgets/controls",
          "model_module_version": "1.5.0",
          "model_name": "FloatProgressModel",
          "state": {
            "_dom_classes": [],
            "_model_module": "@jupyter-widgets/controls",
            "_model_module_version": "1.5.0",
            "_model_name": "FloatProgressModel",
            "_view_count": null,
            "_view_module": "@jupyter-widgets/controls",
            "_view_module_version": "1.5.0",
            "_view_name": "ProgressView",
            "bar_style": "success",
            "description": "",
            "description_tooltip": null,
            "layout": "IPY_MODEL_229c158603794ab1acb65683710b801b",
            "max": 876713920,
            "min": 0,
            "orientation": "horizontal",
            "style": "IPY_MODEL_7be158be28ff48f1bf4b406061f1ffd4",
            "value": 876713920
          }
        },
        "820c1c0e4f234de9b1fcc040cf564ce2": {
          "model_module": "@jupyter-widgets/controls",
          "model_module_version": "1.5.0",
          "model_name": "HBoxModel",
          "state": {
            "_dom_classes": [],
            "_model_module": "@jupyter-widgets/controls",
            "_model_module_version": "1.5.0",
            "_model_name": "HBoxModel",
            "_view_count": null,
            "_view_module": "@jupyter-widgets/controls",
            "_view_module_version": "1.5.0",
            "_view_name": "HBoxView",
            "box_style": "",
            "children": [
              "IPY_MODEL_97e44b238be242559cc7bb76049a3f17",
              "IPY_MODEL_0a3cd0342104488a9013e1d1dc6c79c2",
              "IPY_MODEL_54ac8cbdf32841fb848d9d36d02a515d"
            ],
            "layout": "IPY_MODEL_d409870db32e4deab88db7306796df72"
          }
        },
        "822306e53f764eb18edbb0833e013ed8": {
          "model_module": "@jupyter-widgets/base",
          "model_module_version": "1.2.0",
          "model_name": "LayoutModel",
          "state": {
            "_model_module": "@jupyter-widgets/base",
            "_model_module_version": "1.2.0",
            "_model_name": "LayoutModel",
            "_view_count": null,
            "_view_module": "@jupyter-widgets/base",
            "_view_module_version": "1.2.0",
            "_view_name": "LayoutView",
            "align_content": null,
            "align_items": null,
            "align_self": null,
            "border": null,
            "bottom": null,
            "display": null,
            "flex": null,
            "flex_flow": null,
            "grid_area": null,
            "grid_auto_columns": null,
            "grid_auto_flow": null,
            "grid_auto_rows": null,
            "grid_column": null,
            "grid_gap": null,
            "grid_row": null,
            "grid_template_areas": null,
            "grid_template_columns": null,
            "grid_template_rows": null,
            "height": null,
            "justify_content": null,
            "justify_items": null,
            "left": null,
            "margin": null,
            "max_height": null,
            "max_width": null,
            "min_height": null,
            "min_width": null,
            "object_fit": null,
            "object_position": null,
            "order": null,
            "overflow": null,
            "overflow_x": null,
            "overflow_y": null,
            "padding": null,
            "right": null,
            "top": null,
            "visibility": null,
            "width": null
          }
        },
        "89c08c03228f4b2ea6b2450b7b685897": {
          "model_module": "@jupyter-widgets/base",
          "model_module_version": "1.2.0",
          "model_name": "LayoutModel",
          "state": {
            "_model_module": "@jupyter-widgets/base",
            "_model_module_version": "1.2.0",
            "_model_name": "LayoutModel",
            "_view_count": null,
            "_view_module": "@jupyter-widgets/base",
            "_view_module_version": "1.2.0",
            "_view_name": "LayoutView",
            "align_content": null,
            "align_items": null,
            "align_self": null,
            "border": null,
            "bottom": null,
            "display": null,
            "flex": null,
            "flex_flow": null,
            "grid_area": null,
            "grid_auto_columns": null,
            "grid_auto_flow": null,
            "grid_auto_rows": null,
            "grid_column": null,
            "grid_gap": null,
            "grid_row": null,
            "grid_template_areas": null,
            "grid_template_columns": null,
            "grid_template_rows": null,
            "height": null,
            "justify_content": null,
            "justify_items": null,
            "left": null,
            "margin": null,
            "max_height": null,
            "max_width": null,
            "min_height": null,
            "min_width": null,
            "object_fit": null,
            "object_position": null,
            "order": null,
            "overflow": null,
            "overflow_x": null,
            "overflow_y": null,
            "padding": null,
            "right": null,
            "top": null,
            "visibility": null,
            "width": null
          }
        },
        "8b1af278fa05442ea0f100592ccc6e90": {
          "model_module": "@jupyter-widgets/base",
          "model_module_version": "1.2.0",
          "model_name": "LayoutModel",
          "state": {
            "_model_module": "@jupyter-widgets/base",
            "_model_module_version": "1.2.0",
            "_model_name": "LayoutModel",
            "_view_count": null,
            "_view_module": "@jupyter-widgets/base",
            "_view_module_version": "1.2.0",
            "_view_name": "LayoutView",
            "align_content": null,
            "align_items": null,
            "align_self": null,
            "border": null,
            "bottom": null,
            "display": null,
            "flex": null,
            "flex_flow": null,
            "grid_area": null,
            "grid_auto_columns": null,
            "grid_auto_flow": null,
            "grid_auto_rows": null,
            "grid_column": null,
            "grid_gap": null,
            "grid_row": null,
            "grid_template_areas": null,
            "grid_template_columns": null,
            "grid_template_rows": null,
            "height": null,
            "justify_content": null,
            "justify_items": null,
            "left": null,
            "margin": null,
            "max_height": null,
            "max_width": null,
            "min_height": null,
            "min_width": null,
            "object_fit": null,
            "object_position": null,
            "order": null,
            "overflow": null,
            "overflow_x": null,
            "overflow_y": null,
            "padding": null,
            "right": null,
            "top": null,
            "visibility": null,
            "width": null
          }
        },
        "9061e043b413467ab51aef9a1f0c6697": {
          "model_module": "@jupyter-widgets/controls",
          "model_module_version": "1.5.0",
          "model_name": "HTMLModel",
          "state": {
            "_dom_classes": [],
            "_model_module": "@jupyter-widgets/controls",
            "_model_module_version": "1.5.0",
            "_model_name": "HTMLModel",
            "_view_count": null,
            "_view_module": "@jupyter-widgets/controls",
            "_view_module_version": "1.5.0",
            "_view_name": "HTMLView",
            "description": "",
            "description_tooltip": null,
            "layout": "IPY_MODEL_4292046b1b5c4ad8a90b17fa2e76665e",
            "placeholder": "​",
            "style": "IPY_MODEL_6dc051bf1b204cf2b29e5958fc84b1f0",
            "value": "vocab.txt: 100%"
          }
        },
        "944704b15cd0410795e88666b3b1126a": {
          "model_module": "@jupyter-widgets/controls",
          "model_module_version": "1.5.0",
          "model_name": "DescriptionStyleModel",
          "state": {
            "_model_module": "@jupyter-widgets/controls",
            "_model_module_version": "1.5.0",
            "_model_name": "DescriptionStyleModel",
            "_view_count": null,
            "_view_module": "@jupyter-widgets/base",
            "_view_module_version": "1.2.0",
            "_view_name": "StyleView",
            "description_width": ""
          }
        },
        "947a4ba5784a4aac8f13332cfedfdfd4": {
          "model_module": "@jupyter-widgets/controls",
          "model_module_version": "1.5.0",
          "model_name": "HTMLModel",
          "state": {
            "_dom_classes": [],
            "_model_module": "@jupyter-widgets/controls",
            "_model_module_version": "1.5.0",
            "_model_name": "HTMLModel",
            "_view_count": null,
            "_view_module": "@jupyter-widgets/controls",
            "_view_module_version": "1.5.0",
            "_view_name": "HTMLView",
            "description": "",
            "description_tooltip": null,
            "layout": "IPY_MODEL_af2f864be2e74ec8b3e278957effd7d5",
            "placeholder": "​",
            "style": "IPY_MODEL_4ab4663d58e2415b9ec973e96d5fc0d5",
            "value": "tokenizer.json: 100%"
          }
        },
        "956a27a5e36b4eeaac1f43b258792214": {
          "model_module": "@jupyter-widgets/base",
          "model_module_version": "1.2.0",
          "model_name": "LayoutModel",
          "state": {
            "_model_module": "@jupyter-widgets/base",
            "_model_module_version": "1.2.0",
            "_model_name": "LayoutModel",
            "_view_count": null,
            "_view_module": "@jupyter-widgets/base",
            "_view_module_version": "1.2.0",
            "_view_name": "LayoutView",
            "align_content": null,
            "align_items": null,
            "align_self": null,
            "border": null,
            "bottom": null,
            "display": null,
            "flex": null,
            "flex_flow": null,
            "grid_area": null,
            "grid_auto_columns": null,
            "grid_auto_flow": null,
            "grid_auto_rows": null,
            "grid_column": null,
            "grid_gap": null,
            "grid_row": null,
            "grid_template_areas": null,
            "grid_template_columns": null,
            "grid_template_rows": null,
            "height": null,
            "justify_content": null,
            "justify_items": null,
            "left": null,
            "margin": null,
            "max_height": null,
            "max_width": null,
            "min_height": null,
            "min_width": null,
            "object_fit": null,
            "object_position": null,
            "order": null,
            "overflow": null,
            "overflow_x": null,
            "overflow_y": null,
            "padding": null,
            "right": null,
            "top": null,
            "visibility": null,
            "width": null
          }
        },
        "97e44b238be242559cc7bb76049a3f17": {
          "model_module": "@jupyter-widgets/controls",
          "model_module_version": "1.5.0",
          "model_name": "HTMLModel",
          "state": {
            "_dom_classes": [],
            "_model_module": "@jupyter-widgets/controls",
            "_model_module_version": "1.5.0",
            "_model_name": "HTMLModel",
            "_view_count": null,
            "_view_module": "@jupyter-widgets/controls",
            "_view_module_version": "1.5.0",
            "_view_name": "HTMLView",
            "description": "",
            "description_tooltip": null,
            "layout": "IPY_MODEL_b84f9c31032142b6b4e9e9fc45a4866b",
            "placeholder": "​",
            "style": "IPY_MODEL_981ea5b4f7764e46b83c30b3eff1947c",
            "value": "config.json: 100%"
          }
        },
        "980bf79b83b042b79860b569c97566bd": {
          "model_module": "@jupyter-widgets/controls",
          "model_module_version": "1.5.0",
          "model_name": "ProgressStyleModel",
          "state": {
            "_model_module": "@jupyter-widgets/controls",
            "_model_module_version": "1.5.0",
            "_model_name": "ProgressStyleModel",
            "_view_count": null,
            "_view_module": "@jupyter-widgets/base",
            "_view_module_version": "1.2.0",
            "_view_name": "StyleView",
            "bar_color": null,
            "description_width": ""
          }
        },
        "981ea5b4f7764e46b83c30b3eff1947c": {
          "model_module": "@jupyter-widgets/controls",
          "model_module_version": "1.5.0",
          "model_name": "DescriptionStyleModel",
          "state": {
            "_model_module": "@jupyter-widgets/controls",
            "_model_module_version": "1.5.0",
            "_model_name": "DescriptionStyleModel",
            "_view_count": null,
            "_view_module": "@jupyter-widgets/base",
            "_view_module_version": "1.2.0",
            "_view_name": "StyleView",
            "description_width": ""
          }
        },
        "99b21f6cd21e432cadd974f18d342589": {
          "model_module": "@jupyter-widgets/controls",
          "model_module_version": "1.5.0",
          "model_name": "FloatProgressModel",
          "state": {
            "_dom_classes": [],
            "_model_module": "@jupyter-widgets/controls",
            "_model_module_version": "1.5.0",
            "_model_name": "FloatProgressModel",
            "_view_count": null,
            "_view_module": "@jupyter-widgets/controls",
            "_view_module_version": "1.5.0",
            "_view_name": "ProgressView",
            "bar_style": "success",
            "description": "",
            "description_tooltip": null,
            "layout": "IPY_MODEL_d74191a304e94ca3bd492eeb56e6ba09",
            "max": 20000,
            "min": 0,
            "orientation": "horizontal",
            "style": "IPY_MODEL_980bf79b83b042b79860b569c97566bd",
            "value": 20000
          }
        },
        "9aa8a2db25e44230b6b4cd50cb1d3bcd": {
          "model_module": "@jupyter-widgets/base",
          "model_module_version": "1.2.0",
          "model_name": "LayoutModel",
          "state": {
            "_model_module": "@jupyter-widgets/base",
            "_model_module_version": "1.2.0",
            "_model_name": "LayoutModel",
            "_view_count": null,
            "_view_module": "@jupyter-widgets/base",
            "_view_module_version": "1.2.0",
            "_view_name": "LayoutView",
            "align_content": null,
            "align_items": null,
            "align_self": null,
            "border": null,
            "bottom": null,
            "display": null,
            "flex": null,
            "flex_flow": null,
            "grid_area": null,
            "grid_auto_columns": null,
            "grid_auto_flow": null,
            "grid_auto_rows": null,
            "grid_column": null,
            "grid_gap": null,
            "grid_row": null,
            "grid_template_areas": null,
            "grid_template_columns": null,
            "grid_template_rows": null,
            "height": null,
            "justify_content": null,
            "justify_items": null,
            "left": null,
            "margin": null,
            "max_height": null,
            "max_width": null,
            "min_height": null,
            "min_width": null,
            "object_fit": null,
            "object_position": null,
            "order": null,
            "overflow": null,
            "overflow_x": null,
            "overflow_y": null,
            "padding": null,
            "right": null,
            "top": null,
            "visibility": null,
            "width": null
          }
        },
        "9f07640bc8cb475c92f1d3eb5619625d": {
          "model_module": "@jupyter-widgets/controls",
          "model_module_version": "1.5.0",
          "model_name": "ProgressStyleModel",
          "state": {
            "_model_module": "@jupyter-widgets/controls",
            "_model_module_version": "1.5.0",
            "_model_name": "ProgressStyleModel",
            "_view_count": null,
            "_view_module": "@jupyter-widgets/base",
            "_view_module_version": "1.2.0",
            "_view_name": "StyleView",
            "bar_color": null,
            "description_width": ""
          }
        },
        "a02e1e5eff2b4938a066ac2c3a13cb89": {
          "model_module": "@jupyter-widgets/controls",
          "model_module_version": "1.5.0",
          "model_name": "HTMLModel",
          "state": {
            "_dom_classes": [],
            "_model_module": "@jupyter-widgets/controls",
            "_model_module_version": "1.5.0",
            "_model_name": "HTMLModel",
            "_view_count": null,
            "_view_module": "@jupyter-widgets/controls",
            "_view_module_version": "1.5.0",
            "_view_name": "HTMLView",
            "description": "",
            "description_tooltip": null,
            "layout": "IPY_MODEL_70656eab63a947ffaab5b671db69aec1",
            "placeholder": "​",
            "style": "IPY_MODEL_cbdf015fc94643d9b31b266faf620252",
            "value": " 125/125 [00:00&lt;00:00, 3.81kB/s]"
          }
        },
        "a283ad1edebd48e399e276cf51b9fead": {
          "model_module": "@jupyter-widgets/base",
          "model_module_version": "1.2.0",
          "model_name": "LayoutModel",
          "state": {
            "_model_module": "@jupyter-widgets/base",
            "_model_module_version": "1.2.0",
            "_model_name": "LayoutModel",
            "_view_count": null,
            "_view_module": "@jupyter-widgets/base",
            "_view_module_version": "1.2.0",
            "_view_name": "LayoutView",
            "align_content": null,
            "align_items": null,
            "align_self": null,
            "border": null,
            "bottom": null,
            "display": null,
            "flex": null,
            "flex_flow": null,
            "grid_area": null,
            "grid_auto_columns": null,
            "grid_auto_flow": null,
            "grid_auto_rows": null,
            "grid_column": null,
            "grid_gap": null,
            "grid_row": null,
            "grid_template_areas": null,
            "grid_template_columns": null,
            "grid_template_rows": null,
            "height": null,
            "justify_content": null,
            "justify_items": null,
            "left": null,
            "margin": null,
            "max_height": null,
            "max_width": null,
            "min_height": null,
            "min_width": null,
            "object_fit": null,
            "object_position": null,
            "order": null,
            "overflow": null,
            "overflow_x": null,
            "overflow_y": null,
            "padding": null,
            "right": null,
            "top": null,
            "visibility": null,
            "width": null
          }
        },
        "a6a6e7165a0c4247976fe5dd39c96d88": {
          "model_module": "@jupyter-widgets/controls",
          "model_module_version": "1.5.0",
          "model_name": "FloatProgressModel",
          "state": {
            "_dom_classes": [],
            "_model_module": "@jupyter-widgets/controls",
            "_model_module_version": "1.5.0",
            "_model_name": "FloatProgressModel",
            "_view_count": null,
            "_view_module": "@jupyter-widgets/controls",
            "_view_module_version": "1.5.0",
            "_view_name": "ProgressView",
            "bar_style": "success",
            "description": "",
            "description_tooltip": null,
            "layout": "IPY_MODEL_f1314d026889467b949b2911bb329382",
            "max": 125,
            "min": 0,
            "orientation": "horizontal",
            "style": "IPY_MODEL_c25a2967dcf44f00b0dcb57c6a08f5df",
            "value": 125
          }
        },
        "a977523b7c314c28bb474b6efdcf1512": {
          "model_module": "@jupyter-widgets/controls",
          "model_module_version": "1.5.0",
          "model_name": "ProgressStyleModel",
          "state": {
            "_model_module": "@jupyter-widgets/controls",
            "_model_module_version": "1.5.0",
            "_model_name": "ProgressStyleModel",
            "_view_count": null,
            "_view_module": "@jupyter-widgets/base",
            "_view_module_version": "1.2.0",
            "_view_name": "StyleView",
            "bar_color": null,
            "description_width": ""
          }
        },
        "af2f864be2e74ec8b3e278957effd7d5": {
          "model_module": "@jupyter-widgets/base",
          "model_module_version": "1.2.0",
          "model_name": "LayoutModel",
          "state": {
            "_model_module": "@jupyter-widgets/base",
            "_model_module_version": "1.2.0",
            "_model_name": "LayoutModel",
            "_view_count": null,
            "_view_module": "@jupyter-widgets/base",
            "_view_module_version": "1.2.0",
            "_view_name": "LayoutView",
            "align_content": null,
            "align_items": null,
            "align_self": null,
            "border": null,
            "bottom": null,
            "display": null,
            "flex": null,
            "flex_flow": null,
            "grid_area": null,
            "grid_auto_columns": null,
            "grid_auto_flow": null,
            "grid_auto_rows": null,
            "grid_column": null,
            "grid_gap": null,
            "grid_row": null,
            "grid_template_areas": null,
            "grid_template_columns": null,
            "grid_template_rows": null,
            "height": null,
            "justify_content": null,
            "justify_items": null,
            "left": null,
            "margin": null,
            "max_height": null,
            "max_width": null,
            "min_height": null,
            "min_width": null,
            "object_fit": null,
            "object_position": null,
            "order": null,
            "overflow": null,
            "overflow_x": null,
            "overflow_y": null,
            "padding": null,
            "right": null,
            "top": null,
            "visibility": null,
            "width": null
          }
        },
        "b23a96c3851647f1a526b4ad6a2a60bb": {
          "model_module": "@jupyter-widgets/controls",
          "model_module_version": "1.5.0",
          "model_name": "HBoxModel",
          "state": {
            "_dom_classes": [],
            "_model_module": "@jupyter-widgets/controls",
            "_model_module_version": "1.5.0",
            "_model_name": "HBoxModel",
            "_view_count": null,
            "_view_module": "@jupyter-widgets/controls",
            "_view_module_version": "1.5.0",
            "_view_name": "HBoxView",
            "box_style": "",
            "children": [
              "IPY_MODEL_4fdb5caef3ab46e69f31191399ad3c3f",
              "IPY_MODEL_70d04ce1006b48ab95019819cfc5db99",
              "IPY_MODEL_2aa4be00c0f8461486d417f34c329d4b"
            ],
            "layout": "IPY_MODEL_737f2cb028c94e82ba64397d0bcf721b"
          }
        },
        "b2b4afd18a1542d88a50c399e351640e": {
          "model_module": "@jupyter-widgets/controls",
          "model_module_version": "1.5.0",
          "model_name": "HTMLModel",
          "state": {
            "_dom_classes": [],
            "_model_module": "@jupyter-widgets/controls",
            "_model_module_version": "1.5.0",
            "_model_name": "HTMLModel",
            "_view_count": null,
            "_view_module": "@jupyter-widgets/controls",
            "_view_module_version": "1.5.0",
            "_view_name": "HTMLView",
            "description": "",
            "description_tooltip": null,
            "layout": "IPY_MODEL_3e18d427e8294e6bad822ae4bd826f2e",
            "placeholder": "​",
            "style": "IPY_MODEL_c4c4c54e558047129f6762d899c19bda",
            "value": " 1.47M/1.47M [00:00&lt;00:00, 3.37MB/s]"
          }
        },
        "b84f9c31032142b6b4e9e9fc45a4866b": {
          "model_module": "@jupyter-widgets/base",
          "model_module_version": "1.2.0",
          "model_name": "LayoutModel",
          "state": {
            "_model_module": "@jupyter-widgets/base",
            "_model_module_version": "1.2.0",
            "_model_name": "LayoutModel",
            "_view_count": null,
            "_view_module": "@jupyter-widgets/base",
            "_view_module_version": "1.2.0",
            "_view_name": "LayoutView",
            "align_content": null,
            "align_items": null,
            "align_self": null,
            "border": null,
            "bottom": null,
            "display": null,
            "flex": null,
            "flex_flow": null,
            "grid_area": null,
            "grid_auto_columns": null,
            "grid_auto_flow": null,
            "grid_auto_rows": null,
            "grid_column": null,
            "grid_gap": null,
            "grid_row": null,
            "grid_template_areas": null,
            "grid_template_columns": null,
            "grid_template_rows": null,
            "height": null,
            "justify_content": null,
            "justify_items": null,
            "left": null,
            "margin": null,
            "max_height": null,
            "max_width": null,
            "min_height": null,
            "min_width": null,
            "object_fit": null,
            "object_position": null,
            "order": null,
            "overflow": null,
            "overflow_x": null,
            "overflow_y": null,
            "padding": null,
            "right": null,
            "top": null,
            "visibility": null,
            "width": null
          }
        },
        "b9b9379f38124f48866567ce7a4d41a2": {
          "model_module": "@jupyter-widgets/controls",
          "model_module_version": "1.5.0",
          "model_name": "DescriptionStyleModel",
          "state": {
            "_model_module": "@jupyter-widgets/controls",
            "_model_module_version": "1.5.0",
            "_model_name": "DescriptionStyleModel",
            "_view_count": null,
            "_view_module": "@jupyter-widgets/base",
            "_view_module_version": "1.2.0",
            "_view_name": "StyleView",
            "description_width": ""
          }
        },
        "bc5b0c911c43405cbada04f655db151e": {
          "model_module": "@jupyter-widgets/controls",
          "model_module_version": "1.5.0",
          "model_name": "DescriptionStyleModel",
          "state": {
            "_model_module": "@jupyter-widgets/controls",
            "_model_module_version": "1.5.0",
            "_model_name": "DescriptionStyleModel",
            "_view_count": null,
            "_view_module": "@jupyter-widgets/base",
            "_view_module_version": "1.2.0",
            "_view_name": "StyleView",
            "description_width": ""
          }
        },
        "c25a2967dcf44f00b0dcb57c6a08f5df": {
          "model_module": "@jupyter-widgets/controls",
          "model_module_version": "1.5.0",
          "model_name": "ProgressStyleModel",
          "state": {
            "_model_module": "@jupyter-widgets/controls",
            "_model_module_version": "1.5.0",
            "_model_name": "ProgressStyleModel",
            "_view_count": null,
            "_view_module": "@jupyter-widgets/base",
            "_view_module_version": "1.2.0",
            "_view_name": "StyleView",
            "bar_color": null,
            "description_width": ""
          }
        },
        "c3a124d957e24ba29987e20ce2a60d33": {
          "model_module": "@jupyter-widgets/controls",
          "model_module_version": "1.5.0",
          "model_name": "HBoxModel",
          "state": {
            "_dom_classes": [],
            "_model_module": "@jupyter-widgets/controls",
            "_model_module_version": "1.5.0",
            "_model_name": "HBoxModel",
            "_view_count": null,
            "_view_module": "@jupyter-widgets/controls",
            "_view_module_version": "1.5.0",
            "_view_name": "HBoxView",
            "box_style": "",
            "children": [
              "IPY_MODEL_e12ca3c456cc415999ecd83264a076c9",
              "IPY_MODEL_a6a6e7165a0c4247976fe5dd39c96d88",
              "IPY_MODEL_a02e1e5eff2b4938a066ac2c3a13cb89"
            ],
            "layout": "IPY_MODEL_3391bba4ee92459cafc0e020fa00929d"
          }
        },
        "c4c4c54e558047129f6762d899c19bda": {
          "model_module": "@jupyter-widgets/controls",
          "model_module_version": "1.5.0",
          "model_name": "DescriptionStyleModel",
          "state": {
            "_model_module": "@jupyter-widgets/controls",
            "_model_module_version": "1.5.0",
            "_model_name": "DescriptionStyleModel",
            "_view_count": null,
            "_view_module": "@jupyter-widgets/base",
            "_view_module_version": "1.2.0",
            "_view_name": "StyleView",
            "description_width": ""
          }
        },
        "c6e5db0894284d4ab615a85eb7bd4eb5": {
          "model_module": "@jupyter-widgets/controls",
          "model_module_version": "1.5.0",
          "model_name": "HTMLModel",
          "state": {
            "_dom_classes": [],
            "_model_module": "@jupyter-widgets/controls",
            "_model_module_version": "1.5.0",
            "_model_name": "HTMLModel",
            "_view_count": null,
            "_view_module": "@jupyter-widgets/controls",
            "_view_module_version": "1.5.0",
            "_view_name": "HTMLView",
            "description": "",
            "description_tooltip": null,
            "layout": "IPY_MODEL_89c08c03228f4b2ea6b2450b7b685897",
            "placeholder": "​",
            "style": "IPY_MODEL_b9b9379f38124f48866567ce7a4d41a2",
            "value": "model.safetensors: 100%"
          }
        },
        "c87b8362fbc24d0386a6b6304e123acb": {
          "model_module": "@jupyter-widgets/base",
          "model_module_version": "1.2.0",
          "model_name": "LayoutModel",
          "state": {
            "_model_module": "@jupyter-widgets/base",
            "_model_module_version": "1.2.0",
            "_model_name": "LayoutModel",
            "_view_count": null,
            "_view_module": "@jupyter-widgets/base",
            "_view_module_version": "1.2.0",
            "_view_name": "LayoutView",
            "align_content": null,
            "align_items": null,
            "align_self": null,
            "border": null,
            "bottom": null,
            "display": null,
            "flex": null,
            "flex_flow": null,
            "grid_area": null,
            "grid_auto_columns": null,
            "grid_auto_flow": null,
            "grid_auto_rows": null,
            "grid_column": null,
            "grid_gap": null,
            "grid_row": null,
            "grid_template_areas": null,
            "grid_template_columns": null,
            "grid_template_rows": null,
            "height": null,
            "justify_content": null,
            "justify_items": null,
            "left": null,
            "margin": null,
            "max_height": null,
            "max_width": null,
            "min_height": null,
            "min_width": null,
            "object_fit": null,
            "object_position": null,
            "order": null,
            "overflow": null,
            "overflow_x": null,
            "overflow_y": null,
            "padding": null,
            "right": null,
            "top": null,
            "visibility": null,
            "width": null
          }
        },
        "cbdf015fc94643d9b31b266faf620252": {
          "model_module": "@jupyter-widgets/controls",
          "model_module_version": "1.5.0",
          "model_name": "DescriptionStyleModel",
          "state": {
            "_model_module": "@jupyter-widgets/controls",
            "_model_module_version": "1.5.0",
            "_model_name": "DescriptionStyleModel",
            "_view_count": null,
            "_view_module": "@jupyter-widgets/base",
            "_view_module_version": "1.2.0",
            "_view_name": "StyleView",
            "description_width": ""
          }
        },
        "cc286311563d4bddb53cda0aedff7130": {
          "model_module": "@jupyter-widgets/controls",
          "model_module_version": "1.5.0",
          "model_name": "HTMLModel",
          "state": {
            "_dom_classes": [],
            "_model_module": "@jupyter-widgets/controls",
            "_model_module_version": "1.5.0",
            "_model_name": "HTMLModel",
            "_view_count": null,
            "_view_module": "@jupyter-widgets/controls",
            "_view_module_version": "1.5.0",
            "_view_name": "HTMLView",
            "description": "",
            "description_tooltip": null,
            "layout": "IPY_MODEL_6913b33a5d4b4d9fb24c8fb8e6127761",
            "placeholder": "​",
            "style": "IPY_MODEL_6438fb5bd9e544f2a215bcc06bc9e259",
            "value": " 20000/20000 [00:03&lt;00:00, 5659.70 examples/s]"
          }
        },
        "d409870db32e4deab88db7306796df72": {
          "model_module": "@jupyter-widgets/base",
          "model_module_version": "1.2.0",
          "model_name": "LayoutModel",
          "state": {
            "_model_module": "@jupyter-widgets/base",
            "_model_module_version": "1.2.0",
            "_model_name": "LayoutModel",
            "_view_count": null,
            "_view_module": "@jupyter-widgets/base",
            "_view_module_version": "1.2.0",
            "_view_name": "LayoutView",
            "align_content": null,
            "align_items": null,
            "align_self": null,
            "border": null,
            "bottom": null,
            "display": null,
            "flex": null,
            "flex_flow": null,
            "grid_area": null,
            "grid_auto_columns": null,
            "grid_auto_flow": null,
            "grid_auto_rows": null,
            "grid_column": null,
            "grid_gap": null,
            "grid_row": null,
            "grid_template_areas": null,
            "grid_template_columns": null,
            "grid_template_rows": null,
            "height": null,
            "justify_content": null,
            "justify_items": null,
            "left": null,
            "margin": null,
            "max_height": null,
            "max_width": null,
            "min_height": null,
            "min_width": null,
            "object_fit": null,
            "object_position": null,
            "order": null,
            "overflow": null,
            "overflow_x": null,
            "overflow_y": null,
            "padding": null,
            "right": null,
            "top": null,
            "visibility": null,
            "width": null
          }
        },
        "d6d0e3bc6d0e4f88851b98c73d4bb959": {
          "model_module": "@jupyter-widgets/base",
          "model_module_version": "1.2.0",
          "model_name": "LayoutModel",
          "state": {
            "_model_module": "@jupyter-widgets/base",
            "_model_module_version": "1.2.0",
            "_model_name": "LayoutModel",
            "_view_count": null,
            "_view_module": "@jupyter-widgets/base",
            "_view_module_version": "1.2.0",
            "_view_name": "LayoutView",
            "align_content": null,
            "align_items": null,
            "align_self": null,
            "border": null,
            "bottom": null,
            "display": null,
            "flex": null,
            "flex_flow": null,
            "grid_area": null,
            "grid_auto_columns": null,
            "grid_auto_flow": null,
            "grid_auto_rows": null,
            "grid_column": null,
            "grid_gap": null,
            "grid_row": null,
            "grid_template_areas": null,
            "grid_template_columns": null,
            "grid_template_rows": null,
            "height": null,
            "justify_content": null,
            "justify_items": null,
            "left": null,
            "margin": null,
            "max_height": null,
            "max_width": null,
            "min_height": null,
            "min_width": null,
            "object_fit": null,
            "object_position": null,
            "order": null,
            "overflow": null,
            "overflow_x": null,
            "overflow_y": null,
            "padding": null,
            "right": null,
            "top": null,
            "visibility": null,
            "width": null
          }
        },
        "d74191a304e94ca3bd492eeb56e6ba09": {
          "model_module": "@jupyter-widgets/base",
          "model_module_version": "1.2.0",
          "model_name": "LayoutModel",
          "state": {
            "_model_module": "@jupyter-widgets/base",
            "_model_module_version": "1.2.0",
            "_model_name": "LayoutModel",
            "_view_count": null,
            "_view_module": "@jupyter-widgets/base",
            "_view_module_version": "1.2.0",
            "_view_name": "LayoutView",
            "align_content": null,
            "align_items": null,
            "align_self": null,
            "border": null,
            "bottom": null,
            "display": null,
            "flex": null,
            "flex_flow": null,
            "grid_area": null,
            "grid_auto_columns": null,
            "grid_auto_flow": null,
            "grid_auto_rows": null,
            "grid_column": null,
            "grid_gap": null,
            "grid_row": null,
            "grid_template_areas": null,
            "grid_template_columns": null,
            "grid_template_rows": null,
            "height": null,
            "justify_content": null,
            "justify_items": null,
            "left": null,
            "margin": null,
            "max_height": null,
            "max_width": null,
            "min_height": null,
            "min_width": null,
            "object_fit": null,
            "object_position": null,
            "order": null,
            "overflow": null,
            "overflow_x": null,
            "overflow_y": null,
            "padding": null,
            "right": null,
            "top": null,
            "visibility": null,
            "width": null
          }
        },
        "d7fe91f265794660a7abc48c3dea36cc": {
          "model_module": "@jupyter-widgets/controls",
          "model_module_version": "1.5.0",
          "model_name": "ProgressStyleModel",
          "state": {
            "_model_module": "@jupyter-widgets/controls",
            "_model_module_version": "1.5.0",
            "_model_name": "ProgressStyleModel",
            "_view_count": null,
            "_view_module": "@jupyter-widgets/base",
            "_view_module_version": "1.2.0",
            "_view_name": "StyleView",
            "bar_color": null,
            "description_width": ""
          }
        },
        "dfbaf24353cd449a96395fd8880162b8": {
          "model_module": "@jupyter-widgets/controls",
          "model_module_version": "1.5.0",
          "model_name": "HTMLModel",
          "state": {
            "_dom_classes": [],
            "_model_module": "@jupyter-widgets/controls",
            "_model_module_version": "1.5.0",
            "_model_name": "HTMLModel",
            "_view_count": null,
            "_view_module": "@jupyter-widgets/controls",
            "_view_module_version": "1.5.0",
            "_view_name": "HTMLView",
            "description": "",
            "description_tooltip": null,
            "layout": "IPY_MODEL_105575c65b774cdd89df65c0afcd1480",
            "placeholder": "​",
            "style": "IPY_MODEL_bc5b0c911c43405cbada04f655db151e",
            "value": " 877M/877M [00:07&lt;00:00, 203MB/s]"
          }
        },
        "e12ca3c456cc415999ecd83264a076c9": {
          "model_module": "@jupyter-widgets/controls",
          "model_module_version": "1.5.0",
          "model_name": "HTMLModel",
          "state": {
            "_dom_classes": [],
            "_model_module": "@jupyter-widgets/controls",
            "_model_module_version": "1.5.0",
            "_model_name": "HTMLModel",
            "_view_count": null,
            "_view_module": "@jupyter-widgets/controls",
            "_view_module_version": "1.5.0",
            "_view_name": "HTMLView",
            "description": "",
            "description_tooltip": null,
            "layout": "IPY_MODEL_956a27a5e36b4eeaac1f43b258792214",
            "placeholder": "​",
            "style": "IPY_MODEL_25d3f3dae8c74be99b78dc54491f9837",
            "value": "special_tokens_map.json: 100%"
          }
        },
        "e4a9fccb493741a2897fa27bc83cd956": {
          "model_module": "@jupyter-widgets/controls",
          "model_module_version": "1.5.0",
          "model_name": "DescriptionStyleModel",
          "state": {
            "_model_module": "@jupyter-widgets/controls",
            "_model_module_version": "1.5.0",
            "_model_name": "DescriptionStyleModel",
            "_view_count": null,
            "_view_module": "@jupyter-widgets/base",
            "_view_module_version": "1.2.0",
            "_view_name": "StyleView",
            "description_width": ""
          }
        },
        "e8c9ad8ce9f0467ba289bb7758497d63": {
          "model_module": "@jupyter-widgets/base",
          "model_module_version": "1.2.0",
          "model_name": "LayoutModel",
          "state": {
            "_model_module": "@jupyter-widgets/base",
            "_model_module_version": "1.2.0",
            "_model_name": "LayoutModel",
            "_view_count": null,
            "_view_module": "@jupyter-widgets/base",
            "_view_module_version": "1.2.0",
            "_view_name": "LayoutView",
            "align_content": null,
            "align_items": null,
            "align_self": null,
            "border": null,
            "bottom": null,
            "display": null,
            "flex": null,
            "flex_flow": null,
            "grid_area": null,
            "grid_auto_columns": null,
            "grid_auto_flow": null,
            "grid_auto_rows": null,
            "grid_column": null,
            "grid_gap": null,
            "grid_row": null,
            "grid_template_areas": null,
            "grid_template_columns": null,
            "grid_template_rows": null,
            "height": null,
            "justify_content": null,
            "justify_items": null,
            "left": null,
            "margin": null,
            "max_height": null,
            "max_width": null,
            "min_height": null,
            "min_width": null,
            "object_fit": null,
            "object_position": null,
            "order": null,
            "overflow": null,
            "overflow_x": null,
            "overflow_y": null,
            "padding": null,
            "right": null,
            "top": null,
            "visibility": null,
            "width": null
          }
        },
        "eb309ff57cbb470a813f02abe0cac47b": {
          "model_module": "@jupyter-widgets/controls",
          "model_module_version": "1.5.0",
          "model_name": "HBoxModel",
          "state": {
            "_dom_classes": [],
            "_model_module": "@jupyter-widgets/controls",
            "_model_module_version": "1.5.0",
            "_model_name": "HBoxModel",
            "_view_count": null,
            "_view_module": "@jupyter-widgets/controls",
            "_view_module_version": "1.5.0",
            "_view_name": "HBoxView",
            "box_style": "",
            "children": [
              "IPY_MODEL_9061e043b413467ab51aef9a1f0c6697",
              "IPY_MODEL_309c83fd4034461ab3fccd640ac15b65",
              "IPY_MODEL_b2b4afd18a1542d88a50c399e351640e"
            ],
            "layout": "IPY_MODEL_45add9db854044b68bb7c94ca72e8911"
          }
        },
        "f05d83bea4c64b44859733e3b017e166": {
          "model_module": "@jupyter-widgets/controls",
          "model_module_version": "1.5.0",
          "model_name": "DescriptionStyleModel",
          "state": {
            "_model_module": "@jupyter-widgets/controls",
            "_model_module_version": "1.5.0",
            "_model_name": "DescriptionStyleModel",
            "_view_count": null,
            "_view_module": "@jupyter-widgets/base",
            "_view_module_version": "1.2.0",
            "_view_name": "StyleView",
            "description_width": ""
          }
        },
        "f1314d026889467b949b2911bb329382": {
          "model_module": "@jupyter-widgets/base",
          "model_module_version": "1.2.0",
          "model_name": "LayoutModel",
          "state": {
            "_model_module": "@jupyter-widgets/base",
            "_model_module_version": "1.2.0",
            "_model_name": "LayoutModel",
            "_view_count": null,
            "_view_module": "@jupyter-widgets/base",
            "_view_module_version": "1.2.0",
            "_view_name": "LayoutView",
            "align_content": null,
            "align_items": null,
            "align_self": null,
            "border": null,
            "bottom": null,
            "display": null,
            "flex": null,
            "flex_flow": null,
            "grid_area": null,
            "grid_auto_columns": null,
            "grid_auto_flow": null,
            "grid_auto_rows": null,
            "grid_column": null,
            "grid_gap": null,
            "grid_row": null,
            "grid_template_areas": null,
            "grid_template_columns": null,
            "grid_template_rows": null,
            "height": null,
            "justify_content": null,
            "justify_items": null,
            "left": null,
            "margin": null,
            "max_height": null,
            "max_width": null,
            "min_height": null,
            "min_width": null,
            "object_fit": null,
            "object_position": null,
            "order": null,
            "overflow": null,
            "overflow_x": null,
            "overflow_y": null,
            "padding": null,
            "right": null,
            "top": null,
            "visibility": null,
            "width": null
          }
        },
        "f77439ae065f47aab12f528b65d1202b": {
          "model_module": "@jupyter-widgets/controls",
          "model_module_version": "1.5.0",
          "model_name": "HTMLModel",
          "state": {
            "_dom_classes": [],
            "_model_module": "@jupyter-widgets/controls",
            "_model_module_version": "1.5.0",
            "_model_name": "HTMLModel",
            "_view_count": null,
            "_view_module": "@jupyter-widgets/controls",
            "_view_module_version": "1.5.0",
            "_view_name": "HTMLView",
            "description": "",
            "description_tooltip": null,
            "layout": "IPY_MODEL_a283ad1edebd48e399e276cf51b9fead",
            "placeholder": "​",
            "style": "IPY_MODEL_944704b15cd0410795e88666b3b1126a",
            "value": "Map: 100%"
          }
        },
        "f95158730c5c487485a515f4339916f9": {
          "model_module": "@jupyter-widgets/controls",
          "model_module_version": "1.5.0",
          "model_name": "DescriptionStyleModel",
          "state": {
            "_model_module": "@jupyter-widgets/controls",
            "_model_module_version": "1.5.0",
            "_model_name": "DescriptionStyleModel",
            "_view_count": null,
            "_view_module": "@jupyter-widgets/base",
            "_view_module_version": "1.2.0",
            "_view_name": "StyleView",
            "description_width": ""
          }
        },
        "f95dffa2635a4055b09914d8d872c037": {
          "model_module": "@jupyter-widgets/base",
          "model_module_version": "1.2.0",
          "model_name": "LayoutModel",
          "state": {
            "_model_module": "@jupyter-widgets/base",
            "_model_module_version": "1.2.0",
            "_model_name": "LayoutModel",
            "_view_count": null,
            "_view_module": "@jupyter-widgets/base",
            "_view_module_version": "1.2.0",
            "_view_name": "LayoutView",
            "align_content": null,
            "align_items": null,
            "align_self": null,
            "border": null,
            "bottom": null,
            "display": null,
            "flex": null,
            "flex_flow": null,
            "grid_area": null,
            "grid_auto_columns": null,
            "grid_auto_flow": null,
            "grid_auto_rows": null,
            "grid_column": null,
            "grid_gap": null,
            "grid_row": null,
            "grid_template_areas": null,
            "grid_template_columns": null,
            "grid_template_rows": null,
            "height": null,
            "justify_content": null,
            "justify_items": null,
            "left": null,
            "margin": null,
            "max_height": null,
            "max_width": null,
            "min_height": null,
            "min_width": null,
            "object_fit": null,
            "object_position": null,
            "order": null,
            "overflow": null,
            "overflow_x": null,
            "overflow_y": null,
            "padding": null,
            "right": null,
            "top": null,
            "visibility": null,
            "width": null
          }
        },
        "faa159fab4c8448995e082c3551055ef": {
          "model_module": "@jupyter-widgets/controls",
          "model_module_version": "1.5.0",
          "model_name": "DescriptionStyleModel",
          "state": {
            "_model_module": "@jupyter-widgets/controls",
            "_model_module_version": "1.5.0",
            "_model_name": "DescriptionStyleModel",
            "_view_count": null,
            "_view_module": "@jupyter-widgets/base",
            "_view_module_version": "1.2.0",
            "_view_name": "StyleView",
            "description_width": ""
          }
        }
      }
    }
  },
  "nbformat": 4,
  "nbformat_minor": 5
}
