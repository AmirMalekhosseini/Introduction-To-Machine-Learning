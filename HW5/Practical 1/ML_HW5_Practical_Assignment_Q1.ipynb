{
  "cells": [
    {
      "cell_type": "markdown",
      "source": [
        "<br>\n",
        "<font>\n",
        "<div dir=ltr align=center>\n",
        "<img src=\"https://cdn.freebiesupply.com/logos/large/2x/sharif-logo-png-transparent.png\" width=150 height=150> <br>\n",
        "<font color=0F5298 size=7>\n",
        "    Machine learning <br>\n",
        "<font color=2565AE size=5>\n",
        "    Computer Engineering Department <br>\n",
        "    Fall 2024<br>\n",
        "<font color=3C99D size=5>\n",
        "    Practical Assignment 5 - NLP - Skip-Gram <br>\n",
        "<font color=0CBCDF size=4>\n",
        "   &#x1F335; Amirhossein Akbari  &#x1F335;\n",
        "</div>\n",
        "\n",
        "____"
      ],
      "metadata": {
        "id": "0QOmoitc9qC4"
      }
    },
    {
      "cell_type": "markdown",
      "source": [
        "<font color=9999FF size=4>\n",
        "&#x1F388; Full Name : Amir Malekhosseini\n",
        "<br>\n",
        "<font color=9999FF size=4>\n",
        "&#x1F388; Student Number : 401100528"
      ],
      "metadata": {
        "id": "35Y0nSE3-wuW"
      }
    },
    {
      "cell_type": "markdown",
      "source": [
        "<font color=0080FF size=3>\n",
        "This notebook explores word embeddings, compact and dense vector representations of words that capture their textual meaning. This notebook focusing on implementing the Word2Vec algorithm using the Skip-gram architecture and negative sampling.\n",
        "</font>\n",
        "<br>\n",
        "\n",
        "**Note:**\n",
        "<br>\n",
        "<font color=66B2FF size=2>In this notebook, you are free to use any function or model from TensorFlow to assist with the implementation. However, PyTorch is not permitted for this exercise. This ensures consistency and alignment with the tools being focused on.</font>\n",
        "<br>\n",
        "<font color=red size=3>**Run All Cells Before Submission**</font>: <font color=FF99CC size=2>Before saving and submitting your notebook, please ensure you run all cells from start to finish. This practice guarantees that your notebook is self-consistent and can be evaluated correctly by others.</font>"
      ],
      "metadata": {
        "id": "i4spZpsq_Pxf"
      }
    },
    {
      "cell_type": "markdown",
      "source": [
        "<font color=#ffb578 size=3>\n",
        "you are free to modify, add, or remove any cells as you see fit to complete your tasks. Feel free to change any of the provided code or content to better suit your understanding and approach to the problems.\n",
        "\n",
        "- **Questions**: If you have any questions or require clarifications as you work through the notebook, please do not hesitate to ask. You can post your queries on Quera or reach out via Telegram.\n",
        "- **Feedback**: We encourage you to seek feedback and engage in discussions to enhance your learning experience and improve your solutions.\n",
        "</font>"
      ],
      "metadata": {
        "id": "hZCaUs-3FsJk"
      }
    },
    {
      "cell_type": "code",
      "execution_count": 1,
      "metadata": {
        "execution": {
          "iopub.execute_input": "2020-10-10T13:12:41.263643Z",
          "iopub.status.busy": "2020-10-10T13:12:41.262979Z",
          "iopub.status.idle": "2020-10-10T13:12:49.471771Z",
          "shell.execute_reply": "2020-10-10T13:12:49.471205Z"
        },
        "id": "hoV5vSSSbIp0",
        "outputId": "34d2ae60-e8ae-41a2-8ed2-f63219e2e285",
        "papermill": {
          "duration": 8.238801,
          "end_time": "2020-10-10T13:12:49.471884",
          "exception": false,
          "start_time": "2020-10-10T13:12:41.233083",
          "status": "completed"
        },
        "tags": [],
        "colab": {
          "base_uri": "https://localhost:8080/"
        }
      },
      "outputs": [
        {
          "output_type": "stream",
          "name": "stderr",
          "text": [
            "[nltk_data] Downloading package stopwords to /root/nltk_data...\n",
            "[nltk_data]   Unzipping corpora/stopwords.zip.\n"
          ]
        }
      ],
      "source": [
        "\n",
        "import io\n",
        "import math\n",
        "import gzip\n",
        "import nltk\n",
        "import time\n",
        "import random\n",
        "import numpy as np\n",
        "import tensorflow as tf\n",
        "import gensim.downloader as api\n",
        "import tensorflow_datasets as tfds\n",
        "nltk.download('stopwords')\n",
        "\n",
        "from collections import Counter\n",
        "from nltk.corpus import stopwords\n",
        "from tensorflow.keras.preprocessing.text import Tokenizer\n",
        "from tensorflow.keras.preprocessing.sequence import skipgrams\n"
      ]
    },
    {
      "cell_type": "markdown",
      "metadata": {
        "id": "3pwuegqx-JWf",
        "papermill": {
          "duration": 0.023154,
          "end_time": "2020-10-10T13:12:49.521385",
          "exception": false,
          "start_time": "2020-10-10T13:12:49.498231",
          "status": "completed"
        },
        "tags": []
      },
      "source": [
        "### Downloading Dataset\n",
        "We're going to use text8 dataset. Text8 is first 100,000,000 bytes of plain text from Wikipedia. It's mainly used for testing purposes."
      ]
    },
    {
      "cell_type": "code",
      "execution_count": 2,
      "metadata": {
        "execution": {
          "iopub.execute_input": "2020-10-10T13:12:49.580623Z",
          "iopub.status.busy": "2020-10-10T13:12:49.579765Z",
          "iopub.status.idle": "2020-10-10T13:13:03.778660Z",
          "shell.execute_reply": "2020-10-10T13:13:03.779347Z"
        },
        "id": "XG-FjuVEFLGW",
        "papermill": {
          "duration": 14.234694,
          "end_time": "2020-10-10T13:13:03.779495",
          "exception": false,
          "start_time": "2020-10-10T13:12:49.544801",
          "status": "completed"
        },
        "tags": [],
        "colab": {
          "base_uri": "https://localhost:8080/"
        },
        "outputId": "ce57d460-f3ca-46f1-abde-d2a99597f209"
      },
      "outputs": [
        {
          "output_type": "stream",
          "name": "stdout",
          "text": [
            "[==================================================] 100.0% 31.6/31.6MB downloaded\n"
          ]
        }
      ],
      "source": [
        "\n",
        "def load_data():\n",
        "  text8_zip_file_path = api.load('text8', return_path=True)\n",
        "  with gzip.open(text8_zip_file_path, 'rb') as file:\n",
        "    file_content = file.read()\n",
        "  wiki = file_content.decode()\n",
        "  return wiki\n",
        "\n",
        "wiki = load_data()"
      ]
    },
    {
      "cell_type": "markdown",
      "metadata": {
        "id": "QYBT_-Vy_af4",
        "papermill": {
          "duration": 1.449897,
          "end_time": "2020-10-10T13:13:06.611079",
          "exception": false,
          "start_time": "2020-10-10T13:13:05.161182",
          "status": "completed"
        },
        "tags": []
      },
      "source": [
        "### Preprocessing data\n",
        "\n",
        "**Stopwords removal** - Begin by removing stopwords from the dataset, as they provide little to no value in learning word embeddings. Ensure your preprocessing pipeline filters out commonly used words such as \"the,\" \"and,\" or \"of\" that do not contribute to meaningful semantic relationships.\n",
        "\n",
        "---\n",
        "\n",
        "**Subsampling words** - In a large corpora, most frequent words can easily occur hundreds of millions of times and such words usually don't bring much information to the table.  It is of essential importance to cut down on their frequencies to mitigate the negative impact it adds. For example, co-occurrences of \"English\" and \"Spanish\" benefit much more than co-occurrences of \"English\" and \"the\" or \"Spanish\" and \"of\". To counter the imbalance between rare and frequent words Mikolov et. al came up with the following heuristic formula for determining probability to drop a particular word:\n",
        "\n",
        "![formula.png](data:image/png;base64,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)\n",
        "\n",
        "where t is threshold value (heuristically set to 1e-5) and f(w) is frequency of the word.\n",
        "\n",
        "Implement a subsampling mechanism to handle overly frequent words in the corpus. Use the heuristic formula provided by Mikolov et al. to calculate the probability of dropping a word based on its frequency. This step ensures the corpus maintains a balance between rare and frequent words, improving the quality of word co-occurrence relationships.\n",
        "\n",
        "---\n",
        "\n",
        "**Filtering words** - Filter out words that occur only once in the dataset, as they lack sufficient context to be represented effectively. Retain only those words that appear at least five times in the corpus to minimize noise and enhance the overall quality of the embeddings.\n"
      ]
    },
    {
      "cell_type": "code",
      "source": [
        "def preprocess_text(text_input):\n",
        "    \"\"\"\n",
        "    Preprocesses text by removing punctuation, lowercasing,\n",
        "    removing stop words, and filtering infrequent words.\n",
        "    \"\"\"\n",
        "    import string\n",
        "    from nltk.corpus import stopwords\n",
        "    from collections import Counter\n",
        "    import random\n",
        "\n",
        "    # Remove punctuation\n",
        "    translator = str.maketrans(string.punctuation, \" \" * len(string.punctuation))\n",
        "    modified_text = text_input.translate(translator)\n",
        "\n",
        "    # Lowercase and strip whitespace\n",
        "    modified_text = modified_text.lower().strip()\n",
        "\n",
        "    # Tokenize\n",
        "    word_tokens = modified_text.split()\n",
        "\n",
        "    # Remove stop words\n",
        "    stopword_set = set(stopwords.words('english'))\n",
        "    word_tokens = [word for word in word_tokens if word not in stopword_set]\n",
        "\n",
        "    # Filter infrequent words (appearing less than 5 times)\n",
        "    word_counts = Counter(word_tokens)\n",
        "    word_tokens = [word for word in word_tokens if word_counts[word] >= 5]\n",
        "\n",
        "    # Subsampling (downsampling frequent words) - directly in the loop\n",
        "    threshold = 1e-5\n",
        "    total_tokens = sum(word_counts.values())\n",
        "    word_frequencies = {word: count / total_tokens for word, count in word_counts.items()}\n",
        "\n",
        "    filtered_tokens = []\n",
        "    for word in word_tokens:\n",
        "        frequency = word_frequencies[word]\n",
        "        probability_drop = 1 - (threshold / frequency)**0.5\n",
        "        if random.random() > probability_drop:\n",
        "            filtered_tokens.append(word)\n",
        "\n",
        "    final_word_counts = Counter(filtered_tokens)\n",
        "\n",
        "    return filtered_tokens, final_word_counts\n"
      ],
      "metadata": {
        "id": "l2scPMdIt2ow"
      },
      "execution_count": 3,
      "outputs": []
    },
    {
      "cell_type": "code",
      "source": [
        "\n",
        "processed_words, word_counts = preprocess_text(wiki)"
      ],
      "metadata": {
        "id": "XtSrKRnrh1pF"
      },
      "execution_count": 4,
      "outputs": []
    },
    {
      "cell_type": "markdown",
      "metadata": {
        "id": "4260B2ZFJ_EA",
        "papermill": {
          "duration": 1.777391,
          "end_time": "2020-10-10T13:13:14.603396",
          "exception": false,
          "start_time": "2020-10-10T13:13:12.826005",
          "status": "completed"
        },
        "tags": []
      },
      "source": [
        "It's always a good idea to take a quick look at preprocessed sample before heading further - you might observe few things that if handled can enrich or correct your data. More like a validation step this."
      ]
    },
    {
      "cell_type": "code",
      "execution_count": 5,
      "metadata": {
        "execution": {
          "iopub.execute_input": "2020-10-10T13:13:17.665608Z",
          "iopub.status.busy": "2020-10-10T13:13:17.664211Z",
          "iopub.status.idle": "2020-10-10T13:13:17.667915Z",
          "shell.execute_reply": "2020-10-10T13:13:17.668396Z"
        },
        "id": "_oNvdt-v1dw0",
        "papermill": {
          "duration": 1.689149,
          "end_time": "2020-10-10T13:13:17.668521",
          "exception": false,
          "start_time": "2020-10-10T13:13:15.979372",
          "status": "completed"
        },
        "tags": [],
        "colab": {
          "base_uri": "https://localhost:8080/"
        },
        "outputId": "af30eaef-f489-413a-d255-8841f4ca1613"
      },
      "outputs": [
        {
          "output_type": "stream",
          "name": "stdout",
          "text": [
            "Processed words slice (1500-1550): ['hypocrisy', 'anarchism', 'anarchists', 'dismiss', 'prejudices', 'beliefs', 'day', 'anarchists', 'criticise', 'anarchist', 'proudhon', 'fascism', 'cercle', 'proudhon', 'anarcho', 'capitalist', 'bryan', 'caplan', 'treatment', 'fascists', 'fascist', 'sympathizers', 'illegitimate', 'anarchists', 'faction', 'communists', 'fascists', 'criticizes', 'willingness', 'cnt', 'statist', 'republican', 'civil', 'references', 'stanley', 'payne', 'regime', 'claims', 'cnt', 'entered', 'negotiations', 'noam', 'chomsky', 'kind', 'anarchism', 'popular', 'celebrities', 'publicly', 'identify', 'anarchists']\n",
            "Word count (sample): [('originated', 268), ('abuse', 237), ('radicals', 114), ('including', 958), ('diggers', 25)]\n"
          ]
        }
      ],
      "source": [
        "\n",
        "# Take a quick look at a slice of preprocessed words (e.g., index 1500 to 1550)\n",
        "print(f\"Processed words slice (1500-1550): {processed_words[1500:1550]}\")\n",
        "print(f\"Word count (sample): {list(word_counts.items())[:5]}\")"
      ]
    },
    {
      "cell_type": "markdown",
      "metadata": {
        "id": "lCkFtaa_KrTb",
        "papermill": {
          "duration": 1.426874,
          "end_time": "2020-10-10T13:13:20.673211",
          "exception": false,
          "start_time": "2020-10-10T13:13:19.246337",
          "status": "completed"
        },
        "tags": []
      },
      "source": [
        "### Hyperparameters\n",
        "Setting a few hyperparamters required for gnerating batches and for deciding the size of word embeddings.\n",
        "\n"
      ]
    },
    {
      "cell_type": "code",
      "source": [
        "EMBEDDING_DIM = 300\n",
        "BUFFER_SIZE = 10000\n",
        "BATCH_SIZE = 512\n",
        "EPOCHS = 5\n",
        "WINDOW_SIZE = 3\n"
      ],
      "metadata": {
        "id": "N2goZVAiRHN4"
      },
      "execution_count": 6,
      "outputs": []
    },
    {
      "cell_type": "markdown",
      "metadata": {
        "id": "0oO7N0ZsLofI",
        "papermill": {
          "duration": 1.481198,
          "end_time": "2020-10-10T13:13:26.663213",
          "exception": false,
          "start_time": "2020-10-10T13:13:25.182015",
          "status": "completed"
        },
        "tags": []
      },
      "source": [
        "### Preparing TensorFlow Dataset using Skipgrams\n",
        "\n",
        "**Generating Skipgrams**\n",
        "\n",
        "Tokenize your preprocessed textual data and convert the words into their corresponding vectorized tokens. Then, use the `skipgrams` function provided by Keras to generate (word, context) pairs. Ensure the following steps are completed:\n",
        "\n",
        "- Generate positive samples: (word, word in the same window), with label 1.  \n",
        "- Generate negative samples: (word, random word from the vocabulary), with label 0.  \n",
        "\n",
        "Refer to Mikolov et al.'s paper, [Efficient Estimation of Word Representations in Vector Space](https://arxiv.org/pdf/1301.3781v3.pdf), for more details on Skipgrams.\n",
        "\n",
        "---\n",
        "\n",
        "**Negative Sampling**\n",
        "\n",
        "For each input word, implement the negative sampling approach to optimize the training process. Transform the problem of predicting context words into independent binary classification tasks. For every (target, context) pair, generate random negative (target, ~context) samples. This step will reduce computational complexity and make training more efficient.\n"
      ]
    },
    {
      "cell_type": "code",
      "source": [
        "import numpy as np\n",
        "import tensorflow as tf\n",
        "from tensorflow.keras.preprocessing.text import Tokenizer\n",
        "from tensorflow.keras.preprocessing.sequence import skipgrams\n",
        "\n",
        "# Initialize and fit tokenizer\n",
        "word_tokenizer = Tokenizer()\n",
        "word_tokenizer.fit_on_texts(processed_words)\n",
        "\n",
        "# Generate sequences and vocabulary size\n",
        "token_sequences = word_tokenizer.texts_to_sequences([processed_words])[0]\n",
        "vocabulary_size = len(word_tokenizer.word_index) + 1  # +1 for the padding token\n",
        "\n",
        "# Create skipgrams\n",
        "skipgram_pairs, skipgram_labels = skipgrams(\n",
        "    token_sequences,\n",
        "    vocabulary_size=vocabulary_size,\n",
        "    window_size=WINDOW_SIZE,\n",
        "    negative_samples=1.0,\n",
        "    shuffle=True\n",
        ")\n",
        "\n",
        "# Extract targets, contexts, and labels\n",
        "target_words = np.array([pair[0] for pair in skipgram_pairs], dtype=np.int32)\n",
        "context_words = np.array([pair[1] for pair in skipgram_pairs], dtype=np.int32)\n",
        "skipgram_labels = np.array(skipgram_labels, dtype=np.int32)\n",
        "\n",
        "train_data_size = int(len(target_words) * 0.8)\n",
        "\n",
        "X_train_target = target_words[:train_data_size]\n",
        "X_train_context = context_words[:train_data_size]\n",
        "y_train = skipgram_labels[:train_data_size]\n",
        "\n",
        "X_test_target = target_words[train_data_size:]\n",
        "X_test_context = context_words[train_data_size:]\n",
        "y_test = skipgram_labels[train_data_size:]\n",
        "\n",
        "\n",
        "training_dataset = tf.data.Dataset.from_tensor_slices(\n",
        "    ((X_train_target, X_train_context), y_train)\n",
        ")\n",
        "training_dataset = training_dataset.shuffle(BUFFER_SIZE).batch(BATCH_SIZE).prefetch(tf.data.AUTOTUNE)\n",
        "\n",
        "testing_dataset = tf.data.Dataset.from_tensor_slices(\n",
        "    ((X_test_target, X_test_context), y_test)\n",
        ")\n",
        "testing_dataset = testing_dataset.batch(BATCH_SIZE).prefetch(tf.data.AUTOTUNE)\n"
      ],
      "metadata": {
        "id": "6eD9oL-UvOXE"
      },
      "execution_count": 7,
      "outputs": []
    },
    {
      "cell_type": "code",
      "source": [
        "# Calculate the number of batches\n",
        "num_training_batches = len(list(training_dataset))\n",
        "num_testing_batches = len(list(testing_dataset))\n",
        "\n",
        "# Print batch information\n",
        "print(f\"Training Batches: {num_training_batches}\")\n",
        "print(f\"Testing Batches: {num_testing_batches}\")"
      ],
      "metadata": {
        "colab": {
          "base_uri": "https://localhost:8080/"
        },
        "id": "Y8wrHZ5WRvCP",
        "outputId": "456d0bc3-0858-482d-b573-97ac7ee6dd29"
      },
      "execution_count": 9,
      "outputs": [
        {
          "output_type": "stream",
          "name": "stdout",
          "text": [
            "Training Batches: 48054\n",
            "Testing Batches: 12014\n"
          ]
        }
      ]
    },
    {
      "cell_type": "markdown",
      "metadata": {
        "id": "VUatOx50OXF1",
        "papermill": {
          "duration": 1.350656,
          "end_time": "2020-10-10T13:14:15.692486",
          "exception": false,
          "start_time": "2020-10-10T13:14:14.341830",
          "status": "completed"
        },
        "tags": []
      },
      "source": [
        "### Building the Model\n",
        "\n",
        "Use the model subclassing method to build your model. While Sequential and Functional APIs are generally more suitable for most use cases, model subclassing allows you to create the model in an object-oriented way. Follow these steps:\n",
        "\n",
        "1. Define a custom model class by inheriting from `tf.keras.Model`.\n",
        "2. Implement the `__init__` method to define the layers of your model.\n",
        "3. Override the `call` method to define the forward pass of your model.\n",
        "4. Ensure that the model includes embedding layers, a skip-gram architecture, and any other necessary components for training.\n"
      ]
    },
    {
      "cell_type": "code",
      "source": [
        "import tensorflow as tf\n",
        "\n",
        "class SkipGramModel(tf.keras.Model):\n",
        "    def __init__(self, vocab_size, embedding_dim):\n",
        "        \"\"\"\n",
        "        Args:\n",
        "            vocab_size   (int): Size of the vocabulary.\n",
        "            embedding_dim(int): Dimension of the embedding vectors.\n",
        "        \"\"\"\n",
        "        super(SkipGramModel, self).__init__()\n",
        "        self.target_embedding = tf.keras.layers.Embedding(\n",
        "            input_dim=vocab_size,\n",
        "            output_dim=embedding_dim,\n",
        "            input_length=1,\n",
        "            name=\"target_embedding\"\n",
        "        )\n",
        "\n",
        "        self.context_embedding = tf.keras.layers.Embedding(\n",
        "            input_dim=vocab_size,\n",
        "            output_dim=embedding_dim,\n",
        "            input_length=1,\n",
        "            name=\"context_embedding\"\n",
        "        )\n",
        "\n",
        "    def call(self, inputs):\n",
        "        \"\"\"\n",
        "        Defines the forward pass:\n",
        "          inputs: tuple of (target_word, context_word)\n",
        "        Returns:\n",
        "          logits: raw predictions (logits) for binary classification (positive vs. negative)\n",
        "        \"\"\"\n",
        "\n",
        "        target_word, context_word = inputs\n",
        "\n",
        "        target_embeds = self.target_embedding(target_word)\n",
        "        context_embeds = self.context_embedding(context_word)\n",
        "\n",
        "        dot_product = tf.reduce_sum(target_embeds * context_embeds, axis=-1)\n",
        "        return dot_product"
      ],
      "metadata": {
        "id": "HVOf5E7UxRmN"
      },
      "execution_count": 10,
      "outputs": []
    },
    {
      "cell_type": "markdown",
      "metadata": {
        "id": "RN3SV3zv0pXG",
        "papermill": {
          "duration": 1.56129,
          "end_time": "2020-10-10T13:14:22.236946",
          "exception": false,
          "start_time": "2020-10-10T13:14:20.675656",
          "status": "completed"
        },
        "tags": []
      },
      "source": [
        "### Loss function, Metrics and Optimizers"
      ]
    },
    {
      "cell_type": "code",
      "source": [
        "import tensorflow as tf\n",
        "\n",
        "optimiser = tf.keras.optimizers.Adam(learning_rate=0.001)\n",
        "loss_fn = tf.keras.losses.BinaryCrossentropy(from_logits=True)\n",
        "train_acc_metric = tf.keras.metrics.BinaryAccuracy(threshold=0.0, name=\"train_accuracy\")\n",
        "val_acc_metric   = tf.keras.metrics.BinaryAccuracy(threshold=0.0, name=\"val_accuracy\")"
      ],
      "metadata": {
        "id": "1TaSq13GxmQ1"
      },
      "execution_count": 11,
      "outputs": []
    },
    {
      "cell_type": "markdown",
      "metadata": {
        "id": "7eyQ_o1EWuJA",
        "papermill": {
          "duration": 1.384257,
          "end_time": "2020-10-10T13:14:27.862984",
          "exception": false,
          "start_time": "2020-10-10T13:14:26.478727",
          "status": "completed"
        },
        "tags": []
      },
      "source": [
        "### Training the Model\n",
        "\n",
        "Implement custom training for learning word embeddings to gain finer control over optimization and training tasks. Follow these steps:\n",
        "\n",
        "1. Define a custom training loop that includes forward propagation, loss computation, and backpropagation.\n",
        "2. Use the optimizer of your choice to update the model's weights based on the computed gradients.\n",
        "3. Implement batching for efficient data processing during training.\n",
        "4. Monitor the loss during each epoch to track the model's performance.\n",
        "5. Save the trained embeddings for later use once the training is complete."
      ]
    },
    {
      "cell_type": "code",
      "source": [
        "\n",
        "import time\n",
        "import numpy as np\n",
        "\n",
        "@tf.function\n",
        "def train_step(model, optimizer, loss_fn, train_acc_metric, inputs, labels):\n",
        "\n",
        "    with tf.GradientTape() as tape:\n",
        "        predict = model(inputs)\n",
        "        loss_value = loss_fn(labels, predict)\n",
        "\n",
        "    grads = tape.gradient(loss_value, model.trainable_variables)\n",
        "    optimizer.apply_gradients(zip(grads, model.trainable_variables))\n",
        "\n",
        "    # Update metrics\n",
        "    train_acc_metric.update_state(labels, predict)\n",
        "\n",
        "    return loss_value\n",
        "\n",
        "\n",
        "@tf.function\n",
        "def test_step(model, loss_fn, val_acc_metric, inputs, labels):\n",
        "\n",
        "    predict = model(inputs)\n",
        "    loss_value = loss_fn(labels, predict)\n",
        "\n",
        "    # Update validation accuracy\n",
        "    val_acc_metric.update_state(labels, predict)\n",
        "\n",
        "    return loss_value\n",
        "\n",
        "\n",
        "def train_model(\n",
        "    model,\n",
        "    training_data,\n",
        "    validation_data,\n",
        "    optimizer,\n",
        "    loss_function,\n",
        "    train_accuracy_metric,\n",
        "    validation_accuracy_metric,\n",
        "    num_epochs=5\n",
        "):\n",
        "\n",
        "    training_history = []\n",
        "\n",
        "    for epoch in range(num_epochs):\n",
        "        print(f\"\\nEpoch {epoch + 1}/{num_epochs}\")\n",
        "        start_time = time.time()\n",
        "\n",
        "        # Reset metrics for the epoch\n",
        "        train_accuracy_metric.reset_state()\n",
        "        epoch_train_loss = 0.0\n",
        "        num_train_batches = 0\n",
        "\n",
        "        # Training loop\n",
        "        for step, ((target_words, context_words), labels) in enumerate(training_data):\n",
        "            batch_loss = train_step(\n",
        "                model=model,\n",
        "                optimizer=optimizer,\n",
        "                loss_fn=loss_function,\n",
        "                train_acc_metric=train_accuracy_metric,\n",
        "                inputs=(target_words, context_words),\n",
        "                labels=labels\n",
        "            )\n",
        "\n",
        "            epoch_train_loss += batch_loss.numpy()\n",
        "            num_train_batches += 1\n",
        "\n",
        "            if step % 5000 == 0:\n",
        "                print(f\"  [Train Step {step}] Loss: {batch_loss.numpy():0.4f}\")\n",
        "\n",
        "        avg_train_loss = epoch_train_loss / num_train_batches\n",
        "        train_accuracy = train_accuracy_metric.result().numpy()\n",
        "        validation_accuracy_metric.reset_state()\n",
        "        epoch_validation_loss = 0.0\n",
        "        num_validation_batches = 0\n",
        "\n",
        "        # Validation loop\n",
        "        for (target_words, context_words), labels in validation_data:\n",
        "            batch_loss = test_step(\n",
        "                model=model,\n",
        "                loss_fn=loss_function,\n",
        "                val_acc_metric=validation_accuracy_metric,\n",
        "                inputs=(target_words, context_words),\n",
        "                labels=labels\n",
        "            )\n",
        "\n",
        "            epoch_validation_loss += batch_loss.numpy()\n",
        "            num_validation_batches += 1\n",
        "\n",
        "        avg_validation_loss = epoch_validation_loss / num_validation_batches\n",
        "        validation_accuracy = validation_accuracy_metric.result().numpy()\n",
        "\n",
        "        epoch_time = time.time() - start_time\n",
        "        print(f\"Epoch {epoch + 1} - \"\n",
        "              f\"Train Loss: {avg_train_loss:.4f}, Train Acc: {train_accuracy:.4f}, \"\n",
        "              f\"Val Loss: {avg_validation_loss:.4f}, Val Acc: {validation_accuracy:.4f}, \"\n",
        "              f\"Time: {epoch_time:.2f}s\")\n",
        "\n",
        "        # Save history\n",
        "        training_history.append({\n",
        "            \"epoch\": epoch + 1,\n",
        "            \"train_loss\": avg_train_loss,\n",
        "            \"train_acc\": train_accuracy,\n",
        "            \"val_loss\": avg_validation_loss,\n",
        "            \"val_acc\": validation_accuracy,\n",
        "            \"epoch_time\": epoch_time\n",
        "        })\n",
        "\n",
        "    return training_history\n"
      ],
      "metadata": {
        "id": "OU8RgEx90E0i"
      },
      "execution_count": 15,
      "outputs": []
    },
    {
      "cell_type": "code",
      "source": [
        "# Initialize the SkipGram model\n",
        "skipgram_model = SkipGramModel(vocabulary_size, EMBEDDING_DIM)\n",
        "\n",
        "# Train the model\n",
        "training_history = train_model(\n",
        "    model=skipgram_model,\n",
        "    training_data=training_dataset,\n",
        "    validation_data=testing_dataset,\n",
        "    optimizer=optimiser,\n",
        "    loss_function=loss_fn,\n",
        "    train_accuracy_metric=train_acc_metric,\n",
        "    validation_accuracy_metric=val_acc_metric,\n",
        "    num_epochs=EPOCHS\n",
        ")"
      ],
      "metadata": {
        "colab": {
          "base_uri": "https://localhost:8080/"
        },
        "id": "KULZbEs4yA99",
        "outputId": "8d825264-d053-4ae8-bdc4-5d25478af2f4"
      },
      "execution_count": 16,
      "outputs": [
        {
          "metadata": {
            "tags": null
          },
          "name": "stderr",
          "output_type": "stream",
          "text": [
            "/usr/local/lib/python3.10/dist-packages/keras/src/layers/core/embedding.py:90: UserWarning: Argument `input_length` is deprecated. Just remove it.\n",
            "  warnings.warn(\n"
          ]
        },
        {
          "output_type": "stream",
          "name": "stdout",
          "text": [
            "\n",
            "Epoch 1/5\n",
            "  [Train Step 0] Loss: 0.6935\n",
            "  [Train Step 5000] Loss: 0.5242\n",
            "  [Train Step 10000] Loss: 0.4948\n",
            "  [Train Step 15000] Loss: 0.5048\n",
            "  [Train Step 20000] Loss: 0.4493\n",
            "  [Train Step 25000] Loss: 0.4469\n",
            "  [Train Step 30000] Loss: 0.4415\n",
            "  [Train Step 35000] Loss: 0.4625\n",
            "  [Train Step 40000] Loss: 0.4714\n",
            "  [Train Step 45000] Loss: 0.4568\n",
            "Epoch 1 - Train Loss: 0.4929, Train Acc: 0.7751, Val Loss: 0.4465, Val Acc: 0.8085, Time: 1233.27s\n",
            "\n",
            "Epoch 2/5\n",
            "  [Train Step 0] Loss: 0.4664\n",
            "  [Train Step 5000] Loss: 0.3620\n",
            "  [Train Step 10000] Loss: 0.2898\n",
            "  [Train Step 15000] Loss: 0.3035\n",
            "  [Train Step 20000] Loss: 0.2989\n",
            "  [Train Step 25000] Loss: 0.3095\n",
            "  [Train Step 30000] Loss: 0.2773\n",
            "  [Train Step 35000] Loss: 0.2642\n",
            "  [Train Step 40000] Loss: 0.2981\n",
            "  [Train Step 45000] Loss: 0.2535\n",
            "Epoch 2 - Train Loss: 0.2964, Train Acc: 0.8774, Val Loss: 0.4990, Val Acc: 0.8010, Time: 1222.65s\n",
            "\n",
            "Epoch 3/5\n",
            "  [Train Step 0] Loss: 0.2110\n",
            "  [Train Step 5000] Loss: 0.1971\n",
            "  [Train Step 10000] Loss: 0.1892\n",
            "  [Train Step 15000] Loss: 0.1431\n",
            "  [Train Step 20000] Loss: 0.1585\n",
            "  [Train Step 25000] Loss: 0.1340\n",
            "  [Train Step 30000] Loss: 0.1482\n",
            "  [Train Step 35000] Loss: 0.1614\n",
            "  [Train Step 40000] Loss: 0.1307\n",
            "  [Train Step 45000] Loss: 0.1402\n",
            "Epoch 3 - Train Loss: 0.1613, Train Acc: 0.9401, Val Loss: 0.6369, Val Acc: 0.7895, Time: 1230.37s\n",
            "\n",
            "Epoch 4/5\n",
            "  [Train Step 0] Loss: 0.1344\n",
            "  [Train Step 5000] Loss: 0.0820\n",
            "  [Train Step 10000] Loss: 0.0802\n",
            "  [Train Step 15000] Loss: 0.0937\n",
            "  [Train Step 20000] Loss: 0.1057\n",
            "  [Train Step 25000] Loss: 0.0791\n",
            "  [Train Step 30000] Loss: 0.0759\n",
            "  [Train Step 35000] Loss: 0.0705\n",
            "  [Train Step 40000] Loss: 0.1087\n",
            "  [Train Step 45000] Loss: 0.1433\n",
            "Epoch 4 - Train Loss: 0.0929, Train Acc: 0.9698, Val Loss: 0.8035, Val Acc: 0.7831, Time: 1225.92s\n",
            "\n",
            "Epoch 5/5\n",
            "  [Train Step 0] Loss: 0.1234\n",
            "  [Train Step 5000] Loss: 0.0568\n",
            "  [Train Step 10000] Loss: 0.0515\n",
            "  [Train Step 15000] Loss: 0.0605\n",
            "  [Train Step 20000] Loss: 0.0586\n",
            "  [Train Step 25000] Loss: 0.0447\n",
            "  [Train Step 30000] Loss: 0.0424\n",
            "  [Train Step 35000] Loss: 0.0542\n",
            "  [Train Step 40000] Loss: 0.0332\n",
            "  [Train Step 45000] Loss: 0.0566\n",
            "Epoch 5 - Train Loss: 0.0604, Train Acc: 0.9829, Val Loss: 0.9743, Val Acc: 0.7801, Time: 1262.85s\n"
          ]
        }
      ]
    },
    {
      "cell_type": "code",
      "source": [
        "# Create a checkpoint object\n",
        "model_checkpoint = tf.train.Checkpoint(model=skipgram_model)\n",
        "\n",
        "# Save the model weights\n",
        "model_checkpoint.save(\"./skipgram_model_checkpoint\")\n",
        "\n",
        "# Print confirmation\n",
        "print(\"Model weights saved to checkpoint.\")"
      ],
      "metadata": {
        "colab": {
          "base_uri": "https://localhost:8080/"
        },
        "id": "bSbH1OG31DwJ",
        "outputId": "69a6dd48-11b6-4c37-8e00-ad7f632060df"
      },
      "execution_count": 17,
      "outputs": [
        {
          "output_type": "stream",
          "name": "stdout",
          "text": [
            "Model weights saved to checkpoint.\n"
          ]
        }
      ]
    },
    {
      "cell_type": "markdown",
      "metadata": {
        "id": "bb7Wx_rzZOOm",
        "papermill": {
          "duration": 1.591393,
          "end_time": "2020-10-10T13:36:51.938622",
          "exception": false,
          "start_time": "2020-10-10T13:36:50.347229",
          "status": "completed"
        },
        "tags": []
      },
      "source": [
        "### Word Embeddings Projector\n",
        "\n",
        "Follow these steps to visualize the learned word embeddings using TensorFlow's Embedding Projector:\n",
        "\n",
        "1. Extract the weights of the embedding layer from your trained model.\n",
        "2. Save the weights into two files:\n",
        "   - `vecs.tsv`: This file will store the actual vector representations of words.\n",
        "   - `meta.tsv`: This file will store the associated metadata (e.g., word labels) for visualization.\n",
        "3. Go to [TensorFlow Embedding Projector](http://projector.tensorflow.org/).\n",
        "4. Upload the `vecs.tsv` and `meta.tsv` files created in the previous step.\n",
        "5. Explore the visualizations provided by TensorFlow's Embedding Projector.\n",
        "<font color=#ffb578>\n",
        "6.Save the visualization of a word that best demonstrate the quality of your embeddings as an image and store it near the notebook.\n",
        "7. Compress the folder into a `.zip` file and submit it as part of your work.\n",
        "\n",
        "</font>\n"
      ]
    },
    {
      "cell_type": "code",
      "source": [
        "import numpy as np\n",
        "import io\n",
        "\n",
        "# Get target embeddings and word index\n",
        "target_embeddings = skipgram_model.target_embedding.get_weights()[0]\n",
        "word_to_index = word_tokenizer.word_index\n",
        "\n",
        "# Get vocabulary size and embedding dimensions\n",
        "vocabulary_size, embedding_dimension = target_embeddings.shape\n",
        "\n",
        "# Save embeddings and metadata to TSV files\n",
        "with io.open(\"embeddings.tsv\", 'w', encoding='utf-8') as embeddings_file, \\\n",
        "     io.open(\"metadata.tsv\", 'w', encoding='utf-8') as metadata_file:\n",
        "\n",
        "    for word, index in word_to_index.items():\n",
        "        if index < vocabulary_size:\n",
        "            embedding_vector = target_embeddings[index]\n",
        "            embeddings_file.write('\\t'.join(map(str, embedding_vector)) + \"\\n\")\n",
        "            metadata_file.write(word + \"\\n\")\n",
        "\n",
        "print(\"Embedding and metadata TSV files created successfully.\")\n",
        "# Print the shape of the target embeddings\n",
        "print(\"Shape of target embeddings:\", target_embeddings.shape)"
      ],
      "metadata": {
        "colab": {
          "base_uri": "https://localhost:8080/"
        },
        "id": "lEHJZPjQ_4Hm",
        "outputId": "0f16a83b-9e16-4471-b8f6-d9d1a6244e85"
      },
      "execution_count": 18,
      "outputs": [
        {
          "output_type": "stream",
          "name": "stdout",
          "text": [
            "Embedding and metadata TSV files created successfully.\n",
            "Shape of target embeddings: (71141, 300)\n"
          ]
        }
      ]
    }
  ],
  "metadata": {
    "kernelspec": {
      "display_name": "Python 3",
      "name": "python3"
    },
    "language_info": {
      "codemirror_mode": {
        "name": "ipython",
        "version": 3
      },
      "file_extension": ".py",
      "mimetype": "text/x-python",
      "name": "python",
      "nbconvert_exporter": "python",
      "pygments_lexer": "ipython3",
      "version": "3.7.6"
    },
    "papermill": {
      "duration": 1467.163823,
      "end_time": "2020-10-10T13:37:04.319726",
      "environment_variables": {},
      "exception": null,
      "input_path": "__notebook__.ipynb",
      "output_path": "__notebook__.ipynb",
      "parameters": {},
      "start_time": "2020-10-10T13:12:37.155903",
      "version": "2.1.0"
    },
    "colab": {
      "provenance": [],
      "gpuType": "T4"
    },
    "accelerator": "GPU"
  },
  "nbformat": 4,
  "nbformat_minor": 0
}